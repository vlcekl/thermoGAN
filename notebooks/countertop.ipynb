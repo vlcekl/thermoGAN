{
 "cells": [
  {
   "cell_type": "markdown",
   "id": "sound-clarity",
   "metadata": {},
   "source": [
    "# Kitchen renovation costs"
   ]
  },
  {
   "cell_type": "code",
   "execution_count": 20,
   "id": "willing-currency",
   "metadata": {},
   "outputs": [
    {
     "name": "stdout",
     "output_type": "stream",
     "text": [
      "Square feet:  58.778608215\n",
      "Countertop only:  2527.480153245\n",
      "Total price: 4115.266235395\n"
     ]
    }
   ],
   "source": [
    "# Dollars per square foot\n",
    "dollft = 43\n",
    "\n",
    "# Removal of the old countertop\n",
    "removeft = 10\n",
    "\n",
    "# Area of the countertops (square inch -> square feet)\n",
    "ftinch = (12.5*79.75 + 50*(26+1/8) + 186.25*25.25 + 19.75*25.25 + 38*25.25)\n",
    "ftsq = 0.00694444*ftinch  # square inches to square feet\n",
    "print(\"Square feet: \", ftsq)\n",
    "\n",
    "# Total price of the countertops\n",
    "totprice = ftsq*dollft\n",
    "print(\"Countertop only: \", totprice)\n",
    "\n",
    "# Removal of the old contertops\n",
    "totprice += ftsq*removeft\n",
    "\n",
    "# Other expenses\n",
    "totprice += 500         # plumbing\n",
    "totprice += 250 + 250   # sink + installation\n",
    "#totprice += 400 + 100   # dishwasher + installation\n",
    "#totprice += 500 + 100   # electric range + installation\n",
    "\n",
    "print(\"Total price:\", totprice)"
   ]
  },
  {
   "cell_type": "code",
   "execution_count": null,
   "id": "boring-lunch",
   "metadata": {},
   "outputs": [],
   "source": []
  }
 ],
 "metadata": {
  "kernelspec": {
   "display_name": "Python 3",
   "language": "python",
   "name": "python3"
  },
  "language_info": {
   "codemirror_mode": {
    "name": "ipython",
    "version": 3
   },
   "file_extension": ".py",
   "mimetype": "text/x-python",
   "name": "python",
   "nbconvert_exporter": "python",
   "pygments_lexer": "ipython3",
   "version": "3.8.8"
  }
 },
 "nbformat": 4,
 "nbformat_minor": 5
}
