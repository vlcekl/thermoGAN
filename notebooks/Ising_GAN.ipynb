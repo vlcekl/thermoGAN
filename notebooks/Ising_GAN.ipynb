{
 "cells": [
  {
   "cell_type": "markdown",
   "metadata": {
    "id": "wENsJk2Drzy6"
   },
   "source": [
    "January 30, 2021\n",
    "\n",
    "Contributors\n",
    "- Sergei V. Kalinin - concept, GAN, workflow integration and analysis\n",
    "- Mani Valleti - original Ising code, analysis functions\n",
    "- Rama Vasudevan - Ising code adaptation to full functions\n",
    "- Maxim Ziatdinov - VAE and rVAE: \n",
    "- Atienza book: DCGAN and WGAN \n",
    "\n",
    "Funding:\n",
    "- SVK and MV: STEM FWP\n",
    "- MZ: CNMS\n",
    "\n",
    "\n"
   ]
  },
  {
   "cell_type": "markdown",
   "metadata": {
    "id": "WJn1qc6WtDUb"
   },
   "source": [
    "# Ising model"
   ]
  },
  {
   "cell_type": "code",
   "execution_count": 1,
   "metadata": {
    "colab": {
     "base_uri": "https://localhost:8080/"
    },
    "id": "l81iglIH4p_y",
    "outputId": "7eb3c8be-2147-49c9-ae59-a41e104a8de7"
   },
   "outputs": [
    {
     "name": "stderr",
     "output_type": "stream",
     "text": [
      "<ipython-input-1-358934092b0a>:11: MatplotlibDeprecationWarning: \n",
      "The mpl_toolkits.axes_grid1.colorbar module was deprecated in Matplotlib 3.2 and will be removed two minor releases later. Use matplotlib.colorbar instead.\n",
      "  from mpl_toolkits.axes_grid1.colorbar import colorbar\n"
     ]
    }
   ],
   "source": [
    "import numpy as np\n",
    "from numpy.random import rand\n",
    "import matplotlib.pyplot as plt\n",
    "import matplotlib.gridspec as gridspec\n",
    "from tqdm import tqdm\n",
    "\n",
    "import math\n",
    "import os\n",
    "\n",
    "from mpl_toolkits.axes_grid1.axes_divider import make_axes_locatable\n",
    "from mpl_toolkits.axes_grid1.colorbar import colorbar"
   ]
  },
  {
   "cell_type": "code",
   "execution_count": 2,
   "metadata": {
    "cellView": "form",
    "id": "XdI1P9vZLkF5"
   },
   "outputs": [],
   "source": [
    "#@title Ising Model\n",
    "class IsingSim():\n",
    "  \n",
    "  \"\"\"This class performs Ising model simulations on a 2D grid. Interaction parameters are given by a matrix at each lattice site. \n",
    "  Field dependence is not supported at this time but will be in due course. The simulator outputs configurations after equlibrium\n",
    "  as well as the trajectories, if specifically requested.\n",
    "  Inputs:\n",
    "    - N : (integer) - Size of lattice will be N^2. Only 2D square lattice is supported at this stage.\n",
    "    - J_mat: (numpy matrix of shape(5,5)) - entries being floats for interaction parameters. Self-interaction (middle element of matrix)=0. \n",
    "              or: (list) of size(5,5) with each element belonging to scipy distribution from which to draw J value (for bond disorder)\n",
    "    - T: (float) - Reduced temperature for simulation\n",
    "    - save_trajectories: (Boolean) - whether to save trajectories, or only final state. Default False.\n",
    "    - eqSteps: (integer) number of Monte-Carlo steps for equlibration before simulation starts. Default 750. AKA 'burn-in'.\n",
    "    - mcSteps: (integer) number of Monte-Carlo for simulation. Default 750.\n",
    "  Outputs: Several outputs are available, including trajectories (if called), configurations (i.e., the 2D states) and configurations histograms.\n",
    "  These can be obtained by calling methods self.configurations(), self.histograms() and self.trajectories()\"\"\"\n",
    "\n",
    "  def __init__(self, N = 40, J_mat = None, T = 2.7, save_trajectories = False,\n",
    "               eqSteps = 750, mcSteps = 750):\n",
    "    self.N = N\n",
    "    \n",
    "    #If no J matrix is provided we default to isotropic J interaction with NN with value 0.5\n",
    "    if J_mat == None:\n",
    "      J_mat = np.zeros((5,5))\n",
    "      J_mat[1,2] = J_mat[2,1] = J_mat[2,3] = J_mat[3,2] = 0.5 #Defaulting to 0.5 for NN, all others zeroed out.\n",
    "    \n",
    "    self.J_mat = J_mat\n",
    "\n",
    "    try:\n",
    "      rv = J_mat[1,2]\n",
    "    except TypeError:\n",
    "      rv = J_mat[1][2] #in case we have a list\n",
    "      \n",
    "    if 'dist' in str(type(rv)): #in this case we have random bond disorder situation\n",
    "      self.bond_disorder = True\n",
    "      self.J_lattice = self.make_J_lattice()\n",
    "      self.J_mat = None\n",
    "    else:\n",
    "      self.bond_disorder = False\n",
    "      self.J_lattice = None\n",
    "\n",
    "    self.save_trajectories = save_trajectories\n",
    "    self.eqSteps = eqSteps\n",
    "    self.mcSteps = mcSteps\n",
    "    self.config = self.initialState(random = False)\n",
    "    self.T = T\n",
    "    self.configs_list = self.make_configs_list()\n",
    "\n",
    "  def initialState(self, random = False):   \n",
    "    ''' Generates a lattice with spin configurations drawn randomly [-1 or 1] if random=True\n",
    "    Else, the lattice is generated with all sites = 1 '''\n",
    "\n",
    "    if random==True: state = 2*np.random.randint(2, size=(self.N,self.N))-1\n",
    "    else: state = np.ones([self.N,self.N])\n",
    "\n",
    "    return state\n",
    "\n",
    "  def make_J_lattice(self):   \n",
    "\n",
    "    ''' Return a matrix size (N,N,5,5) signifying interaction parameters at each lattice site, drawn from \n",
    "    distributions provided '''\n",
    "\n",
    "    J_lattice = np.zeros(shape=(self.N, self.N, 5,5))\n",
    "    for i in range(self.N):\n",
    "      for j in range(self.N):\n",
    "        for k in range(5):\n",
    "          for l in range(5):\n",
    "            if 'dist' in str(type(self.J_mat[k][l])):\n",
    "              J_lattice[i,j,k,l] = self.J_mat[k][l].rvs(1)\n",
    "            else: J_lattice[i,j,k,l] = self.J_mat[k][l]\n",
    "    \n",
    "    return J_lattice\n",
    "\n",
    "  def mcmove(self, config):\n",
    "    '''Monte Carlo move using Metropolis algorithm '''\n",
    "    \n",
    "    M = 5 #neighborhood size (M^2). Do not change!\n",
    "    beta = 1.0/self.T\n",
    "\n",
    "    for i in range(self.N):\n",
    "      for j in range(self.N):\n",
    "        if self.bond_disorder: J_mat = self.J_lattice[i,j,:,:]\n",
    "        else: J_mat = self.J_mat\n",
    "\n",
    "        cost = 0.0\n",
    "        s =  np.copy(config[i, j])\n",
    "\n",
    "        for p in range(-int(M/2), int(M/2)+1, 1):\n",
    "          for q in range(-int(M/2), int(M/2)+1, 1):\n",
    "            cost += 2 * J_mat[int(M/2)+p, int(M/2)+q] * config[(i+p)%self.N,(j+q)%self.N] * config[i,j]\n",
    "        \n",
    "        if cost < 0:\n",
    "          s *= -1\n",
    "        elif rand() < np.exp(-cost*beta):\n",
    "          s *= -1\n",
    "        config[i, j] = s\n",
    "    return config\n",
    "\n",
    "\n",
    "  def calcEnergy(self, config):\n",
    "    '''Returns the energy of the current configuration'''\n",
    "    M = 5\n",
    "    energy = 0.0\n",
    "    for i in range(len(config)):\n",
    "      for j in range(len(config)):\n",
    "        #In case we have bond disorder\n",
    "        if self.bond_disorder: J_mat = self.J_lattice[i,j,:,:]\n",
    "        else: J_mat = self.J_mat #otherwise, no\n",
    "\n",
    "        s = config[i,j]\n",
    "        for p in range(-int(M/2), int(M/2)+1, 1):\n",
    "          for q in range(-int(M/2), int(M/2)+1, 1):\n",
    "            energy += -J_mat[int(M/2)+p, int(M/2)+q] * config[(i+p)%self.N,(j+q)%self.N] * config[i,j]\n",
    "\n",
    "    return energy/4.0\n",
    "\n",
    "\n",
    "  def calcMag(self, config):\n",
    "    '''Magnetization of a given configuration'''\n",
    "    return float(np.sum(config))\n",
    "\n",
    "  def calcAbsMag(self, config):\n",
    "    ''' Absolute Magnetization of a given configuration'''\n",
    "    return float(np.abs(np.sum(config)))\n",
    "  \n",
    "  def performIsingSim(self):\n",
    "    \n",
    "    E1, M1, E2, M2 = 0.0,0.0,0.0,0.0    #These are all the average properties of all MC steps used\n",
    "        \n",
    "    config = np.copy(self.config)\n",
    "    T = self.T\n",
    "    if self.save_trajectories: config_mat = np.zeros([self.mcSteps,self.N,self.N])   #Saving all the configurations\n",
    "    \n",
    "\n",
    "    print('\\n---Performing Equlibration---\\n')\n",
    "    for i in tqdm(range(self.eqSteps)):\n",
    "        config = self.mcmove(config)\n",
    "\n",
    "    print('\\n---Finished...\\n----Performing MC Moves----\\n')\n",
    "    for j in tqdm(range(self.mcSteps)):\n",
    "        config = self.mcmove(config)\n",
    "        Ene = self.calcEnergy(config)\n",
    "        Mag = self.calcAbsMag(config)\n",
    "\n",
    "        E1 = E1 + Ene\n",
    "        M1 = M1 + Mag\n",
    "        M2 = M2 + Mag * Mag\n",
    "        E2 = E2 + Ene * Ene\n",
    "        \n",
    "        if self.save_trajectories: config_mat[j] = config\n",
    "    \n",
    "    print('Completed. Saving')    \n",
    "    Energy = E1 / (self.mcSteps * self.N * self.N)\n",
    "    Magnetization = M1 / (self.mcSteps * self.N * self.N)\n",
    "    n1, n2  = 1.0/(self.mcSteps*self.N*self.N), 1.0/(self.mcSteps*self.mcSteps*self.N*self.N) \n",
    "    iT = 1.0/self.T\n",
    "    iT2 = iT*iT\n",
    "    SpecificHeat = (n1*E2 - n2*E1*E1)*iT2\n",
    "    Susceptibility = (n1*M2 - n2*M1*M1)*iT\n",
    "    # SpecificHeat = (E2 / self.mcSteps - E1 * E1 / (self.mcSteps * self.mcSteps)) / (self.N * self.T * self.T)\n",
    "    # Susceptibility = (M2 / self.mcSteps - M1 * M1 / (self.mcSteps * self.mcSteps)) / (self.N * self.T)\n",
    "\n",
    "    self.config = config\n",
    "    config_hist, config_hist_norm = self.get_config_histogram()\n",
    "\n",
    "    if self.save_trajectories:\n",
    "      results_dict = {'config': config_mat, 'Energy': Energy, 'Magnetization': Magnetization,\n",
    "      'SpecificHeat': SpecificHeat, 'Susceptibility': Susceptibility, \n",
    "      'Histogram': config_hist_norm}\n",
    "    else:\n",
    "      results_dict = {'Energy': Energy, 'Magnetization': Magnetization,\n",
    "      'SpecificHeat': SpecificHeat, 'Susceptibility': Susceptibility,\n",
    "      'Histogram': config_hist_norm}\n",
    "    \n",
    "    self.results = results_dict\n",
    "\n",
    "    return 'Completed simulation'\n",
    "    \n",
    "  def make_configs_list(self):\n",
    "\n",
    "    #Let's write down possible configurations for nearest neighbors\n",
    "    all_configs = [\n",
    "               #Configurations\n",
    "               \n",
    "               #all -1\n",
    "               [-1,-1,-1,-1,-1],               #1\n",
    "\n",
    "               #one 1\n",
    "               [-1,-1,-1,-1,1],               #2\n",
    "               [-1,-1,-1,1,-1],               #3\n",
    "               [-1,-1,1,-1,-1],               #4\n",
    "               [-1,1,-1,-1,-1],               #5\n",
    "               [1,-1,-1,-1,-1],               #6\n",
    "    \n",
    "               #two 1s\n",
    "               [1,1,-1,-1,-1],               #7\n",
    "               [1,-1,1,-1,-1],               #8\n",
    "               [1,-1,-1,1,-1],               #9\n",
    "               [1,-1,-1,-1,1],               #10\n",
    "               [-1,1,1,-1,-1],               #11\n",
    "               [-1,1,-1,1,-1],               #12\n",
    "               [-1,1,-1,-1,1],               #13\n",
    "               [-1,-1,1,1,-1],               #14\n",
    "               [-1,-1,1,-1,1],               #15\n",
    "               [-1,-1,-1,1,1],               #16\n",
    "               \n",
    "               #three ones\n",
    "               [1,1,1,-1,-1],               #17\n",
    "               [1,1,-1,1,-1],               #18\n",
    "               [1,1,-1,-1,1],               #19\n",
    "               [1,-1,1,1,-1],               #20\n",
    "               [1,-1,1,-1,1],               #21\n",
    "               [1,-1,-1,1,1],               #22\n",
    "               [-1,1,1,1,-1],               #23\n",
    "               [-1,1,-1,1,1],               #24\n",
    "               [-1,-1,1,1,1],               #25\n",
    "               [-1,1,1,-1,1],               #26\n",
    "\n",
    "               #four 1s\n",
    "               [1,-1,1,1,1],               #27\n",
    "               [1,1,-1,1,1],               #28\n",
    "               [1,1,1,-1,1],               #29\n",
    "               [1,1,1,1,-1],               #30\n",
    "               [-1,1,1,1,1],               #31\n",
    "\n",
    "               #five 1s\n",
    "               [1,1,1,1,1],               #32\n",
    "      ]\n",
    "\n",
    "    return all_configs\n",
    "\n",
    "  def get_config_histogram(self):\n",
    "\n",
    "    config_hist = np.zeros(shape=(len(self.configs_list)))\n",
    "\n",
    "    for i in range(self.N):\n",
    "        for j in range(self.N):\n",
    "            cen = self.config[i,j]\n",
    "            a = self.config[(i+1)%self.N,j]\n",
    "            b = self.config[i,(j+1)%self.N]\n",
    "            c = self.config[(i-1)%self.N,j]\n",
    "            d = self.config[i,(j-1)%self.N]\n",
    "            \n",
    "            config_vec = [cen, a, b, c, d]\n",
    "            #Now let's get the configuration number\n",
    "            config_number = self.configs_list.index(config_vec)\n",
    "            config_hist[int(config_number)]=config_hist[int(config_number)]+1\n",
    "\n",
    "    #normalize it to get probabilities\n",
    "    config_hist_norm = config_hist / (self.N * self.N)\n",
    "\n",
    "    return config_hist, config_hist_norm\n",
    "    \n"
   ]
  },
  {
   "cell_type": "code",
   "execution_count": 3,
   "metadata": {
    "cellView": "form",
    "id": "fchejVYQmWPA"
   },
   "outputs": [],
   "source": [
    "#@title Similarity Function (list)\n",
    "#Function that defines how close we are to selected microstructures\n",
    "\n",
    "#Remember that tile will be repeated.  \n",
    "#Consider dividing by magnetization for specific structures (if plus minis does not matter). Now will be done when plotted\n",
    "#Normalized by N^2\n",
    "\n",
    "from scipy import signal\n",
    "from scipy import misc\n",
    "\n",
    "def similarity_function_list(config):\n",
    "  N_Ising = config.shape[1]\n",
    "  T_Ising = config.shape[0]\n",
    "\n",
    "  #this is the tile that we look for\n",
    "  tile_seg_dictionary = {\n",
    "      'FM': [[1., 1., 1.,1], [1.,1.,1.,1],[1., 1., 1.,1],[1.,1.,1.,1]],\n",
    "      'AFM': [[1., -1., 1.,-1], [-1.,1.,-1.,1],[1., -1., 1.,-1],[-1.,1.,-1.,1]],\n",
    "      'D-AFM': [[1., 1., -1.,-1], [1.,1.,-1.,-1],[-1., -1., 1.,1],[-1.,-1.,1.,1]],\n",
    "      'stripe': [[1., 1., 1.,1], [-1.,-1.,-1.,-1],[1., 1., 1.,1],[-1.,-1.,-1.,-1]], \n",
    "      'double stripe': [[1., 1., 1.,1], [1.,1.,1.,1],[-1., -1., -1.,-1],[-1.,-1.,-1.,-1]],\n",
    "      '3:1': [[1., 1., 1.,1], [1.,1.,1.,1],[1., 1., 1.,1],[-1.,-1.,-1.,-1]],\n",
    "      '2:1': [[1., 1.,- 1.,-1], [-1.,-1.,1.,1],[1., 1., -1.,-1],[-1.,-1.,1.,1]],\n",
    "      '3:1_45': [[-1., 1., 1.,1], [1.,-1.,1.,1],[1., 1., -1.,1],[1.,1.,1.,-1]],\n",
    "  }\n",
    "\n",
    "  similarity_dictionary = {}\n",
    "  #extended_tile_dictionary = {}\n",
    "\n",
    "  for key, value in tile_seg_dictionary.items():\n",
    "    tile_seg = tile_seg_dictionary[key]\n",
    "    rep = int(N_Ising/len(tile_seg))\n",
    "    extended_tile = np.tile(tile_seg, [rep, rep]) \n",
    "\n",
    "    #extended_tile_dictionary.update({key: extended_tile})\n",
    "\n",
    "\n",
    "    similarity_array = np.zeros(T_Ising)\n",
    "    similarity_array_T = np.zeros(T_Ising)\n",
    "    for z in range(T_Ising):\n",
    "      similarity_array[z]  = np.amax(signal.correlate2d(config[z, :,:], extended_tile, boundary='wrap', mode='same'))\n",
    "      similarity_array_T[z] = np.amax(signal.correlate2d(config[z, :,:].T, extended_tile, boundary='wrap', mode='same'))\n",
    "      \n",
    "        \n",
    "    similarity = (np.maximum(np.mean(similarity_array),np.mean(similarity_array_T)))/(N_Ising*N_Ising)\n",
    "    similarity_dictionary.update({key: similarity})\n",
    "\n",
    "  return similarity_dictionary"
   ]
  },
  {
   "cell_type": "code",
   "execution_count": 4,
   "metadata": {
    "id": "DPpbXRS5l8P-"
   },
   "outputs": [],
   "source": [
    " #define the model. You should supply a J_mat, like\n",
    "from scipy.stats import norm\n",
    "\n",
    "#Create interactions matrix\n",
    "\n",
    "J_mat = [[0,0,0,0,0],\n",
    "         [0,0,norm(loc=-1.0, scale = 0.01),0,0],\n",
    "         [0,norm(loc=-1.0, scale = 0.01),0,norm(loc=-1.0, scale = 0.01),0],\n",
    "         [0,0,norm(loc=-1.0, scale = 0.01),0,0],\n",
    "         [0,0,0,0,0]\n",
    "         ]\n",
    "\n",
    "#Instantiate Model\n",
    "ising_model =  IsingSim(N=20, J_mat = J_mat, save_trajectories=True, T = 2.4, eqSteps = 100, mcSteps = 100)"
   ]
  },
  {
   "cell_type": "code",
   "execution_count": 5,
   "metadata": {
    "colab": {
     "base_uri": "https://localhost:8080/",
     "height": 211
    },
    "id": "wIJ8rWP9mbMM",
    "outputId": "2a26c647-baa5-4f45-f7b2-b58b40a41525"
   },
   "outputs": [
    {
     "name": "stderr",
     "output_type": "stream",
     "text": [
      "  7%|▋         | 7/100 [00:00<00:01, 67.32it/s]"
     ]
    },
    {
     "name": "stdout",
     "output_type": "stream",
     "text": [
      "\n",
      "---Performing Equlibration---\n",
      "\n"
     ]
    },
    {
     "name": "stderr",
     "output_type": "stream",
     "text": [
      "100%|██████████| 100/100 [00:01<00:00, 69.24it/s]\n",
      "  5%|▌         | 5/100 [00:00<00:02, 40.71it/s]"
     ]
    },
    {
     "name": "stdout",
     "output_type": "stream",
     "text": [
      "\n",
      "---Finished...\n",
      "----Performing MC Moves----\n",
      "\n"
     ]
    },
    {
     "name": "stderr",
     "output_type": "stream",
     "text": [
      "100%|██████████| 100/100 [00:02<00:00, 39.37it/s]"
     ]
    },
    {
     "name": "stdout",
     "output_type": "stream",
     "text": [
      "Completed. Saving\n"
     ]
    },
    {
     "name": "stderr",
     "output_type": "stream",
     "text": [
      "\n"
     ]
    },
    {
     "data": {
      "text/plain": [
       "'Completed simulation'"
      ]
     },
     "execution_count": 5,
     "metadata": {},
     "output_type": "execute_result"
    }
   ],
   "source": [
    "ising_model.performIsingSim()"
   ]
  },
  {
   "cell_type": "code",
   "execution_count": 6,
   "metadata": {
    "colab": {
     "base_uri": "https://localhost:8080/",
     "height": 497
    },
    "id": "jqkBUlfrme8N",
    "outputId": "6dfc88ce-d82e-449f-8592-c3c5b2ae76de"
   },
   "outputs": [
    {
     "name": "stdout",
     "output_type": "stream",
     "text": [
      "config\n",
      "Energy\n",
      "Magnetization\n",
      "SpecificHeat\n",
      "Susceptibility\n",
      "Histogram\n",
      "\n",
      "Energy: -0.672944\n",
      " Susceptibility: 0.031658 \n",
      " Magnetization 0.018050 \n",
      " Specific Heat: 0.314806\n",
      "\n"
     ]
    },
    {
     "data": {
      "text/plain": [
       "<matplotlib.colorbar.Colorbar at 0x7fb696bb2b80>"
      ]
     },
     "execution_count": 6,
     "metadata": {},
     "output_type": "execute_result"
    },
    {
     "data": {
      "image/png": "[encoded data removed]",
      "text/plain": [
       "<Figure size 432x288 with 2 Axes>"
      ]
     },
     "metadata": {
      "needs_background": "light"
     },
     "output_type": "display_data"
    }
   ],
   "source": [
    "results = ising_model.results\n",
    "for key in results: print(key)\n",
    "print(\"\\nEnergy: {0:2f}\\n Susceptibility: {1:2f} \\n Magnetization {2:2f} \\n Specific Heat: {3:2f}\\n\".format(\n",
    "    results['Energy'], \n",
    "      results['Susceptibility'], \n",
    "      results['Magnetization'], \n",
    "      results['SpecificHeat']))\n",
    "\n",
    "config = results['config']\n",
    "histogram = results['Histogram']\n",
    "\n",
    "plt.figure()\n",
    "plt.imshow(config[90,:,:])\n",
    "plt.colorbar()"
   ]
  },
  {
   "cell_type": "code",
   "execution_count": 7,
   "metadata": {
    "id": "IkkDvJRamu7U"
   },
   "outputs": [],
   "source": [
    "#Define the function that takes Jc and Js and returns parameter of interest\n",
    "\n",
    "def J2_to_S_func(Jci, Jsi):\n",
    "\n",
    "  Jc = Jci\n",
    "  Js = Jsi\n",
    "\n",
    "  J_mat = [[0,0,0,0,0],\n",
    "            [0,norm(loc=Js, scale = 0.01),norm(loc=Jc, scale = 0.01),norm(loc=Js, scale = 0.01),0],\n",
    "           [0,norm(loc=Jc, scale = 0.01),0,norm(loc=Jc, scale = 0.01),0],\n",
    "            [0,norm(loc=Js, scale = 0.01),norm(loc=Jc, scale = 0.01),norm(loc=Js, scale = 0.01),0],\n",
    "            [0,0,0,0,0]]\n",
    "\n",
    "  ising_model =  IsingSim(N=20, J_mat = J_mat, save_trajectories=True, T = 1, eqSteps = 200, mcSteps = 200)\n",
    "  ising_model.performIsingSim()\n",
    "  \n",
    "  #st = similarity_function_list(ising_model.results['config'])\n",
    "  #st = ising_model.results['SpecificHeat']\n",
    "\n",
    "  config = ising_model.results['config']\n",
    "\n",
    "  return config  # st['FM']"
   ]
  },
  {
   "cell_type": "code",
   "execution_count": 8,
   "metadata": {
    "colab": {
     "base_uri": "https://localhost:8080/"
    },
    "id": "y7gebwuRnm9H",
    "outputId": "cb8570de-d59e-43c7-f20d-44a6455da7f8"
   },
   "outputs": [
    {
     "name": "stderr",
     "output_type": "stream",
     "text": [
      "  4%|▎         | 7/200 [00:00<00:02, 68.57it/s]"
     ]
    },
    {
     "name": "stdout",
     "output_type": "stream",
     "text": [
      "\n",
      "---Performing Equlibration---\n",
      "\n"
     ]
    },
    {
     "name": "stderr",
     "output_type": "stream",
     "text": [
      "100%|██████████| 200/200 [00:02<00:00, 70.87it/s]\n",
      "  2%|▏         | 4/200 [00:00<00:04, 39.24it/s]"
     ]
    },
    {
     "name": "stdout",
     "output_type": "stream",
     "text": [
      "\n",
      "---Finished...\n",
      "----Performing MC Moves----\n",
      "\n"
     ]
    },
    {
     "name": "stderr",
     "output_type": "stream",
     "text": [
      "100%|██████████| 200/200 [00:04<00:00, 40.71it/s]"
     ]
    },
    {
     "name": "stdout",
     "output_type": "stream",
     "text": [
      "Completed. Saving\n"
     ]
    },
    {
     "name": "stderr",
     "output_type": "stream",
     "text": [
      "\n"
     ]
    }
   ],
   "source": [
    "# Note that Ising function operates on indices\n",
    "# The range of J's is defined within the function\n",
    "\n",
    "ising_data = J2_to_S_func(-0.4, 0)"
   ]
  },
  {
   "cell_type": "code",
   "execution_count": 9,
   "metadata": {
    "colab": {
     "base_uri": "https://localhost:8080/",
     "height": 300
    },
    "id": "S0qLfqSLNivM",
    "outputId": "37e403cd-717b-4b62-a768-df70ccb68331"
   },
   "outputs": [
    {
     "name": "stdout",
     "output_type": "stream",
     "text": [
      "(200, 20, 20)\n"
     ]
    },
    {
     "data": {
      "text/plain": [
       "<matplotlib.image.AxesImage at 0x7fb696acd6a0>"
      ]
     },
     "execution_count": 9,
     "metadata": {},
     "output_type": "execute_result"
    },
    {
     "data": {
      "image/png": "[encoded data removed]",
      "text/plain": [
       "<Figure size 432x288 with 1 Axes>"
      ]
     },
     "metadata": {
      "needs_background": "light"
     },
     "output_type": "display_data"
    }
   ],
   "source": [
    "print(ising_data.shape)\n",
    "plt.imshow(ising_data[2,:,:])"
   ]
  },
  {
   "cell_type": "code",
   "execution_count": 10,
   "metadata": {
    "colab": {
     "base_uri": "https://localhost:8080/",
     "height": 1000
    },
    "id": "SMLLBNuzoCqG",
    "outputId": "64e8d538-de8f-4d43-c535-4b876c08df94"
   },
   "outputs": [
    {
     "name": "stdout",
     "output_type": "stream",
     "text": [
      "Snapshots of Ising model\n"
     ]
    },
    {
     "data": {
      "image/png": "[encoded data removed]",
      "text/plain": [
       "<Figure size 1440x7776 with 200 Axes>"
      ]
     },
     "metadata": {
      "needs_background": "light"
     },
     "output_type": "display_data"
    }
   ],
   "source": [
    "nc = ising_data.shape[0]\n",
    "\n",
    "rows = int(np.ceil(float(nc)/5))\n",
    "cols = int(np.ceil(float(nc)/rows))\n",
    "\n",
    "print('Snapshots of Ising model')\n",
    "gs2 = gridspec.GridSpec(rows, cols)\n",
    "fig2 = plt.figure(figsize = (4*cols, 4*(1+rows//1.5)))   \n",
    "for i in range(nc):\n",
    "    ax2 = fig2.add_subplot(gs2[i])\n",
    "    ax2.imshow(ising_data[i,:,:], cmap = 'jet')\n",
    "    ax2.axis('Off')\n",
    "    # ax2.set_title('Time ' + str(i + 1))\n",
    "plt.show()\n"
   ]
  },
  {
   "cell_type": "markdown",
   "metadata": {
    "id": "C6NMxewvyvJP"
   },
   "source": [
    "**SVK Comment:** This part seems to be working. We define the fucntion that calculates propert of interest via numerical simulation of Ising model. By design, can make any parameter space (up to 24) and output thermodynamic parameters or similarity functions."
   ]
  },
  {
   "cell_type": "markdown",
   "metadata": {
    "id": "TEz2X7wxPSKJ"
   },
   "source": [
    "# Training set - constant J"
   ]
  },
  {
   "cell_type": "markdown",
   "metadata": {
    "id": "4ANmY-jdPXa3"
   },
   "source": [
    "- Need to run Ising model N times for a single set of parameters\n",
    "- Concatenate the ground states taken M times per run\n",
    "- Shuffle the resultant data set. This will form the training set for GAN for a single set of parameters J1, J2\n",
    "\n",
    "Comment: \n",
    "- x_train should be like (60000, 28, 28, 1)"
   ]
  },
  {
   "cell_type": "code",
   "execution_count": 11,
   "metadata": {
    "colab": {
     "base_uri": "https://localhost:8080/"
    },
    "id": "_zQ9X9hIWAxF",
    "outputId": "190212a6-8a6d-4764-a8a6-fb47879695a7"
   },
   "outputs": [
    {
     "name": "stderr",
     "output_type": "stream",
     "text": [
      "  4%|▍         | 8/200 [00:00<00:02, 72.68it/s]"
     ]
    },
    {
     "name": "stdout",
     "output_type": "stream",
     "text": [
      "0\n",
      "\n",
      "---Performing Equlibration---\n",
      "\n"
     ]
    },
    {
     "name": "stderr",
     "output_type": "stream",
     "text": [
      "100%|██████████| 200/200 [00:02<00:00, 71.74it/s]\n",
      "  2%|▎         | 5/200 [00:00<00:04, 40.48it/s]"
     ]
    },
    {
     "name": "stdout",
     "output_type": "stream",
     "text": [
      "\n",
      "---Finished...\n",
      "----Performing MC Moves----\n",
      "\n"
     ]
    },
    {
     "name": "stderr",
     "output_type": "stream",
     "text": [
      "100%|██████████| 200/200 [00:04<00:00, 41.07it/s]\n",
      "  4%|▎         | 7/200 [00:00<00:02, 69.94it/s]"
     ]
    },
    {
     "name": "stdout",
     "output_type": "stream",
     "text": [
      "Completed. Saving\n",
      "1\n",
      "\n",
      "---Performing Equlibration---\n",
      "\n"
     ]
    },
    {
     "name": "stderr",
     "output_type": "stream",
     "text": [
      "100%|██████████| 200/200 [00:02<00:00, 74.22it/s]\n",
      "  2%|▎         | 5/200 [00:00<00:04, 40.98it/s]"
     ]
    },
    {
     "name": "stdout",
     "output_type": "stream",
     "text": [
      "\n",
      "---Finished...\n",
      "----Performing MC Moves----\n",
      "\n"
     ]
    },
    {
     "name": "stderr",
     "output_type": "stream",
     "text": [
      "100%|██████████| 200/200 [00:04<00:00, 41.21it/s]\n",
      "  0%|          | 0/200 [00:00<?, ?it/s]"
     ]
    },
    {
     "name": "stdout",
     "output_type": "stream",
     "text": [
      "Completed. Saving\n",
      "2\n",
      "\n",
      "---Performing Equlibration---\n",
      "\n"
     ]
    },
    {
     "name": "stderr",
     "output_type": "stream",
     "text": [
      "100%|██████████| 200/200 [00:02<00:00, 67.25it/s]\n",
      "  2%|▏         | 4/200 [00:00<00:05, 37.51it/s]"
     ]
    },
    {
     "name": "stdout",
     "output_type": "stream",
     "text": [
      "\n",
      "---Finished...\n",
      "----Performing MC Moves----\n",
      "\n"
     ]
    },
    {
     "name": "stderr",
     "output_type": "stream",
     "text": [
      "100%|██████████| 200/200 [00:05<00:00, 38.49it/s]\n",
      "  4%|▎         | 7/200 [00:00<00:02, 68.10it/s]"
     ]
    },
    {
     "name": "stdout",
     "output_type": "stream",
     "text": [
      "Completed. Saving\n",
      "3\n",
      "\n",
      "---Performing Equlibration---\n",
      "\n"
     ]
    },
    {
     "name": "stderr",
     "output_type": "stream",
     "text": [
      "100%|██████████| 200/200 [00:02<00:00, 72.85it/s]\n",
      "  2%|▎         | 5/200 [00:00<00:04, 41.29it/s]"
     ]
    },
    {
     "name": "stdout",
     "output_type": "stream",
     "text": [
      "\n",
      "---Finished...\n",
      "----Performing MC Moves----\n",
      "\n"
     ]
    },
    {
     "name": "stderr",
     "output_type": "stream",
     "text": [
      "100%|██████████| 200/200 [00:04<00:00, 40.79it/s]\n",
      "  4%|▍         | 8/200 [00:00<00:02, 72.30it/s]"
     ]
    },
    {
     "name": "stdout",
     "output_type": "stream",
     "text": [
      "Completed. Saving\n",
      "4\n",
      "\n",
      "---Performing Equlibration---\n",
      "\n"
     ]
    },
    {
     "name": "stderr",
     "output_type": "stream",
     "text": [
      "100%|██████████| 200/200 [00:02<00:00, 71.96it/s]\n",
      "  2%|▎         | 5/200 [00:00<00:04, 40.46it/s]"
     ]
    },
    {
     "name": "stdout",
     "output_type": "stream",
     "text": [
      "\n",
      "---Finished...\n",
      "----Performing MC Moves----\n",
      "\n"
     ]
    },
    {
     "name": "stderr",
     "output_type": "stream",
     "text": [
      "100%|██████████| 200/200 [00:05<00:00, 39.07it/s]\n",
      "  0%|          | 0/200 [00:00<?, ?it/s]"
     ]
    },
    {
     "name": "stdout",
     "output_type": "stream",
     "text": [
      "Completed. Saving\n",
      "5\n",
      "\n",
      "---Performing Equlibration---\n",
      "\n"
     ]
    },
    {
     "name": "stderr",
     "output_type": "stream",
     "text": [
      "100%|██████████| 200/200 [00:02<00:00, 67.57it/s]\n",
      "  2%|▎         | 5/200 [00:00<00:04, 40.88it/s]"
     ]
    },
    {
     "name": "stdout",
     "output_type": "stream",
     "text": [
      "\n",
      "---Finished...\n",
      "----Performing MC Moves----\n",
      "\n"
     ]
    },
    {
     "name": "stderr",
     "output_type": "stream",
     "text": [
      "100%|██████████| 200/200 [00:04<00:00, 40.43it/s]\n",
      "  0%|          | 0/200 [00:00<?, ?it/s]"
     ]
    },
    {
     "name": "stdout",
     "output_type": "stream",
     "text": [
      "Completed. Saving\n",
      "6\n",
      "\n",
      "---Performing Equlibration---\n",
      "\n"
     ]
    },
    {
     "name": "stderr",
     "output_type": "stream",
     "text": [
      "100%|██████████| 200/200 [00:02<00:00, 74.70it/s]\n",
      "  2%|▎         | 5/200 [00:00<00:04, 41.08it/s]"
     ]
    },
    {
     "name": "stdout",
     "output_type": "stream",
     "text": [
      "\n",
      "---Finished...\n",
      "----Performing MC Moves----\n",
      "\n"
     ]
    },
    {
     "name": "stderr",
     "output_type": "stream",
     "text": [
      "100%|██████████| 200/200 [00:04<00:00, 41.73it/s]\n",
      "  4%|▍         | 8/200 [00:00<00:02, 71.30it/s]"
     ]
    },
    {
     "name": "stdout",
     "output_type": "stream",
     "text": [
      "Completed. Saving\n",
      "7\n",
      "\n",
      "---Performing Equlibration---\n",
      "\n"
     ]
    },
    {
     "name": "stderr",
     "output_type": "stream",
     "text": [
      "100%|██████████| 200/200 [00:02<00:00, 74.60it/s]\n",
      "  2%|▎         | 5/200 [00:00<00:04, 41.96it/s]"
     ]
    },
    {
     "name": "stdout",
     "output_type": "stream",
     "text": [
      "\n",
      "---Finished...\n",
      "----Performing MC Moves----\n",
      "\n"
     ]
    },
    {
     "name": "stderr",
     "output_type": "stream",
     "text": [
      "100%|██████████| 200/200 [00:04<00:00, 41.47it/s]\n",
      "  4%|▍         | 8/200 [00:00<00:02, 73.29it/s]"
     ]
    },
    {
     "name": "stdout",
     "output_type": "stream",
     "text": [
      "Completed. Saving\n",
      "8\n",
      "\n",
      "---Performing Equlibration---\n",
      "\n"
     ]
    },
    {
     "name": "stderr",
     "output_type": "stream",
     "text": [
      "100%|██████████| 200/200 [00:02<00:00, 72.30it/s]\n",
      "  2%|▎         | 5/200 [00:00<00:04, 41.61it/s]"
     ]
    },
    {
     "name": "stdout",
     "output_type": "stream",
     "text": [
      "\n",
      "---Finished...\n",
      "----Performing MC Moves----\n",
      "\n"
     ]
    },
    {
     "name": "stderr",
     "output_type": "stream",
     "text": [
      "100%|██████████| 200/200 [00:04<00:00, 40.55it/s]\n",
      "  0%|          | 0/200 [00:00<?, ?it/s]"
     ]
    },
    {
     "name": "stdout",
     "output_type": "stream",
     "text": [
      "Completed. Saving\n",
      "9\n",
      "\n",
      "---Performing Equlibration---\n",
      "\n"
     ]
    },
    {
     "name": "stderr",
     "output_type": "stream",
     "text": [
      "100%|██████████| 200/200 [00:02<00:00, 73.85it/s]\n",
      "  2%|▏         | 4/200 [00:00<00:05, 38.88it/s]"
     ]
    },
    {
     "name": "stdout",
     "output_type": "stream",
     "text": [
      "\n",
      "---Finished...\n",
      "----Performing MC Moves----\n",
      "\n"
     ]
    },
    {
     "name": "stderr",
     "output_type": "stream",
     "text": [
      "100%|██████████| 200/200 [00:04<00:00, 40.03it/s]\n",
      "  4%|▍         | 8/200 [00:00<00:02, 72.17it/s]"
     ]
    },
    {
     "name": "stdout",
     "output_type": "stream",
     "text": [
      "Completed. Saving\n",
      "10\n",
      "\n",
      "---Performing Equlibration---\n",
      "\n"
     ]
    },
    {
     "name": "stderr",
     "output_type": "stream",
     "text": [
      "100%|██████████| 200/200 [00:02<00:00, 71.60it/s]\n",
      "  2%|▏         | 4/200 [00:00<00:04, 39.60it/s]"
     ]
    },
    {
     "name": "stdout",
     "output_type": "stream",
     "text": [
      "\n",
      "---Finished...\n",
      "----Performing MC Moves----\n",
      "\n"
     ]
    },
    {
     "name": "stderr",
     "output_type": "stream",
     "text": [
      "100%|██████████| 200/200 [00:05<00:00, 39.60it/s]\n",
      "  4%|▍         | 8/200 [00:00<00:02, 73.06it/s]"
     ]
    },
    {
     "name": "stdout",
     "output_type": "stream",
     "text": [
      "Completed. Saving\n",
      "11\n",
      "\n",
      "---Performing Equlibration---\n",
      "\n"
     ]
    },
    {
     "name": "stderr",
     "output_type": "stream",
     "text": [
      "100%|██████████| 200/200 [00:02<00:00, 71.43it/s]\n",
      "  2%|▎         | 5/200 [00:00<00:04, 40.94it/s]"
     ]
    },
    {
     "name": "stdout",
     "output_type": "stream",
     "text": [
      "\n",
      "---Finished...\n",
      "----Performing MC Moves----\n",
      "\n"
     ]
    },
    {
     "name": "stderr",
     "output_type": "stream",
     "text": [
      "100%|██████████| 200/200 [00:04<00:00, 40.34it/s]\n",
      "  0%|          | 0/200 [00:00<?, ?it/s]"
     ]
    },
    {
     "name": "stdout",
     "output_type": "stream",
     "text": [
      "Completed. Saving\n",
      "12\n",
      "\n",
      "---Performing Equlibration---\n",
      "\n"
     ]
    },
    {
     "name": "stderr",
     "output_type": "stream",
     "text": [
      "100%|██████████| 200/200 [00:02<00:00, 70.20it/s]\n",
      "  2%|▎         | 5/200 [00:00<00:04, 42.38it/s]"
     ]
    },
    {
     "name": "stdout",
     "output_type": "stream",
     "text": [
      "\n",
      "---Finished...\n",
      "----Performing MC Moves----\n",
      "\n"
     ]
    },
    {
     "name": "stderr",
     "output_type": "stream",
     "text": [
      "100%|██████████| 200/200 [00:05<00:00, 39.79it/s]\n",
      "  4%|▍         | 8/200 [00:00<00:02, 71.45it/s]"
     ]
    },
    {
     "name": "stdout",
     "output_type": "stream",
     "text": [
      "Completed. Saving\n",
      "13\n",
      "\n",
      "---Performing Equlibration---\n",
      "\n"
     ]
    },
    {
     "name": "stderr",
     "output_type": "stream",
     "text": [
      "100%|██████████| 200/200 [00:02<00:00, 71.28it/s]\n",
      "  2%|▎         | 5/200 [00:00<00:04, 41.48it/s]"
     ]
    },
    {
     "name": "stdout",
     "output_type": "stream",
     "text": [
      "\n",
      "---Finished...\n",
      "----Performing MC Moves----\n",
      "\n"
     ]
    },
    {
     "name": "stderr",
     "output_type": "stream",
     "text": [
      "100%|██████████| 200/200 [00:05<00:00, 39.40it/s]\n",
      "  4%|▎         | 7/200 [00:00<00:03, 64.08it/s]"
     ]
    },
    {
     "name": "stdout",
     "output_type": "stream",
     "text": [
      "Completed. Saving\n",
      "14\n",
      "\n",
      "---Performing Equlibration---\n",
      "\n"
     ]
    },
    {
     "name": "stderr",
     "output_type": "stream",
     "text": [
      "100%|██████████| 200/200 [00:02<00:00, 70.74it/s]\n",
      "  2%|▏         | 4/200 [00:00<00:05, 38.20it/s]"
     ]
    },
    {
     "name": "stdout",
     "output_type": "stream",
     "text": [
      "\n",
      "---Finished...\n",
      "----Performing MC Moves----\n",
      "\n"
     ]
    },
    {
     "name": "stderr",
     "output_type": "stream",
     "text": [
      "100%|██████████| 200/200 [00:05<00:00, 39.61it/s]\n",
      "  4%|▎         | 7/200 [00:00<00:02, 67.82it/s]"
     ]
    },
    {
     "name": "stdout",
     "output_type": "stream",
     "text": [
      "Completed. Saving\n",
      "15\n",
      "\n",
      "---Performing Equlibration---\n",
      "\n"
     ]
    },
    {
     "name": "stderr",
     "output_type": "stream",
     "text": [
      "100%|██████████| 200/200 [00:02<00:00, 67.10it/s]\n",
      "  2%|▏         | 4/200 [00:00<00:05, 39.01it/s]"
     ]
    },
    {
     "name": "stdout",
     "output_type": "stream",
     "text": [
      "\n",
      "---Finished...\n",
      "----Performing MC Moves----\n",
      "\n"
     ]
    },
    {
     "name": "stderr",
     "output_type": "stream",
     "text": [
      "100%|██████████| 200/200 [00:05<00:00, 38.78it/s]\n",
      "  4%|▍         | 8/200 [00:00<00:02, 72.01it/s]"
     ]
    },
    {
     "name": "stdout",
     "output_type": "stream",
     "text": [
      "Completed. Saving\n",
      "16\n",
      "\n",
      "---Performing Equlibration---\n",
      "\n"
     ]
    },
    {
     "name": "stderr",
     "output_type": "stream",
     "text": [
      "100%|██████████| 200/200 [00:02<00:00, 71.41it/s]\n",
      "  2%|▏         | 4/200 [00:00<00:05, 39.16it/s]"
     ]
    },
    {
     "name": "stdout",
     "output_type": "stream",
     "text": [
      "\n",
      "---Finished...\n",
      "----Performing MC Moves----\n",
      "\n"
     ]
    },
    {
     "name": "stderr",
     "output_type": "stream",
     "text": [
      "100%|██████████| 200/200 [00:05<00:00, 39.86it/s]\n",
      "  4%|▍         | 8/200 [00:00<00:02, 71.87it/s]"
     ]
    },
    {
     "name": "stdout",
     "output_type": "stream",
     "text": [
      "Completed. Saving\n",
      "17\n",
      "\n",
      "---Performing Equlibration---\n",
      "\n"
     ]
    },
    {
     "name": "stderr",
     "output_type": "stream",
     "text": [
      "100%|██████████| 200/200 [00:02<00:00, 71.02it/s]\n",
      "  2%|▎         | 5/200 [00:00<00:04, 43.13it/s]"
     ]
    },
    {
     "name": "stdout",
     "output_type": "stream",
     "text": [
      "\n",
      "---Finished...\n",
      "----Performing MC Moves----\n",
      "\n"
     ]
    },
    {
     "name": "stderr",
     "output_type": "stream",
     "text": [
      "100%|██████████| 200/200 [00:04<00:00, 41.74it/s]\n",
      "  4%|▎         | 7/200 [00:00<00:02, 68.58it/s]"
     ]
    },
    {
     "name": "stdout",
     "output_type": "stream",
     "text": [
      "Completed. Saving\n",
      "18\n",
      "\n",
      "---Performing Equlibration---\n",
      "\n"
     ]
    },
    {
     "name": "stderr",
     "output_type": "stream",
     "text": [
      "100%|██████████| 200/200 [00:02<00:00, 73.71it/s]\n",
      "  2%|▎         | 5/200 [00:00<00:04, 41.72it/s]"
     ]
    },
    {
     "name": "stdout",
     "output_type": "stream",
     "text": [
      "\n",
      "---Finished...\n",
      "----Performing MC Moves----\n",
      "\n"
     ]
    },
    {
     "name": "stderr",
     "output_type": "stream",
     "text": [
      "100%|██████████| 200/200 [00:04<00:00, 41.40it/s]\n",
      "  4%|▎         | 7/200 [00:00<00:02, 68.19it/s]"
     ]
    },
    {
     "name": "stdout",
     "output_type": "stream",
     "text": [
      "Completed. Saving\n",
      "19\n",
      "\n",
      "---Performing Equlibration---\n",
      "\n"
     ]
    },
    {
     "name": "stderr",
     "output_type": "stream",
     "text": [
      "100%|██████████| 200/200 [00:02<00:00, 73.86it/s]\n",
      "  2%|▎         | 5/200 [00:00<00:04, 42.46it/s]"
     ]
    },
    {
     "name": "stdout",
     "output_type": "stream",
     "text": [
      "\n",
      "---Finished...\n",
      "----Performing MC Moves----\n",
      "\n"
     ]
    },
    {
     "name": "stderr",
     "output_type": "stream",
     "text": [
      "100%|██████████| 200/200 [00:04<00:00, 41.62it/s]\n",
      "  4%|▍         | 8/200 [00:00<00:02, 72.01it/s]"
     ]
    },
    {
     "name": "stdout",
     "output_type": "stream",
     "text": [
      "Completed. Saving\n",
      "20\n",
      "\n",
      "---Performing Equlibration---\n",
      "\n"
     ]
    },
    {
     "name": "stderr",
     "output_type": "stream",
     "text": [
      "100%|██████████| 200/200 [00:02<00:00, 75.25it/s]\n",
      "  2%|▎         | 5/200 [00:00<00:04, 42.47it/s]"
     ]
    },
    {
     "name": "stdout",
     "output_type": "stream",
     "text": [
      "\n",
      "---Finished...\n",
      "----Performing MC Moves----\n",
      "\n"
     ]
    },
    {
     "name": "stderr",
     "output_type": "stream",
     "text": [
      "100%|██████████| 200/200 [00:04<00:00, 41.61it/s]\n",
      "  0%|          | 0/200 [00:00<?, ?it/s]"
     ]
    },
    {
     "name": "stdout",
     "output_type": "stream",
     "text": [
      "Completed. Saving\n",
      "21\n",
      "\n",
      "---Performing Equlibration---\n",
      "\n"
     ]
    },
    {
     "name": "stderr",
     "output_type": "stream",
     "text": [
      "100%|██████████| 200/200 [00:02<00:00, 71.23it/s]\n",
      "  2%|▎         | 5/200 [00:00<00:04, 42.05it/s]"
     ]
    },
    {
     "name": "stdout",
     "output_type": "stream",
     "text": [
      "\n",
      "---Finished...\n",
      "----Performing MC Moves----\n",
      "\n"
     ]
    },
    {
     "name": "stderr",
     "output_type": "stream",
     "text": [
      "100%|██████████| 200/200 [00:04<00:00, 42.51it/s]\n",
      "  4%|▍         | 8/200 [00:00<00:02, 72.14it/s]"
     ]
    },
    {
     "name": "stdout",
     "output_type": "stream",
     "text": [
      "Completed. Saving\n",
      "22\n",
      "\n",
      "---Performing Equlibration---\n",
      "\n"
     ]
    },
    {
     "name": "stderr",
     "output_type": "stream",
     "text": [
      "100%|██████████| 200/200 [00:02<00:00, 73.16it/s]\n",
      "  2%|▏         | 4/200 [00:00<00:04, 39.34it/s]"
     ]
    },
    {
     "name": "stdout",
     "output_type": "stream",
     "text": [
      "\n",
      "---Finished...\n",
      "----Performing MC Moves----\n",
      "\n"
     ]
    },
    {
     "name": "stderr",
     "output_type": "stream",
     "text": [
      "100%|██████████| 200/200 [00:04<00:00, 42.72it/s]\n",
      "  0%|          | 0/200 [00:00<?, ?it/s]"
     ]
    },
    {
     "name": "stdout",
     "output_type": "stream",
     "text": [
      "Completed. Saving\n",
      "23\n",
      "\n",
      "---Performing Equlibration---\n",
      "\n"
     ]
    },
    {
     "name": "stderr",
     "output_type": "stream",
     "text": [
      "100%|██████████| 200/200 [00:02<00:00, 67.42it/s]\n",
      "  2%|▏         | 4/200 [00:00<00:05, 38.87it/s]"
     ]
    },
    {
     "name": "stdout",
     "output_type": "stream",
     "text": [
      "\n",
      "---Finished...\n",
      "----Performing MC Moves----\n",
      "\n"
     ]
    },
    {
     "name": "stderr",
     "output_type": "stream",
     "text": [
      "100%|██████████| 200/200 [00:04<00:00, 40.21it/s]\n",
      "  3%|▎         | 6/200 [00:00<00:03, 58.50it/s]"
     ]
    },
    {
     "name": "stdout",
     "output_type": "stream",
     "text": [
      "Completed. Saving\n",
      "24\n",
      "\n",
      "---Performing Equlibration---\n",
      "\n"
     ]
    },
    {
     "name": "stderr",
     "output_type": "stream",
     "text": [
      "100%|██████████| 200/200 [00:02<00:00, 75.01it/s]\n",
      "  2%|▎         | 5/200 [00:00<00:04, 42.01it/s]"
     ]
    },
    {
     "name": "stdout",
     "output_type": "stream",
     "text": [
      "\n",
      "---Finished...\n",
      "----Performing MC Moves----\n",
      "\n"
     ]
    },
    {
     "name": "stderr",
     "output_type": "stream",
     "text": [
      "100%|██████████| 200/200 [00:04<00:00, 42.72it/s]\n",
      "  4%|▍         | 8/200 [00:00<00:02, 71.64it/s]"
     ]
    },
    {
     "name": "stdout",
     "output_type": "stream",
     "text": [
      "Completed. Saving\n",
      "25\n",
      "\n",
      "---Performing Equlibration---\n",
      "\n"
     ]
    },
    {
     "name": "stderr",
     "output_type": "stream",
     "text": [
      "100%|██████████| 200/200 [00:02<00:00, 74.32it/s]\n",
      "  2%|▎         | 5/200 [00:00<00:04, 42.55it/s]"
     ]
    },
    {
     "name": "stdout",
     "output_type": "stream",
     "text": [
      "\n",
      "---Finished...\n",
      "----Performing MC Moves----\n",
      "\n"
     ]
    },
    {
     "name": "stderr",
     "output_type": "stream",
     "text": [
      "100%|██████████| 200/200 [00:04<00:00, 41.79it/s]\n",
      "  4%|▍         | 8/200 [00:00<00:02, 71.53it/s]"
     ]
    },
    {
     "name": "stdout",
     "output_type": "stream",
     "text": [
      "Completed. Saving\n",
      "26\n",
      "\n",
      "---Performing Equlibration---\n",
      "\n"
     ]
    },
    {
     "name": "stderr",
     "output_type": "stream",
     "text": [
      "100%|██████████| 200/200 [00:02<00:00, 71.00it/s]\n",
      "  2%|▎         | 5/200 [00:00<00:04, 40.78it/s]"
     ]
    },
    {
     "name": "stdout",
     "output_type": "stream",
     "text": [
      "\n",
      "---Finished...\n",
      "----Performing MC Moves----\n",
      "\n"
     ]
    },
    {
     "name": "stderr",
     "output_type": "stream",
     "text": [
      "100%|██████████| 200/200 [00:05<00:00, 39.98it/s]\n",
      "  0%|          | 0/200 [00:00<?, ?it/s]"
     ]
    },
    {
     "name": "stdout",
     "output_type": "stream",
     "text": [
      "Completed. Saving\n",
      "27\n",
      "\n",
      "---Performing Equlibration---\n",
      "\n"
     ]
    },
    {
     "name": "stderr",
     "output_type": "stream",
     "text": [
      "100%|██████████| 200/200 [00:02<00:00, 70.28it/s]\n",
      "  2%|▎         | 5/200 [00:00<00:04, 40.20it/s]"
     ]
    },
    {
     "name": "stdout",
     "output_type": "stream",
     "text": [
      "\n",
      "---Finished...\n",
      "----Performing MC Moves----\n",
      "\n"
     ]
    },
    {
     "name": "stderr",
     "output_type": "stream",
     "text": [
      "100%|██████████| 200/200 [00:05<00:00, 39.57it/s]\n",
      "  4%|▍         | 8/200 [00:00<00:02, 72.22it/s]"
     ]
    },
    {
     "name": "stdout",
     "output_type": "stream",
     "text": [
      "Completed. Saving\n",
      "28\n",
      "\n",
      "---Performing Equlibration---\n",
      "\n"
     ]
    },
    {
     "name": "stderr",
     "output_type": "stream",
     "text": [
      "100%|██████████| 200/200 [00:02<00:00, 67.20it/s]\n",
      "  2%|▏         | 4/200 [00:00<00:05, 37.83it/s]"
     ]
    },
    {
     "name": "stdout",
     "output_type": "stream",
     "text": [
      "\n",
      "---Finished...\n",
      "----Performing MC Moves----\n",
      "\n"
     ]
    },
    {
     "name": "stderr",
     "output_type": "stream",
     "text": [
      "100%|██████████| 200/200 [00:05<00:00, 38.76it/s]\n",
      "  0%|          | 0/200 [00:00<?, ?it/s]"
     ]
    },
    {
     "name": "stdout",
     "output_type": "stream",
     "text": [
      "Completed. Saving\n",
      "29\n",
      "\n",
      "---Performing Equlibration---\n",
      "\n"
     ]
    },
    {
     "name": "stderr",
     "output_type": "stream",
     "text": [
      "100%|██████████| 200/200 [00:02<00:00, 71.05it/s]\n",
      "  2%|▎         | 5/200 [00:00<00:04, 40.79it/s]"
     ]
    },
    {
     "name": "stdout",
     "output_type": "stream",
     "text": [
      "\n",
      "---Finished...\n",
      "----Performing MC Moves----\n",
      "\n"
     ]
    },
    {
     "name": "stderr",
     "output_type": "stream",
     "text": [
      "100%|██████████| 200/200 [00:04<00:00, 40.16it/s]"
     ]
    },
    {
     "name": "stdout",
     "output_type": "stream",
     "text": [
      "Completed. Saving\n"
     ]
    },
    {
     "name": "stderr",
     "output_type": "stream",
     "text": [
      "\n"
     ]
    }
   ],
   "source": [
    "# Need ot define Ising field size as parameter\n",
    "# And number of saves per run as a parameter\n",
    "\n",
    "ising_temp = []\n",
    "m_iter = 30\n",
    "\n",
    "for j in range(m_iter):\n",
    "  print(j)\n",
    "  ising_data = J2_to_S_func(-0.6, 0)\n",
    "  ising_temp.append(ising_data)\n",
    "\n",
    "ising_temp = np.array(ising_temp).reshape(200*m_iter, 20, 20)\n",
    "x_train = np.expand_dims(ising_temp, 3)  "
   ]
  },
  {
   "cell_type": "code",
   "execution_count": 12,
   "metadata": {
    "id": "odSXms3UtRjV"
   },
   "outputs": [],
   "source": [
    "# Need to add save function\n",
    "# And calculate as a function of J"
   ]
  },
  {
   "cell_type": "code",
   "execution_count": 13,
   "metadata": {
    "id": "KkgNrnwG4OgF"
   },
   "outputs": [],
   "source": [
    "#from google.colab import drive\n",
    "#drive.mount('/content/drive')"
   ]
  },
  {
   "cell_type": "code",
   "execution_count": 14,
   "metadata": {
    "id": "78Od8ltn3zFz"
   },
   "outputs": [],
   "source": [
    "#np.save('test3.npy', a)   \n",
    "#d = np.load('test3.npy')"
   ]
  },
  {
   "cell_type": "code",
   "execution_count": 15,
   "metadata": {
    "colab": {
     "background_save": true,
     "base_uri": "https://localhost:8080/"
    },
    "id": "oVsYaYSPV-Io",
    "outputId": "45042c84-b44f-4296-c4ea-9a42f8eb8023"
   },
   "outputs": [
    {
     "name": "stdout",
     "output_type": "stream",
     "text": [
      "(6000, 20, 20)\n"
     ]
    },
    {
     "data": {
      "text/plain": [
       "(6000, 20, 20, 1)"
      ]
     },
     "execution_count": 15,
     "metadata": {},
     "output_type": "execute_result"
    }
   ],
   "source": [
    "print(np.array(ising_temp).shape)\n",
    "x_train.shape"
   ]
  },
  {
   "cell_type": "code",
   "execution_count": 16,
   "metadata": {
    "colab": {
     "base_uri": "https://localhost:8080/"
    },
    "id": "SsSMGjip0dCo",
    "outputId": "8870d15f-cd83-4be6-8634-7bf02e924f71"
   },
   "outputs": [
    {
     "name": "stdout",
     "output_type": "stream",
     "text": [
      "0.0 1.0\n"
     ]
    }
   ],
   "source": [
    "x_train_gan = (x_train+1)/2\n",
    "print(x_train_gan.min(), x_train_gan.max())"
   ]
  },
  {
   "cell_type": "code",
   "execution_count": 17,
   "metadata": {
    "colab": {
     "base_uri": "https://localhost:8080/"
    },
    "id": "z2ycd_FKjAsI",
    "outputId": "df3f1a57-ba1f-40ff-fc22-e76bda3d3bc0"
   },
   "outputs": [
    {
     "data": {
      "text/plain": [
       "'\\nprint(x_train_gan.shape)\\n\\nfor i, im in enumerate(x_train_gan):\\n  x_train_gan[i,:,:,0] = im[:,:,0] + np.random.normal(loc=0.0, scale=0.1, size=(20,20))\\n'"
      ]
     },
     "execution_count": 17,
     "metadata": {},
     "output_type": "execute_result"
    }
   ],
   "source": [
    "'''\n",
    "print(x_train_gan.shape)\n",
    "\n",
    "for i, im in enumerate(x_train_gan):\n",
    "  x_train_gan[i,:,:,0] = im[:,:,0] + np.random.normal(loc=0.0, scale=0.1, size=(20,20))\n",
    "'''"
   ]
  },
  {
   "cell_type": "code",
   "execution_count": 18,
   "metadata": {
    "colab": {
     "base_uri": "https://localhost:8080/",
     "height": 943
    },
    "id": "YjKI9mIv7rWM",
    "outputId": "6a582dd3-b513-46ad-fb7c-af542240be12"
   },
   "outputs": [
    {
     "name": "stdout",
     "output_type": "stream",
     "text": [
      "Snapshots of Ising model\n"
     ]
    },
    {
     "data": {
      "image/png": "[encoded data removed]",
      "text/plain": [
       "<Figure size 1440x1440 with 30 Axes>"
      ]
     },
     "metadata": {
      "needs_background": "light"
     },
     "output_type": "display_data"
    }
   ],
   "source": [
    "nc = 30 #x_train_gan.shape[0]\n",
    "\n",
    "rows = int(np.ceil(float(nc)/5))\n",
    "cols = int(np.ceil(float(nc)/rows))\n",
    "\n",
    "print('Snapshots of Ising model')\n",
    "gs2 = gridspec.GridSpec(rows, cols)\n",
    "fig2 = plt.figure(figsize = (4*cols, 4*(1+rows//1.5)))   \n",
    "for i in range(nc):\n",
    "    ax2 = fig2.add_subplot(gs2[i])\n",
    "    ax2.imshow(x_train_gan[i,:,:,0], cmap = 'jet')\n",
    "    ax2.axis('Off')\n",
    "    # ax2.set_title('Time ' + str(i + 1))\n",
    "plt.show()"
   ]
  },
  {
   "cell_type": "code",
   "execution_count": 19,
   "metadata": {
    "colab": {
     "base_uri": "https://localhost:8080/"
    },
    "id": "nqvYLjNZxNBT",
    "outputId": "1dc1f10a-ecd4-4f53-fba6-98e8be63f25c"
   },
   "outputs": [
    {
     "name": "stdout",
     "output_type": "stream",
     "text": [
      "0.0 1.0\n"
     ]
    }
   ],
   "source": [
    "print(x_train_gan.min(), x_train_gan.max())"
   ]
  },
  {
   "cell_type": "markdown",
   "metadata": {
    "id": "59NFTHz8zf_H"
   },
   "source": [
    "# Training set - variable J"
   ]
  },
  {
   "cell_type": "code",
   "execution_count": null,
   "metadata": {
    "colab": {
     "base_uri": "https://localhost:8080/"
    },
    "id": "_iqfZlKizjw0",
    "outputId": "76adaeff-d54a-4c1d-9b7a-032de5553b1b"
   },
   "outputs": [
    {
     "name": "stdout",
     "output_type": "stream",
     "text": [
      "0 -1.0\n"
     ]
    },
    {
     "name": "stderr",
     "output_type": "stream",
     "text": [
      "  3%|▎         | 6/200 [00:00<00:03, 54.83it/s]"
     ]
    },
    {
     "name": "stdout",
     "output_type": "stream",
     "text": [
      "\n",
      "---Performing Equlibration---\n",
      "\n"
     ]
    },
    {
     "name": "stderr",
     "output_type": "stream",
     "text": [
      "100%|██████████| 200/200 [00:03<00:00, 55.62it/s]\n",
      "  2%|▏         | 4/200 [00:00<00:06, 30.69it/s]"
     ]
    },
    {
     "name": "stdout",
     "output_type": "stream",
     "text": [
      "\n",
      "---Finished...\n",
      "----Performing MC Moves----\n",
      "\n"
     ]
    },
    {
     "name": "stderr",
     "output_type": "stream",
     "text": [
      "100%|██████████| 200/200 [00:06<00:00, 30.96it/s]\n",
      "  3%|▎         | 6/200 [00:00<00:03, 54.03it/s]"
     ]
    },
    {
     "name": "stdout",
     "output_type": "stream",
     "text": [
      "Completed. Saving\n",
      "1 -0.9875\n",
      "\n",
      "---Performing Equlibration---\n",
      "\n"
     ]
    },
    {
     "name": "stderr",
     "output_type": "stream",
     "text": [
      "100%|██████████| 200/200 [00:03<00:00, 53.60it/s]\n",
      "  2%|▏         | 3/200 [00:00<00:06, 29.62it/s]"
     ]
    },
    {
     "name": "stdout",
     "output_type": "stream",
     "text": [
      "\n",
      "---Finished...\n",
      "----Performing MC Moves----\n",
      "\n"
     ]
    },
    {
     "name": "stderr",
     "output_type": "stream",
     "text": [
      "100%|██████████| 200/200 [00:06<00:00, 30.66it/s]\n",
      "  3%|▎         | 6/200 [00:00<00:03, 52.43it/s]"
     ]
    },
    {
     "name": "stdout",
     "output_type": "stream",
     "text": [
      "Completed. Saving\n",
      "2 -0.975\n",
      "\n",
      "---Performing Equlibration---\n",
      "\n"
     ]
    },
    {
     "name": "stderr",
     "output_type": "stream",
     "text": [
      "100%|██████████| 200/200 [00:03<00:00, 54.09it/s]\n",
      "  2%|▏         | 3/200 [00:00<00:06, 29.85it/s]"
     ]
    },
    {
     "name": "stdout",
     "output_type": "stream",
     "text": [
      "\n",
      "---Finished...\n",
      "----Performing MC Moves----\n",
      "\n"
     ]
    },
    {
     "name": "stderr",
     "output_type": "stream",
     "text": [
      "100%|██████████| 200/200 [00:06<00:00, 30.66it/s]\n",
      "  3%|▎         | 6/200 [00:00<00:03, 53.95it/s]"
     ]
    },
    {
     "name": "stdout",
     "output_type": "stream",
     "text": [
      "Completed. Saving\n",
      "3 -0.9625\n",
      "\n",
      "---Performing Equlibration---\n",
      "\n"
     ]
    },
    {
     "name": "stderr",
     "output_type": "stream",
     "text": [
      "100%|██████████| 200/200 [00:03<00:00, 53.49it/s]\n",
      "  2%|▏         | 4/200 [00:00<00:06, 29.48it/s]"
     ]
    },
    {
     "name": "stdout",
     "output_type": "stream",
     "text": [
      "\n",
      "---Finished...\n",
      "----Performing MC Moves----\n",
      "\n"
     ]
    },
    {
     "name": "stderr",
     "output_type": "stream",
     "text": [
      "100%|██████████| 200/200 [00:06<00:00, 30.96it/s]\n",
      "  3%|▎         | 6/200 [00:00<00:03, 53.72it/s]"
     ]
    },
    {
     "name": "stdout",
     "output_type": "stream",
     "text": [
      "Completed. Saving\n",
      "4 -0.95\n",
      "\n",
      "---Performing Equlibration---\n",
      "\n"
     ]
    },
    {
     "name": "stderr",
     "output_type": "stream",
     "text": [
      "100%|██████████| 200/200 [00:03<00:00, 54.96it/s]\n",
      "  2%|▏         | 4/200 [00:00<00:06, 32.59it/s]"
     ]
    },
    {
     "name": "stdout",
     "output_type": "stream",
     "text": [
      "\n",
      "---Finished...\n",
      "----Performing MC Moves----\n",
      "\n"
     ]
    },
    {
     "name": "stderr",
     "output_type": "stream",
     "text": [
      "100%|██████████| 200/200 [00:06<00:00, 30.97it/s]\n",
      "  3%|▎         | 6/200 [00:00<00:03, 53.68it/s]"
     ]
    },
    {
     "name": "stdout",
     "output_type": "stream",
     "text": [
      "Completed. Saving\n",
      "5 -0.9375\n",
      "\n",
      "---Performing Equlibration---\n",
      "\n"
     ]
    },
    {
     "name": "stderr",
     "output_type": "stream",
     "text": [
      "100%|██████████| 200/200 [00:03<00:00, 54.40it/s]\n",
      "  2%|▏         | 4/200 [00:00<00:06, 31.35it/s]"
     ]
    },
    {
     "name": "stdout",
     "output_type": "stream",
     "text": [
      "\n",
      "---Finished...\n",
      "----Performing MC Moves----\n",
      "\n"
     ]
    },
    {
     "name": "stderr",
     "output_type": "stream",
     "text": [
      "100%|██████████| 200/200 [00:06<00:00, 30.44it/s]\n"
     ]
    },
    {
     "name": "stdout",
     "output_type": "stream",
     "text": [
      "Completed. Saving\n",
      "6 -0.925\n"
     ]
    },
    {
     "name": "stderr",
     "output_type": "stream",
     "text": [
      "  3%|▎         | 6/200 [00:00<00:03, 55.34it/s]"
     ]
    },
    {
     "name": "stdout",
     "output_type": "stream",
     "text": [
      "\n",
      "---Performing Equlibration---\n",
      "\n"
     ]
    },
    {
     "name": "stderr",
     "output_type": "stream",
     "text": [
      "100%|██████████| 200/200 [00:03<00:00, 54.64it/s]\n",
      "  2%|▏         | 4/200 [00:00<00:06, 32.53it/s]"
     ]
    },
    {
     "name": "stdout",
     "output_type": "stream",
     "text": [
      "\n",
      "---Finished...\n",
      "----Performing MC Moves----\n",
      "\n"
     ]
    },
    {
     "name": "stderr",
     "output_type": "stream",
     "text": [
      "100%|██████████| 200/200 [00:06<00:00, 31.37it/s]\n"
     ]
    },
    {
     "name": "stdout",
     "output_type": "stream",
     "text": [
      "Completed. Saving\n",
      "7 -0.9125\n",
      "\n",
      "---Performing Equlibration---\n",
      "\n"
     ]
    },
    {
     "name": "stderr",
     "output_type": "stream",
     "text": [
      "100%|██████████| 200/200 [00:03<00:00, 56.29it/s]\n",
      "  2%|▏         | 4/200 [00:00<00:06, 31.96it/s]"
     ]
    },
    {
     "name": "stdout",
     "output_type": "stream",
     "text": [
      "\n",
      "---Finished...\n",
      "----Performing MC Moves----\n",
      "\n"
     ]
    },
    {
     "name": "stderr",
     "output_type": "stream",
     "text": [
      "100%|██████████| 200/200 [00:06<00:00, 31.08it/s]\n",
      "  3%|▎         | 6/200 [00:00<00:03, 55.44it/s]"
     ]
    },
    {
     "name": "stdout",
     "output_type": "stream",
     "text": [
      "Completed. Saving\n",
      "8 -0.9\n",
      "\n",
      "---Performing Equlibration---\n",
      "\n"
     ]
    },
    {
     "name": "stderr",
     "output_type": "stream",
     "text": [
      "100%|██████████| 200/200 [00:03<00:00, 52.84it/s]\n",
      "  2%|▏         | 4/200 [00:00<00:06, 32.24it/s]"
     ]
    },
    {
     "name": "stdout",
     "output_type": "stream",
     "text": [
      "\n",
      "---Finished...\n",
      "----Performing MC Moves----\n",
      "\n"
     ]
    },
    {
     "name": "stderr",
     "output_type": "stream",
     "text": [
      "100%|██████████| 200/200 [00:06<00:00, 30.72it/s]\n"
     ]
    },
    {
     "name": "stdout",
     "output_type": "stream",
     "text": [
      "Completed. Saving\n",
      "9 -0.8875\n",
      "\n",
      "---Performing Equlibration---\n",
      "\n"
     ]
    },
    {
     "name": "stderr",
     "output_type": "stream",
     "text": [
      "100%|██████████| 200/200 [00:03<00:00, 54.67it/s]\n",
      "  2%|▏         | 4/200 [00:00<00:06, 31.56it/s]"
     ]
    },
    {
     "name": "stdout",
     "output_type": "stream",
     "text": [
      "\n",
      "---Finished...\n",
      "----Performing MC Moves----\n",
      "\n"
     ]
    },
    {
     "name": "stderr",
     "output_type": "stream",
     "text": [
      "100%|██████████| 200/200 [00:06<00:00, 30.74it/s]\n",
      "  3%|▎         | 6/200 [00:00<00:03, 54.42it/s]"
     ]
    },
    {
     "name": "stdout",
     "output_type": "stream",
     "text": [
      "Completed. Saving\n",
      "10 -0.875\n",
      "\n",
      "---Performing Equlibration---\n",
      "\n"
     ]
    },
    {
     "name": "stderr",
     "output_type": "stream",
     "text": [
      "100%|██████████| 200/200 [00:03<00:00, 53.98it/s]\n",
      "  2%|▏         | 4/200 [00:00<00:06, 30.22it/s]"
     ]
    },
    {
     "name": "stdout",
     "output_type": "stream",
     "text": [
      "\n",
      "---Finished...\n",
      "----Performing MC Moves----\n",
      "\n"
     ]
    },
    {
     "name": "stderr",
     "output_type": "stream",
     "text": [
      "100%|██████████| 200/200 [00:06<00:00, 31.44it/s]\n",
      "  3%|▎         | 6/200 [00:00<00:03, 56.45it/s]"
     ]
    },
    {
     "name": "stdout",
     "output_type": "stream",
     "text": [
      "Completed. Saving\n",
      "11 -0.8625\n",
      "\n",
      "---Performing Equlibration---\n",
      "\n"
     ]
    },
    {
     "name": "stderr",
     "output_type": "stream",
     "text": [
      "100%|██████████| 200/200 [00:03<00:00, 56.13it/s]\n",
      "  2%|▏         | 4/200 [00:00<00:06, 32.21it/s]"
     ]
    },
    {
     "name": "stdout",
     "output_type": "stream",
     "text": [
      "\n",
      "---Finished...\n",
      "----Performing MC Moves----\n",
      "\n"
     ]
    },
    {
     "name": "stderr",
     "output_type": "stream",
     "text": [
      "100%|██████████| 200/200 [00:06<00:00, 31.47it/s]\n"
     ]
    },
    {
     "name": "stdout",
     "output_type": "stream",
     "text": [
      "Completed. Saving\n",
      "12 -0.85\n",
      "\n",
      "---Performing Equlibration---\n",
      "\n"
     ]
    },
    {
     "name": "stderr",
     "output_type": "stream",
     "text": [
      "100%|██████████| 200/200 [00:03<00:00, 54.18it/s]\n",
      "  2%|▏         | 3/200 [00:00<00:07, 27.25it/s]"
     ]
    },
    {
     "name": "stdout",
     "output_type": "stream",
     "text": [
      "\n",
      "---Finished...\n",
      "----Performing MC Moves----\n",
      "\n"
     ]
    },
    {
     "name": "stderr",
     "output_type": "stream",
     "text": [
      "100%|██████████| 200/200 [00:06<00:00, 31.56it/s]\n",
      "  3%|▎         | 6/200 [00:00<00:03, 55.35it/s]"
     ]
    },
    {
     "name": "stdout",
     "output_type": "stream",
     "text": [
      "Completed. Saving\n",
      "13 -0.8375\n",
      "\n",
      "---Performing Equlibration---\n",
      "\n"
     ]
    },
    {
     "name": "stderr",
     "output_type": "stream",
     "text": [
      "100%|██████████| 200/200 [00:03<00:00, 55.20it/s]\n",
      "  2%|▏         | 4/200 [00:00<00:06, 31.43it/s]"
     ]
    },
    {
     "name": "stdout",
     "output_type": "stream",
     "text": [
      "\n",
      "---Finished...\n",
      "----Performing MC Moves----\n",
      "\n"
     ]
    },
    {
     "name": "stderr",
     "output_type": "stream",
     "text": [
      "100%|██████████| 200/200 [00:06<00:00, 31.46it/s]\n"
     ]
    },
    {
     "name": "stdout",
     "output_type": "stream",
     "text": [
      "Completed. Saving\n",
      "14 -0.825\n",
      "\n",
      "---Performing Equlibration---\n",
      "\n"
     ]
    },
    {
     "name": "stderr",
     "output_type": "stream",
     "text": [
      "100%|██████████| 200/200 [00:03<00:00, 56.13it/s]\n",
      "  2%|▏         | 4/200 [00:00<00:06, 31.84it/s]"
     ]
    },
    {
     "name": "stdout",
     "output_type": "stream",
     "text": [
      "\n",
      "---Finished...\n",
      "----Performing MC Moves----\n",
      "\n"
     ]
    },
    {
     "name": "stderr",
     "output_type": "stream",
     "text": [
      "100%|██████████| 200/200 [00:06<00:00, 31.21it/s]\n",
      "  3%|▎         | 6/200 [00:00<00:03, 51.16it/s]"
     ]
    },
    {
     "name": "stdout",
     "output_type": "stream",
     "text": [
      "Completed. Saving\n",
      "15 -0.8125\n",
      "\n",
      "---Performing Equlibration---\n",
      "\n"
     ]
    },
    {
     "name": "stderr",
     "output_type": "stream",
     "text": [
      "100%|██████████| 200/200 [00:03<00:00, 55.94it/s]\n",
      "  2%|▏         | 4/200 [00:00<00:06, 31.58it/s]"
     ]
    },
    {
     "name": "stdout",
     "output_type": "stream",
     "text": [
      "\n",
      "---Finished...\n",
      "----Performing MC Moves----\n",
      "\n"
     ]
    },
    {
     "name": "stderr",
     "output_type": "stream",
     "text": [
      "100%|██████████| 200/200 [00:06<00:00, 31.69it/s]\n",
      "  3%|▎         | 6/200 [00:00<00:03, 55.56it/s]"
     ]
    },
    {
     "name": "stdout",
     "output_type": "stream",
     "text": [
      "Completed. Saving\n",
      "16 -0.8\n",
      "\n",
      "---Performing Equlibration---\n",
      "\n"
     ]
    },
    {
     "name": "stderr",
     "output_type": "stream",
     "text": [
      "100%|██████████| 200/200 [00:03<00:00, 54.33it/s]\n",
      "  2%|▏         | 4/200 [00:00<00:06, 32.00it/s]"
     ]
    },
    {
     "name": "stdout",
     "output_type": "stream",
     "text": [
      "\n",
      "---Finished...\n",
      "----Performing MC Moves----\n",
      "\n"
     ]
    },
    {
     "name": "stderr",
     "output_type": "stream",
     "text": [
      "100%|██████████| 200/200 [00:06<00:00, 31.07it/s]\n",
      "  3%|▎         | 6/200 [00:00<00:03, 49.95it/s]"
     ]
    },
    {
     "name": "stdout",
     "output_type": "stream",
     "text": [
      "Completed. Saving\n",
      "17 -0.7875\n",
      "\n",
      "---Performing Equlibration---\n",
      "\n"
     ]
    },
    {
     "name": "stderr",
     "output_type": "stream",
     "text": [
      "100%|██████████| 200/200 [00:03<00:00, 53.27it/s]\n",
      "  2%|▏         | 4/200 [00:00<00:06, 31.02it/s]"
     ]
    },
    {
     "name": "stdout",
     "output_type": "stream",
     "text": [
      "\n",
      "---Finished...\n",
      "----Performing MC Moves----\n",
      "\n"
     ]
    },
    {
     "name": "stderr",
     "output_type": "stream",
     "text": [
      "100%|██████████| 200/200 [00:06<00:00, 31.03it/s]\n"
     ]
    },
    {
     "name": "stdout",
     "output_type": "stream",
     "text": [
      "Completed. Saving\n",
      "18 -0.775\n",
      "\n",
      "---Performing Equlibration---\n",
      "\n"
     ]
    },
    {
     "name": "stderr",
     "output_type": "stream",
     "text": [
      "100%|██████████| 200/200 [00:03<00:00, 55.87it/s]\n",
      "  2%|▏         | 4/200 [00:00<00:06, 31.65it/s]"
     ]
    },
    {
     "name": "stdout",
     "output_type": "stream",
     "text": [
      "\n",
      "---Finished...\n",
      "----Performing MC Moves----\n",
      "\n"
     ]
    },
    {
     "name": "stderr",
     "output_type": "stream",
     "text": [
      "100%|██████████| 200/200 [00:06<00:00, 31.21it/s]\n",
      "  3%|▎         | 6/200 [00:00<00:03, 54.59it/s]"
     ]
    },
    {
     "name": "stdout",
     "output_type": "stream",
     "text": [
      "Completed. Saving\n",
      "19 -0.7625\n",
      "\n",
      "---Performing Equlibration---\n",
      "\n"
     ]
    },
    {
     "name": "stderr",
     "output_type": "stream",
     "text": [
      "100%|██████████| 200/200 [00:03<00:00, 55.36it/s]\n",
      "  2%|▏         | 4/200 [00:00<00:06, 32.42it/s]"
     ]
    },
    {
     "name": "stdout",
     "output_type": "stream",
     "text": [
      "\n",
      "---Finished...\n",
      "----Performing MC Moves----\n",
      "\n"
     ]
    },
    {
     "name": "stderr",
     "output_type": "stream",
     "text": [
      "100%|██████████| 200/200 [00:06<00:00, 31.15it/s]\n",
      "  3%|▎         | 6/200 [00:00<00:03, 56.41it/s]"
     ]
    },
    {
     "name": "stdout",
     "output_type": "stream",
     "text": [
      "Completed. Saving\n",
      "20 -0.75\n",
      "\n",
      "---Performing Equlibration---\n",
      "\n"
     ]
    },
    {
     "name": "stderr",
     "output_type": "stream",
     "text": [
      "100%|██████████| 200/200 [00:03<00:00, 55.03it/s]\n",
      "  2%|▏         | 4/200 [00:00<00:06, 31.11it/s]"
     ]
    },
    {
     "name": "stdout",
     "output_type": "stream",
     "text": [
      "\n",
      "---Finished...\n",
      "----Performing MC Moves----\n",
      "\n"
     ]
    },
    {
     "name": "stderr",
     "output_type": "stream",
     "text": [
      "100%|██████████| 200/200 [00:06<00:00, 31.28it/s]\n",
      "  3%|▎         | 6/200 [00:00<00:03, 54.87it/s]"
     ]
    },
    {
     "name": "stdout",
     "output_type": "stream",
     "text": [
      "Completed. Saving\n",
      "21 -0.7375\n",
      "\n",
      "---Performing Equlibration---\n",
      "\n"
     ]
    },
    {
     "name": "stderr",
     "output_type": "stream",
     "text": [
      "100%|██████████| 200/200 [00:03<00:00, 53.58it/s]\n",
      "  2%|▏         | 3/200 [00:00<00:06, 28.31it/s]"
     ]
    },
    {
     "name": "stdout",
     "output_type": "stream",
     "text": [
      "\n",
      "---Finished...\n",
      "----Performing MC Moves----\n",
      "\n"
     ]
    },
    {
     "name": "stderr",
     "output_type": "stream",
     "text": [
      "100%|██████████| 200/200 [00:06<00:00, 30.59it/s]\n",
      "  3%|▎         | 6/200 [00:00<00:03, 53.01it/s]"
     ]
    },
    {
     "name": "stdout",
     "output_type": "stream",
     "text": [
      "Completed. Saving\n",
      "22 -0.725\n",
      "\n",
      "---Performing Equlibration---\n",
      "\n"
     ]
    },
    {
     "name": "stderr",
     "output_type": "stream",
     "text": [
      "100%|██████████| 200/200 [00:03<00:00, 55.05it/s]\n",
      "  2%|▏         | 4/200 [00:00<00:06, 31.63it/s]"
     ]
    },
    {
     "name": "stdout",
     "output_type": "stream",
     "text": [
      "\n",
      "---Finished...\n",
      "----Performing MC Moves----\n",
      "\n"
     ]
    },
    {
     "name": "stderr",
     "output_type": "stream",
     "text": [
      "100%|██████████| 200/200 [00:06<00:00, 31.12it/s]\n",
      "  3%|▎         | 6/200 [00:00<00:03, 56.97it/s]"
     ]
    },
    {
     "name": "stdout",
     "output_type": "stream",
     "text": [
      "Completed. Saving\n",
      "23 -0.7125\n",
      "\n",
      "---Performing Equlibration---\n",
      "\n"
     ]
    },
    {
     "name": "stderr",
     "output_type": "stream",
     "text": [
      "100%|██████████| 200/200 [00:03<00:00, 54.92it/s]\n",
      "  2%|▏         | 3/200 [00:00<00:06, 29.95it/s]"
     ]
    },
    {
     "name": "stdout",
     "output_type": "stream",
     "text": [
      "\n",
      "---Finished...\n",
      "----Performing MC Moves----\n",
      "\n"
     ]
    },
    {
     "name": "stderr",
     "output_type": "stream",
     "text": [
      "100%|██████████| 200/200 [00:06<00:00, 31.03it/s]\n",
      "  3%|▎         | 6/200 [00:00<00:03, 54.89it/s]"
     ]
    },
    {
     "name": "stdout",
     "output_type": "stream",
     "text": [
      "Completed. Saving\n",
      "24 -0.7\n",
      "\n",
      "---Performing Equlibration---\n",
      "\n"
     ]
    },
    {
     "name": "stderr",
     "output_type": "stream",
     "text": [
      "100%|██████████| 200/200 [00:03<00:00, 54.38it/s]\n",
      "  2%|▏         | 3/200 [00:00<00:06, 29.92it/s]"
     ]
    },
    {
     "name": "stdout",
     "output_type": "stream",
     "text": [
      "\n",
      "---Finished...\n",
      "----Performing MC Moves----\n",
      "\n"
     ]
    },
    {
     "name": "stderr",
     "output_type": "stream",
     "text": [
      "100%|██████████| 200/200 [00:06<00:00, 31.40it/s]\n",
      "  0%|          | 0/200 [00:00<?, ?it/s]"
     ]
    },
    {
     "name": "stdout",
     "output_type": "stream",
     "text": [
      "Completed. Saving\n",
      "25 -0.6875\n",
      "\n",
      "---Performing Equlibration---\n",
      "\n"
     ]
    },
    {
     "name": "stderr",
     "output_type": "stream",
     "text": [
      "100%|██████████| 200/200 [00:03<00:00, 54.67it/s]\n",
      "  2%|▏         | 4/200 [00:00<00:06, 32.11it/s]"
     ]
    },
    {
     "name": "stdout",
     "output_type": "stream",
     "text": [
      "\n",
      "---Finished...\n",
      "----Performing MC Moves----\n",
      "\n"
     ]
    },
    {
     "name": "stderr",
     "output_type": "stream",
     "text": [
      "100%|██████████| 200/200 [00:06<00:00, 31.02it/s]\n",
      "  0%|          | 0/200 [00:00<?, ?it/s]"
     ]
    },
    {
     "name": "stdout",
     "output_type": "stream",
     "text": [
      "Completed. Saving\n",
      "26 -0.675\n",
      "\n",
      "---Performing Equlibration---\n",
      "\n"
     ]
    },
    {
     "name": "stderr",
     "output_type": "stream",
     "text": [
      "100%|██████████| 200/200 [00:03<00:00, 54.56it/s]\n",
      "  2%|▏         | 4/200 [00:00<00:06, 30.95it/s]"
     ]
    },
    {
     "name": "stdout",
     "output_type": "stream",
     "text": [
      "\n",
      "---Finished...\n",
      "----Performing MC Moves----\n",
      "\n"
     ]
    },
    {
     "name": "stderr",
     "output_type": "stream",
     "text": [
      "100%|██████████| 200/200 [00:06<00:00, 31.08it/s]\n",
      "  3%|▎         | 6/200 [00:00<00:03, 53.45it/s]"
     ]
    },
    {
     "name": "stdout",
     "output_type": "stream",
     "text": [
      "Completed. Saving\n",
      "27 -0.6625\n",
      "\n",
      "---Performing Equlibration---\n",
      "\n"
     ]
    },
    {
     "name": "stderr",
     "output_type": "stream",
     "text": [
      "100%|██████████| 200/200 [00:03<00:00, 54.95it/s]\n",
      "  2%|▏         | 4/200 [00:00<00:06, 31.53it/s]"
     ]
    },
    {
     "name": "stdout",
     "output_type": "stream",
     "text": [
      "\n",
      "---Finished...\n",
      "----Performing MC Moves----\n",
      "\n"
     ]
    },
    {
     "name": "stderr",
     "output_type": "stream",
     "text": [
      "100%|██████████| 200/200 [00:06<00:00, 31.15it/s]\n",
      "  0%|          | 0/200 [00:00<?, ?it/s]"
     ]
    },
    {
     "name": "stdout",
     "output_type": "stream",
     "text": [
      "Completed. Saving\n",
      "28 -0.65\n",
      "\n",
      "---Performing Equlibration---\n",
      "\n"
     ]
    },
    {
     "name": "stderr",
     "output_type": "stream",
     "text": [
      "100%|██████████| 200/200 [00:03<00:00, 55.07it/s]\n",
      "  2%|▏         | 3/200 [00:00<00:07, 27.79it/s]"
     ]
    },
    {
     "name": "stdout",
     "output_type": "stream",
     "text": [
      "\n",
      "---Finished...\n",
      "----Performing MC Moves----\n",
      "\n"
     ]
    },
    {
     "name": "stderr",
     "output_type": "stream",
     "text": [
      "100%|██████████| 200/200 [00:06<00:00, 30.64it/s]\n",
      "  3%|▎         | 6/200 [00:00<00:03, 53.64it/s]"
     ]
    },
    {
     "name": "stdout",
     "output_type": "stream",
     "text": [
      "Completed. Saving\n",
      "29 -0.6375\n",
      "\n",
      "---Performing Equlibration---\n",
      "\n"
     ]
    },
    {
     "name": "stderr",
     "output_type": "stream",
     "text": [
      "100%|██████████| 200/200 [00:03<00:00, 53.43it/s]\n",
      "  2%|▏         | 3/200 [00:00<00:06, 29.50it/s]"
     ]
    },
    {
     "name": "stdout",
     "output_type": "stream",
     "text": [
      "\n",
      "---Finished...\n",
      "----Performing MC Moves----\n",
      "\n"
     ]
    },
    {
     "name": "stderr",
     "output_type": "stream",
     "text": [
      "100%|██████████| 200/200 [00:06<00:00, 31.09it/s]\n",
      "  3%|▎         | 6/200 [00:00<00:03, 53.68it/s]"
     ]
    },
    {
     "name": "stdout",
     "output_type": "stream",
     "text": [
      "Completed. Saving\n",
      "30 -0.625\n",
      "\n",
      "---Performing Equlibration---\n",
      "\n"
     ]
    },
    {
     "name": "stderr",
     "output_type": "stream",
     "text": [
      "100%|██████████| 200/200 [00:03<00:00, 52.94it/s]\n",
      "  2%|▏         | 4/200 [00:00<00:06, 31.57it/s]"
     ]
    },
    {
     "name": "stdout",
     "output_type": "stream",
     "text": [
      "\n",
      "---Finished...\n",
      "----Performing MC Moves----\n",
      "\n"
     ]
    },
    {
     "name": "stderr",
     "output_type": "stream",
     "text": [
      "100%|██████████| 200/200 [00:06<00:00, 30.70it/s]\n",
      "  3%|▎         | 6/200 [00:00<00:03, 54.67it/s]"
     ]
    },
    {
     "name": "stdout",
     "output_type": "stream",
     "text": [
      "Completed. Saving\n",
      "31 -0.6125\n",
      "\n",
      "---Performing Equlibration---\n",
      "\n"
     ]
    },
    {
     "name": "stderr",
     "output_type": "stream",
     "text": [
      "100%|██████████| 200/200 [00:03<00:00, 54.41it/s]\n",
      "  2%|▏         | 3/200 [00:00<00:06, 29.55it/s]"
     ]
    },
    {
     "name": "stdout",
     "output_type": "stream",
     "text": [
      "\n",
      "---Finished...\n",
      "----Performing MC Moves----\n",
      "\n"
     ]
    },
    {
     "name": "stderr",
     "output_type": "stream",
     "text": [
      "100%|██████████| 200/200 [00:06<00:00, 30.99it/s]\n",
      "  0%|          | 0/200 [00:00<?, ?it/s]"
     ]
    },
    {
     "name": "stdout",
     "output_type": "stream",
     "text": [
      "Completed. Saving\n",
      "32 -0.6\n",
      "\n",
      "---Performing Equlibration---\n",
      "\n"
     ]
    },
    {
     "name": "stderr",
     "output_type": "stream",
     "text": [
      "100%|██████████| 200/200 [00:03<00:00, 55.48it/s]\n",
      "  2%|▏         | 4/200 [00:00<00:06, 31.00it/s]"
     ]
    },
    {
     "name": "stdout",
     "output_type": "stream",
     "text": [
      "\n",
      "---Finished...\n",
      "----Performing MC Moves----\n",
      "\n"
     ]
    },
    {
     "name": "stderr",
     "output_type": "stream",
     "text": [
      "100%|██████████| 200/200 [00:06<00:00, 31.17it/s]\n",
      "  0%|          | 0/200 [00:00<?, ?it/s]"
     ]
    },
    {
     "name": "stdout",
     "output_type": "stream",
     "text": [
      "Completed. Saving\n",
      "33 -0.5875\n",
      "\n",
      "---Performing Equlibration---\n",
      "\n"
     ]
    },
    {
     "name": "stderr",
     "output_type": "stream",
     "text": [
      "100%|██████████| 200/200 [00:03<00:00, 55.59it/s]\n",
      "  2%|▏         | 4/200 [00:00<00:06, 32.00it/s]"
     ]
    },
    {
     "name": "stdout",
     "output_type": "stream",
     "text": [
      "\n",
      "---Finished...\n",
      "----Performing MC Moves----\n",
      "\n"
     ]
    },
    {
     "name": "stderr",
     "output_type": "stream",
     "text": [
      "100%|██████████| 200/200 [00:06<00:00, 31.11it/s]\n",
      "  2%|▎         | 5/200 [00:00<00:04, 48.12it/s]"
     ]
    },
    {
     "name": "stdout",
     "output_type": "stream",
     "text": [
      "Completed. Saving\n",
      "34 -0.575\n",
      "\n",
      "---Performing Equlibration---\n",
      "\n"
     ]
    },
    {
     "name": "stderr",
     "output_type": "stream",
     "text": [
      "100%|██████████| 200/200 [00:03<00:00, 54.68it/s]\n",
      "  2%|▏         | 4/200 [00:00<00:06, 32.13it/s]"
     ]
    },
    {
     "name": "stdout",
     "output_type": "stream",
     "text": [
      "\n",
      "---Finished...\n",
      "----Performing MC Moves----\n",
      "\n"
     ]
    },
    {
     "name": "stderr",
     "output_type": "stream",
     "text": [
      "100%|██████████| 200/200 [00:06<00:00, 30.98it/s]\n",
      "  3%|▎         | 6/200 [00:00<00:03, 51.34it/s]"
     ]
    },
    {
     "name": "stdout",
     "output_type": "stream",
     "text": [
      "Completed. Saving\n",
      "35 -0.5625\n",
      "\n",
      "---Performing Equlibration---\n",
      "\n"
     ]
    },
    {
     "name": "stderr",
     "output_type": "stream",
     "text": [
      "100%|██████████| 200/200 [00:03<00:00, 54.08it/s]\n",
      "  2%|▏         | 4/200 [00:00<00:06, 30.36it/s]"
     ]
    },
    {
     "name": "stdout",
     "output_type": "stream",
     "text": [
      "\n",
      "---Finished...\n",
      "----Performing MC Moves----\n",
      "\n"
     ]
    },
    {
     "name": "stderr",
     "output_type": "stream",
     "text": [
      "100%|██████████| 200/200 [00:06<00:00, 31.37it/s]\n",
      "  3%|▎         | 6/200 [00:00<00:03, 51.79it/s]"
     ]
    },
    {
     "name": "stdout",
     "output_type": "stream",
     "text": [
      "Completed. Saving\n",
      "36 -0.55\n",
      "\n",
      "---Performing Equlibration---\n",
      "\n"
     ]
    },
    {
     "name": "stderr",
     "output_type": "stream",
     "text": [
      "100%|██████████| 200/200 [00:03<00:00, 55.14it/s]\n",
      "  2%|▏         | 4/200 [00:00<00:06, 31.46it/s]"
     ]
    },
    {
     "name": "stdout",
     "output_type": "stream",
     "text": [
      "\n",
      "---Finished...\n",
      "----Performing MC Moves----\n",
      "\n"
     ]
    },
    {
     "name": "stderr",
     "output_type": "stream",
     "text": [
      "100%|██████████| 200/200 [00:06<00:00, 30.73it/s]\n",
      "  3%|▎         | 6/200 [00:00<00:03, 54.23it/s]"
     ]
    },
    {
     "name": "stdout",
     "output_type": "stream",
     "text": [
      "Completed. Saving\n",
      "37 -0.5375\n",
      "\n",
      "---Performing Equlibration---\n",
      "\n"
     ]
    },
    {
     "name": "stderr",
     "output_type": "stream",
     "text": [
      "100%|██████████| 200/200 [00:03<00:00, 54.07it/s]\n",
      "  2%|▏         | 4/200 [00:00<00:06, 31.35it/s]"
     ]
    },
    {
     "name": "stdout",
     "output_type": "stream",
     "text": [
      "\n",
      "---Finished...\n",
      "----Performing MC Moves----\n",
      "\n"
     ]
    },
    {
     "name": "stderr",
     "output_type": "stream",
     "text": [
      "100%|██████████| 200/200 [00:06<00:00, 30.55it/s]\n",
      "  3%|▎         | 6/200 [00:00<00:03, 51.55it/s]"
     ]
    },
    {
     "name": "stdout",
     "output_type": "stream",
     "text": [
      "Completed. Saving\n",
      "38 -0.525\n",
      "\n",
      "---Performing Equlibration---\n",
      "\n"
     ]
    },
    {
     "name": "stderr",
     "output_type": "stream",
     "text": [
      "100%|██████████| 200/200 [00:03<00:00, 52.51it/s]\n",
      "  2%|▏         | 3/200 [00:00<00:06, 29.53it/s]"
     ]
    },
    {
     "name": "stdout",
     "output_type": "stream",
     "text": [
      "\n",
      "---Finished...\n",
      "----Performing MC Moves----\n",
      "\n"
     ]
    },
    {
     "name": "stderr",
     "output_type": "stream",
     "text": [
      "100%|██████████| 200/200 [00:06<00:00, 30.97it/s]\n",
      "  2%|▎         | 5/200 [00:00<00:03, 49.97it/s]"
     ]
    },
    {
     "name": "stdout",
     "output_type": "stream",
     "text": [
      "Completed. Saving\n",
      "39 -0.5125\n",
      "\n",
      "---Performing Equlibration---\n",
      "\n"
     ]
    },
    {
     "name": "stderr",
     "output_type": "stream",
     "text": [
      "100%|██████████| 200/200 [00:03<00:00, 52.05it/s]\n",
      "  2%|▏         | 3/200 [00:00<00:06, 29.79it/s]"
     ]
    },
    {
     "name": "stdout",
     "output_type": "stream",
     "text": [
      "\n",
      "---Finished...\n",
      "----Performing MC Moves----\n",
      "\n"
     ]
    },
    {
     "name": "stderr",
     "output_type": "stream",
     "text": [
      "100%|██████████| 200/200 [00:06<00:00, 30.53it/s]\n",
      "  3%|▎         | 6/200 [00:00<00:03, 56.39it/s]"
     ]
    },
    {
     "name": "stdout",
     "output_type": "stream",
     "text": [
      "Completed. Saving\n",
      "40 -0.5\n",
      "\n",
      "---Performing Equlibration---\n",
      "\n"
     ]
    },
    {
     "name": "stderr",
     "output_type": "stream",
     "text": [
      "100%|██████████| 200/200 [00:03<00:00, 55.16it/s]\n",
      "  2%|▏         | 3/200 [00:00<00:06, 29.99it/s]"
     ]
    },
    {
     "name": "stdout",
     "output_type": "stream",
     "text": [
      "\n",
      "---Finished...\n",
      "----Performing MC Moves----\n",
      "\n"
     ]
    },
    {
     "name": "stderr",
     "output_type": "stream",
     "text": [
      "100%|██████████| 200/200 [00:06<00:00, 30.57it/s]\n",
      "  2%|▎         | 5/200 [00:00<00:03, 49.77it/s]"
     ]
    },
    {
     "name": "stdout",
     "output_type": "stream",
     "text": [
      "Completed. Saving\n",
      "41 -0.48750000000000004\n",
      "\n",
      "---Performing Equlibration---\n",
      "\n"
     ]
    },
    {
     "name": "stderr",
     "output_type": "stream",
     "text": [
      "100%|██████████| 200/200 [00:03<00:00, 52.54it/s]\n",
      "  2%|▏         | 4/200 [00:00<00:06, 31.56it/s]"
     ]
    },
    {
     "name": "stdout",
     "output_type": "stream",
     "text": [
      "\n",
      "---Finished...\n",
      "----Performing MC Moves----\n",
      "\n"
     ]
    },
    {
     "name": "stderr",
     "output_type": "stream",
     "text": [
      "100%|██████████| 200/200 [00:06<00:00, 30.66it/s]\n",
      "  3%|▎         | 6/200 [00:00<00:03, 52.20it/s]"
     ]
    },
    {
     "name": "stdout",
     "output_type": "stream",
     "text": [
      "Completed. Saving\n",
      "42 -0.475\n",
      "\n",
      "---Performing Equlibration---\n",
      "\n"
     ]
    },
    {
     "name": "stderr",
     "output_type": "stream",
     "text": [
      "100%|██████████| 200/200 [00:03<00:00, 53.76it/s]\n",
      "  2%|▏         | 3/200 [00:00<00:06, 29.24it/s]"
     ]
    },
    {
     "name": "stdout",
     "output_type": "stream",
     "text": [
      "\n",
      "---Finished...\n",
      "----Performing MC Moves----\n",
      "\n"
     ]
    },
    {
     "name": "stderr",
     "output_type": "stream",
     "text": [
      "100%|██████████| 200/200 [00:06<00:00, 30.33it/s]\n",
      "  2%|▎         | 5/200 [00:00<00:03, 48.95it/s]"
     ]
    },
    {
     "name": "stdout",
     "output_type": "stream",
     "text": [
      "Completed. Saving\n",
      "43 -0.4625\n",
      "\n",
      "---Performing Equlibration---\n",
      "\n"
     ]
    },
    {
     "name": "stderr",
     "output_type": "stream",
     "text": [
      "100%|██████████| 200/200 [00:03<00:00, 52.94it/s]\n",
      "  2%|▏         | 4/200 [00:00<00:06, 31.92it/s]"
     ]
    },
    {
     "name": "stdout",
     "output_type": "stream",
     "text": [
      "\n",
      "---Finished...\n",
      "----Performing MC Moves----\n",
      "\n"
     ]
    },
    {
     "name": "stderr",
     "output_type": "stream",
     "text": [
      "100%|██████████| 200/200 [00:06<00:00, 30.91it/s]\n",
      "  3%|▎         | 6/200 [00:00<00:03, 55.73it/s]"
     ]
    },
    {
     "name": "stdout",
     "output_type": "stream",
     "text": [
      "Completed. Saving\n",
      "44 -0.44999999999999996\n",
      "\n",
      "---Performing Equlibration---\n",
      "\n"
     ]
    },
    {
     "name": "stderr",
     "output_type": "stream",
     "text": [
      "100%|██████████| 200/200 [00:03<00:00, 53.87it/s]\n",
      "  2%|▏         | 3/200 [00:00<00:06, 29.01it/s]"
     ]
    },
    {
     "name": "stdout",
     "output_type": "stream",
     "text": [
      "\n",
      "---Finished...\n",
      "----Performing MC Moves----\n",
      "\n"
     ]
    },
    {
     "name": "stderr",
     "output_type": "stream",
     "text": [
      "100%|██████████| 200/200 [00:06<00:00, 30.61it/s]\n",
      "  2%|▎         | 5/200 [00:00<00:04, 47.02it/s]"
     ]
    },
    {
     "name": "stdout",
     "output_type": "stream",
     "text": [
      "Completed. Saving\n",
      "45 -0.4375\n",
      "\n",
      "---Performing Equlibration---\n",
      "\n"
     ]
    },
    {
     "name": "stderr",
     "output_type": "stream",
     "text": [
      "100%|██████████| 200/200 [00:03<00:00, 52.93it/s]\n",
      "  2%|▏         | 4/200 [00:00<00:06, 30.79it/s]"
     ]
    },
    {
     "name": "stdout",
     "output_type": "stream",
     "text": [
      "\n",
      "---Finished...\n",
      "----Performing MC Moves----\n",
      "\n"
     ]
    },
    {
     "name": "stderr",
     "output_type": "stream",
     "text": [
      "100%|██████████| 200/200 [00:06<00:00, 30.24it/s]\n",
      "  3%|▎         | 6/200 [00:00<00:03, 51.39it/s]"
     ]
    },
    {
     "name": "stdout",
     "output_type": "stream",
     "text": [
      "Completed. Saving\n",
      "46 -0.42500000000000004\n",
      "\n",
      "---Performing Equlibration---\n",
      "\n"
     ]
    },
    {
     "name": "stderr",
     "output_type": "stream",
     "text": [
      "100%|██████████| 200/200 [00:03<00:00, 53.32it/s]\n",
      "  2%|▏         | 4/200 [00:00<00:06, 30.07it/s]"
     ]
    },
    {
     "name": "stdout",
     "output_type": "stream",
     "text": [
      "\n",
      "---Finished...\n",
      "----Performing MC Moves----\n",
      "\n"
     ]
    },
    {
     "name": "stderr",
     "output_type": "stream",
     "text": [
      "100%|██████████| 200/200 [00:06<00:00, 30.60it/s]\n",
      "  3%|▎         | 6/200 [00:00<00:03, 52.75it/s]"
     ]
    },
    {
     "name": "stdout",
     "output_type": "stream",
     "text": [
      "Completed. Saving\n",
      "47 -0.4125\n",
      "\n",
      "---Performing Equlibration---\n",
      "\n"
     ]
    },
    {
     "name": "stderr",
     "output_type": "stream",
     "text": [
      "100%|██████████| 200/200 [00:03<00:00, 54.10it/s]\n",
      "  2%|▏         | 4/200 [00:00<00:06, 30.70it/s]"
     ]
    },
    {
     "name": "stdout",
     "output_type": "stream",
     "text": [
      "\n",
      "---Finished...\n",
      "----Performing MC Moves----\n",
      "\n"
     ]
    },
    {
     "name": "stderr",
     "output_type": "stream",
     "text": [
      "100%|██████████| 200/200 [00:06<00:00, 30.18it/s]\n"
     ]
    },
    {
     "name": "stdout",
     "output_type": "stream",
     "text": [
      "Completed. Saving\n",
      "48 -0.4\n"
     ]
    },
    {
     "name": "stderr",
     "output_type": "stream",
     "text": [
      "  2%|▎         | 5/200 [00:00<00:04, 47.97it/s]"
     ]
    },
    {
     "name": "stdout",
     "output_type": "stream",
     "text": [
      "\n",
      "---Performing Equlibration---\n",
      "\n"
     ]
    },
    {
     "name": "stderr",
     "output_type": "stream",
     "text": [
      "100%|██████████| 200/200 [00:03<00:00, 53.19it/s]\n",
      "  2%|▏         | 4/200 [00:00<00:06, 30.64it/s]"
     ]
    },
    {
     "name": "stdout",
     "output_type": "stream",
     "text": [
      "\n",
      "---Finished...\n",
      "----Performing MC Moves----\n",
      "\n"
     ]
    },
    {
     "name": "stderr",
     "output_type": "stream",
     "text": [
      "100%|██████████| 200/200 [00:06<00:00, 30.59it/s]\n",
      "  0%|          | 0/200 [00:00<?, ?it/s]"
     ]
    },
    {
     "name": "stdout",
     "output_type": "stream",
     "text": [
      "Completed. Saving\n",
      "49 -0.38749999999999996\n",
      "\n",
      "---Performing Equlibration---\n",
      "\n"
     ]
    },
    {
     "name": "stderr",
     "output_type": "stream",
     "text": [
      "100%|██████████| 200/200 [00:03<00:00, 54.41it/s]\n",
      "  2%|▏         | 4/200 [00:00<00:06, 30.16it/s]"
     ]
    },
    {
     "name": "stdout",
     "output_type": "stream",
     "text": [
      "\n",
      "---Finished...\n",
      "----Performing MC Moves----\n",
      "\n"
     ]
    },
    {
     "name": "stderr",
     "output_type": "stream",
     "text": [
      "100%|██████████| 200/200 [00:06<00:00, 30.71it/s]\n",
      "  3%|▎         | 6/200 [00:00<00:03, 51.81it/s]"
     ]
    },
    {
     "name": "stdout",
     "output_type": "stream",
     "text": [
      "Completed. Saving\n",
      "50 -0.375\n",
      "\n",
      "---Performing Equlibration---\n",
      "\n"
     ]
    },
    {
     "name": "stderr",
     "output_type": "stream",
     "text": [
      "100%|██████████| 200/200 [00:03<00:00, 52.89it/s]\n",
      "  2%|▏         | 3/200 [00:00<00:06, 29.57it/s]"
     ]
    },
    {
     "name": "stdout",
     "output_type": "stream",
     "text": [
      "\n",
      "---Finished...\n",
      "----Performing MC Moves----\n",
      "\n"
     ]
    },
    {
     "name": "stderr",
     "output_type": "stream",
     "text": [
      "100%|██████████| 200/200 [00:06<00:00, 30.80it/s]\n",
      "  3%|▎         | 6/200 [00:00<00:03, 54.02it/s]"
     ]
    },
    {
     "name": "stdout",
     "output_type": "stream",
     "text": [
      "Completed. Saving\n",
      "51 -0.36250000000000004\n",
      "\n",
      "---Performing Equlibration---\n",
      "\n"
     ]
    },
    {
     "name": "stderr",
     "output_type": "stream",
     "text": [
      "100%|██████████| 200/200 [00:03<00:00, 54.37it/s]\n",
      "  2%|▏         | 4/200 [00:00<00:06, 31.72it/s]"
     ]
    },
    {
     "name": "stdout",
     "output_type": "stream",
     "text": [
      "\n",
      "---Finished...\n",
      "----Performing MC Moves----\n",
      "\n"
     ]
    },
    {
     "name": "stderr",
     "output_type": "stream",
     "text": [
      "100%|██████████| 200/200 [00:06<00:00, 31.00it/s]\n"
     ]
    },
    {
     "name": "stdout",
     "output_type": "stream",
     "text": [
      "Completed. Saving\n",
      "52 -0.35\n",
      "\n",
      "---Performing Equlibration---\n",
      "\n"
     ]
    },
    {
     "name": "stderr",
     "output_type": "stream",
     "text": [
      "100%|██████████| 200/200 [00:03<00:00, 52.13it/s]\n",
      "  2%|▏         | 3/200 [00:00<00:06, 29.56it/s]"
     ]
    },
    {
     "name": "stdout",
     "output_type": "stream",
     "text": [
      "\n",
      "---Finished...\n",
      "----Performing MC Moves----\n",
      "\n"
     ]
    },
    {
     "name": "stderr",
     "output_type": "stream",
     "text": [
      "100%|██████████| 200/200 [00:06<00:00, 30.57it/s]\n"
     ]
    },
    {
     "name": "stdout",
     "output_type": "stream",
     "text": [
      "Completed. Saving\n",
      "53 -0.3375\n",
      "\n",
      "---Performing Equlibration---\n",
      "\n"
     ]
    },
    {
     "name": "stderr",
     "output_type": "stream",
     "text": [
      "100%|██████████| 200/200 [00:03<00:00, 54.04it/s]\n",
      "  2%|▏         | 4/200 [00:00<00:06, 31.19it/s]"
     ]
    },
    {
     "name": "stdout",
     "output_type": "stream",
     "text": [
      "\n",
      "---Finished...\n",
      "----Performing MC Moves----\n",
      "\n"
     ]
    },
    {
     "name": "stderr",
     "output_type": "stream",
     "text": [
      "100%|██████████| 200/200 [00:06<00:00, 30.44it/s]\n",
      "  0%|          | 0/200 [00:00<?, ?it/s]"
     ]
    },
    {
     "name": "stdout",
     "output_type": "stream",
     "text": [
      "Completed. Saving\n",
      "54 -0.32499999999999996\n",
      "\n",
      "---Performing Equlibration---\n",
      "\n"
     ]
    },
    {
     "name": "stderr",
     "output_type": "stream",
     "text": [
      "100%|██████████| 200/200 [00:03<00:00, 54.46it/s]\n",
      "  2%|▏         | 3/200 [00:00<00:06, 29.15it/s]"
     ]
    },
    {
     "name": "stdout",
     "output_type": "stream",
     "text": [
      "\n",
      "---Finished...\n",
      "----Performing MC Moves----\n",
      "\n"
     ]
    },
    {
     "name": "stderr",
     "output_type": "stream",
     "text": [
      "100%|██████████| 200/200 [00:06<00:00, 30.81it/s]\n",
      "  3%|▎         | 6/200 [00:00<00:03, 53.17it/s]"
     ]
    },
    {
     "name": "stdout",
     "output_type": "stream",
     "text": [
      "Completed. Saving\n",
      "55 -0.3125\n",
      "\n",
      "---Performing Equlibration---\n",
      "\n"
     ]
    },
    {
     "name": "stderr",
     "output_type": "stream",
     "text": [
      "100%|██████████| 200/200 [00:03<00:00, 52.63it/s]\n",
      "  2%|▏         | 4/200 [00:00<00:06, 31.02it/s]"
     ]
    },
    {
     "name": "stdout",
     "output_type": "stream",
     "text": [
      "\n",
      "---Finished...\n",
      "----Performing MC Moves----\n",
      "\n"
     ]
    },
    {
     "name": "stderr",
     "output_type": "stream",
     "text": [
      "100%|██████████| 200/200 [00:06<00:00, 30.69it/s]\n",
      "  0%|          | 0/200 [00:00<?, ?it/s]"
     ]
    },
    {
     "name": "stdout",
     "output_type": "stream",
     "text": [
      "Completed. Saving\n",
      "56 -0.30000000000000004\n",
      "\n",
      "---Performing Equlibration---\n",
      "\n"
     ]
    },
    {
     "name": "stderr",
     "output_type": "stream",
     "text": [
      "100%|██████████| 200/200 [00:03<00:00, 51.91it/s]\n",
      "  2%|▏         | 4/200 [00:00<00:06, 30.71it/s]"
     ]
    },
    {
     "name": "stdout",
     "output_type": "stream",
     "text": [
      "\n",
      "---Finished...\n",
      "----Performing MC Moves----\n",
      "\n"
     ]
    },
    {
     "name": "stderr",
     "output_type": "stream",
     "text": [
      "100%|██████████| 200/200 [00:06<00:00, 30.34it/s]\n",
      "  3%|▎         | 6/200 [00:00<00:03, 50.77it/s]"
     ]
    },
    {
     "name": "stdout",
     "output_type": "stream",
     "text": [
      "Completed. Saving\n",
      "57 -0.2875\n",
      "\n",
      "---Performing Equlibration---\n",
      "\n"
     ]
    },
    {
     "name": "stderr",
     "output_type": "stream",
     "text": [
      "100%|██████████| 200/200 [00:03<00:00, 52.75it/s]\n",
      "  2%|▏         | 4/200 [00:00<00:06, 31.23it/s]"
     ]
    },
    {
     "name": "stdout",
     "output_type": "stream",
     "text": [
      "\n",
      "---Finished...\n",
      "----Performing MC Moves----\n",
      "\n"
     ]
    },
    {
     "name": "stderr",
     "output_type": "stream",
     "text": [
      "100%|██████████| 200/200 [00:06<00:00, 30.29it/s]\n",
      "  3%|▎         | 6/200 [00:00<00:03, 53.59it/s]"
     ]
    },
    {
     "name": "stdout",
     "output_type": "stream",
     "text": [
      "Completed. Saving\n",
      "58 -0.275\n",
      "\n",
      "---Performing Equlibration---\n",
      "\n"
     ]
    },
    {
     "name": "stderr",
     "output_type": "stream",
     "text": [
      "100%|██████████| 200/200 [00:03<00:00, 52.22it/s]\n",
      "  2%|▏         | 3/200 [00:00<00:06, 29.45it/s]"
     ]
    },
    {
     "name": "stdout",
     "output_type": "stream",
     "text": [
      "\n",
      "---Finished...\n",
      "----Performing MC Moves----\n",
      "\n"
     ]
    },
    {
     "name": "stderr",
     "output_type": "stream",
     "text": [
      "100%|██████████| 200/200 [00:06<00:00, 30.79it/s]\n",
      "  3%|▎         | 6/200 [00:00<00:03, 53.36it/s]"
     ]
    },
    {
     "name": "stdout",
     "output_type": "stream",
     "text": [
      "Completed. Saving\n",
      "59 -0.26249999999999996\n",
      "\n",
      "---Performing Equlibration---\n",
      "\n"
     ]
    },
    {
     "name": "stderr",
     "output_type": "stream",
     "text": [
      "100%|██████████| 200/200 [00:03<00:00, 51.66it/s]\n",
      "  2%|▏         | 3/200 [00:00<00:06, 29.78it/s]"
     ]
    },
    {
     "name": "stdout",
     "output_type": "stream",
     "text": [
      "\n",
      "---Finished...\n",
      "----Performing MC Moves----\n",
      "\n"
     ]
    },
    {
     "name": "stderr",
     "output_type": "stream",
     "text": [
      "100%|██████████| 200/200 [00:06<00:00, 30.38it/s]\n",
      "  2%|▎         | 5/200 [00:00<00:03, 49.04it/s]"
     ]
    },
    {
     "name": "stdout",
     "output_type": "stream",
     "text": [
      "Completed. Saving\n",
      "60 -0.25\n",
      "\n",
      "---Performing Equlibration---\n",
      "\n"
     ]
    },
    {
     "name": "stderr",
     "output_type": "stream",
     "text": [
      "100%|██████████| 200/200 [00:03<00:00, 52.93it/s]\n",
      "  2%|▏         | 3/200 [00:00<00:06, 28.16it/s]"
     ]
    },
    {
     "name": "stdout",
     "output_type": "stream",
     "text": [
      "\n",
      "---Finished...\n",
      "----Performing MC Moves----\n",
      "\n"
     ]
    },
    {
     "name": "stderr",
     "output_type": "stream",
     "text": [
      "100%|██████████| 200/200 [00:06<00:00, 30.00it/s]\n",
      "  3%|▎         | 6/200 [00:00<00:03, 55.56it/s]"
     ]
    },
    {
     "name": "stdout",
     "output_type": "stream",
     "text": [
      "Completed. Saving\n",
      "61 -0.23750000000000004\n",
      "\n",
      "---Performing Equlibration---\n",
      "\n"
     ]
    },
    {
     "name": "stderr",
     "output_type": "stream",
     "text": [
      "100%|██████████| 200/200 [00:03<00:00, 53.37it/s]\n",
      "  2%|▏         | 4/200 [00:00<00:06, 31.42it/s]"
     ]
    },
    {
     "name": "stdout",
     "output_type": "stream",
     "text": [
      "\n",
      "---Finished...\n",
      "----Performing MC Moves----\n",
      "\n"
     ]
    },
    {
     "name": "stderr",
     "output_type": "stream",
     "text": [
      "100%|██████████| 200/200 [00:06<00:00, 30.28it/s]\n",
      "  3%|▎         | 6/200 [00:00<00:03, 55.14it/s]"
     ]
    },
    {
     "name": "stdout",
     "output_type": "stream",
     "text": [
      "Completed. Saving\n",
      "62 -0.22499999999999998\n",
      "\n",
      "---Performing Equlibration---\n",
      "\n"
     ]
    },
    {
     "name": "stderr",
     "output_type": "stream",
     "text": [
      "100%|██████████| 200/200 [00:03<00:00, 54.25it/s]\n",
      "  2%|▏         | 3/200 [00:00<00:06, 29.87it/s]"
     ]
    },
    {
     "name": "stdout",
     "output_type": "stream",
     "text": [
      "\n",
      "---Finished...\n",
      "----Performing MC Moves----\n",
      "\n"
     ]
    },
    {
     "name": "stderr",
     "output_type": "stream",
     "text": [
      "100%|██████████| 200/200 [00:06<00:00, 30.57it/s]\n",
      "  3%|▎         | 6/200 [00:00<00:03, 54.64it/s]"
     ]
    },
    {
     "name": "stdout",
     "output_type": "stream",
     "text": [
      "Completed. Saving\n",
      "63 -0.21250000000000002\n",
      "\n",
      "---Performing Equlibration---\n",
      "\n"
     ]
    },
    {
     "name": "stderr",
     "output_type": "stream",
     "text": [
      "100%|██████████| 200/200 [00:03<00:00, 53.89it/s]\n",
      "  2%|▏         | 4/200 [00:00<00:06, 31.47it/s]"
     ]
    },
    {
     "name": "stdout",
     "output_type": "stream",
     "text": [
      "\n",
      "---Finished...\n",
      "----Performing MC Moves----\n",
      "\n"
     ]
    },
    {
     "name": "stderr",
     "output_type": "stream",
     "text": [
      "100%|██████████| 200/200 [00:06<00:00, 30.83it/s]\n",
      "  3%|▎         | 6/200 [00:00<00:03, 53.11it/s]"
     ]
    },
    {
     "name": "stdout",
     "output_type": "stream",
     "text": [
      "Completed. Saving\n",
      "64 -0.19999999999999996\n",
      "\n",
      "---Performing Equlibration---\n",
      "\n"
     ]
    },
    {
     "name": "stderr",
     "output_type": "stream",
     "text": [
      "100%|██████████| 200/200 [00:03<00:00, 54.13it/s]\n",
      "  2%|▏         | 3/200 [00:00<00:06, 29.65it/s]"
     ]
    },
    {
     "name": "stdout",
     "output_type": "stream",
     "text": [
      "\n",
      "---Finished...\n",
      "----Performing MC Moves----\n",
      "\n"
     ]
    },
    {
     "name": "stderr",
     "output_type": "stream",
     "text": [
      "100%|██████████| 200/200 [00:06<00:00, 30.02it/s]\n"
     ]
    },
    {
     "name": "stdout",
     "output_type": "stream",
     "text": [
      "Completed. Saving\n",
      "65 -0.1875\n",
      "\n",
      "---Performing Equlibration---\n",
      "\n"
     ]
    },
    {
     "name": "stderr",
     "output_type": "stream",
     "text": [
      "100%|██████████| 200/200 [00:03<00:00, 52.83it/s]\n",
      "  2%|▏         | 4/200 [00:00<00:06, 31.31it/s]"
     ]
    },
    {
     "name": "stdout",
     "output_type": "stream",
     "text": [
      "\n",
      "---Finished...\n",
      "----Performing MC Moves----\n",
      "\n"
     ]
    },
    {
     "name": "stderr",
     "output_type": "stream",
     "text": [
      "100%|██████████| 200/200 [00:06<00:00, 30.05it/s]\n",
      "  3%|▎         | 6/200 [00:00<00:03, 50.33it/s]"
     ]
    },
    {
     "name": "stdout",
     "output_type": "stream",
     "text": [
      "Completed. Saving\n",
      "66 -0.17500000000000004\n",
      "\n",
      "---Performing Equlibration---\n",
      "\n"
     ]
    },
    {
     "name": "stderr",
     "output_type": "stream",
     "text": [
      "100%|██████████| 200/200 [00:03<00:00, 52.07it/s]\n",
      "  2%|▏         | 3/200 [00:00<00:06, 29.99it/s]"
     ]
    },
    {
     "name": "stdout",
     "output_type": "stream",
     "text": [
      "\n",
      "---Finished...\n",
      "----Performing MC Moves----\n",
      "\n"
     ]
    },
    {
     "name": "stderr",
     "output_type": "stream",
     "text": [
      "100%|██████████| 200/200 [00:06<00:00, 30.63it/s]\n"
     ]
    },
    {
     "name": "stdout",
     "output_type": "stream",
     "text": [
      "Completed. Saving\n",
      "67 -0.16249999999999998\n"
     ]
    },
    {
     "name": "stderr",
     "output_type": "stream",
     "text": [
      "  2%|▎         | 5/200 [00:00<00:04, 47.59it/s]"
     ]
    },
    {
     "name": "stdout",
     "output_type": "stream",
     "text": [
      "\n",
      "---Performing Equlibration---\n",
      "\n"
     ]
    },
    {
     "name": "stderr",
     "output_type": "stream",
     "text": [
      "100%|██████████| 200/200 [00:03<00:00, 50.90it/s]\n",
      "  2%|▏         | 3/200 [00:00<00:06, 28.22it/s]"
     ]
    },
    {
     "name": "stdout",
     "output_type": "stream",
     "text": [
      "\n",
      "---Finished...\n",
      "----Performing MC Moves----\n",
      "\n"
     ]
    },
    {
     "name": "stderr",
     "output_type": "stream",
     "text": [
      "100%|██████████| 200/200 [00:06<00:00, 29.82it/s]\n",
      "  3%|▎         | 6/200 [00:00<00:03, 53.41it/s]"
     ]
    },
    {
     "name": "stdout",
     "output_type": "stream",
     "text": [
      "Completed. Saving\n",
      "68 -0.15000000000000002\n",
      "\n",
      "---Performing Equlibration---\n",
      "\n"
     ]
    },
    {
     "name": "stderr",
     "output_type": "stream",
     "text": [
      "100%|██████████| 200/200 [00:03<00:00, 52.40it/s]\n",
      "  2%|▏         | 3/200 [00:00<00:06, 29.26it/s]"
     ]
    },
    {
     "name": "stdout",
     "output_type": "stream",
     "text": [
      "\n",
      "---Finished...\n",
      "----Performing MC Moves----\n",
      "\n"
     ]
    },
    {
     "name": "stderr",
     "output_type": "stream",
     "text": [
      "100%|██████████| 200/200 [00:06<00:00, 30.35it/s]\n",
      "  3%|▎         | 6/200 [00:00<00:03, 56.09it/s]"
     ]
    },
    {
     "name": "stdout",
     "output_type": "stream",
     "text": [
      "Completed. Saving\n",
      "69 -0.13749999999999996\n",
      "\n",
      "---Performing Equlibration---\n",
      "\n"
     ]
    },
    {
     "name": "stderr",
     "output_type": "stream",
     "text": [
      "100%|██████████| 200/200 [00:03<00:00, 53.81it/s]\n",
      "  2%|▏         | 4/200 [00:00<00:06, 30.74it/s]"
     ]
    },
    {
     "name": "stdout",
     "output_type": "stream",
     "text": [
      "\n",
      "---Finished...\n",
      "----Performing MC Moves----\n",
      "\n"
     ]
    },
    {
     "name": "stderr",
     "output_type": "stream",
     "text": [
      "100%|██████████| 200/200 [00:06<00:00, 30.49it/s]\n",
      "  3%|▎         | 6/200 [00:00<00:03, 52.47it/s]"
     ]
    },
    {
     "name": "stdout",
     "output_type": "stream",
     "text": [
      "Completed. Saving\n",
      "70 -0.125\n",
      "\n",
      "---Performing Equlibration---\n",
      "\n"
     ]
    },
    {
     "name": "stderr",
     "output_type": "stream",
     "text": [
      "100%|██████████| 200/200 [00:03<00:00, 52.60it/s]\n",
      "  2%|▏         | 3/200 [00:00<00:06, 29.04it/s]"
     ]
    },
    {
     "name": "stdout",
     "output_type": "stream",
     "text": [
      "\n",
      "---Finished...\n",
      "----Performing MC Moves----\n",
      "\n"
     ]
    },
    {
     "name": "stderr",
     "output_type": "stream",
     "text": [
      "100%|██████████| 200/200 [00:06<00:00, 30.69it/s]\n",
      "  0%|          | 0/200 [00:00<?, ?it/s]"
     ]
    },
    {
     "name": "stdout",
     "output_type": "stream",
     "text": [
      "Completed. Saving\n",
      "71 -0.11250000000000004\n",
      "\n",
      "---Performing Equlibration---\n",
      "\n"
     ]
    },
    {
     "name": "stderr",
     "output_type": "stream",
     "text": [
      "100%|██████████| 200/200 [00:03<00:00, 53.13it/s]\n",
      "  2%|▏         | 4/200 [00:00<00:06, 31.44it/s]"
     ]
    },
    {
     "name": "stdout",
     "output_type": "stream",
     "text": [
      "\n",
      "---Finished...\n",
      "----Performing MC Moves----\n",
      "\n"
     ]
    },
    {
     "name": "stderr",
     "output_type": "stream",
     "text": [
      "100%|██████████| 200/200 [00:06<00:00, 29.57it/s]\n",
      "  3%|▎         | 6/200 [00:00<00:03, 50.58it/s]"
     ]
    },
    {
     "name": "stdout",
     "output_type": "stream",
     "text": [
      "Completed. Saving\n",
      "72 -0.09999999999999998\n",
      "\n",
      "---Performing Equlibration---\n",
      "\n"
     ]
    },
    {
     "name": "stderr",
     "output_type": "stream",
     "text": [
      "100%|██████████| 200/200 [00:03<00:00, 50.78it/s]\n",
      "  2%|▏         | 3/200 [00:00<00:06, 29.54it/s]"
     ]
    },
    {
     "name": "stdout",
     "output_type": "stream",
     "text": [
      "\n",
      "---Finished...\n",
      "----Performing MC Moves----\n",
      "\n"
     ]
    },
    {
     "name": "stderr",
     "output_type": "stream",
     "text": [
      "100%|██████████| 200/200 [00:06<00:00, 30.36it/s]\n",
      "  3%|▎         | 6/200 [00:00<00:03, 49.29it/s]"
     ]
    },
    {
     "name": "stdout",
     "output_type": "stream",
     "text": [
      "Completed. Saving\n",
      "73 -0.08750000000000002\n",
      "\n",
      "---Performing Equlibration---\n",
      "\n"
     ]
    },
    {
     "name": "stderr",
     "output_type": "stream",
     "text": [
      "100%|██████████| 200/200 [00:03<00:00, 51.98it/s]\n",
      "  2%|▏         | 4/200 [00:00<00:06, 31.02it/s]"
     ]
    },
    {
     "name": "stdout",
     "output_type": "stream",
     "text": [
      "\n",
      "---Finished...\n",
      "----Performing MC Moves----\n",
      "\n"
     ]
    },
    {
     "name": "stderr",
     "output_type": "stream",
     "text": [
      "100%|██████████| 200/200 [00:06<00:00, 29.85it/s]\n",
      "  0%|          | 0/200 [00:00<?, ?it/s]"
     ]
    },
    {
     "name": "stdout",
     "output_type": "stream",
     "text": [
      "Completed. Saving\n",
      "74 -0.07499999999999996\n",
      "\n",
      "---Performing Equlibration---\n",
      "\n"
     ]
    },
    {
     "name": "stderr",
     "output_type": "stream",
     "text": [
      "100%|██████████| 200/200 [00:03<00:00, 52.87it/s]\n",
      "  2%|▏         | 3/200 [00:00<00:07, 26.88it/s]"
     ]
    },
    {
     "name": "stdout",
     "output_type": "stream",
     "text": [
      "\n",
      "---Finished...\n",
      "----Performing MC Moves----\n",
      "\n"
     ]
    },
    {
     "name": "stderr",
     "output_type": "stream",
     "text": [
      "100%|██████████| 200/200 [00:06<00:00, 29.59it/s]\n",
      "  0%|          | 0/200 [00:00<?, ?it/s]"
     ]
    },
    {
     "name": "stdout",
     "output_type": "stream",
     "text": [
      "Completed. Saving\n",
      "75 -0.0625\n",
      "\n",
      "---Performing Equlibration---\n",
      "\n"
     ]
    },
    {
     "name": "stderr",
     "output_type": "stream",
     "text": [
      "100%|██████████| 200/200 [00:03<00:00, 52.03it/s]\n",
      "  2%|▏         | 3/200 [00:00<00:07, 27.71it/s]"
     ]
    },
    {
     "name": "stdout",
     "output_type": "stream",
     "text": [
      "\n",
      "---Finished...\n",
      "----Performing MC Moves----\n",
      "\n"
     ]
    },
    {
     "name": "stderr",
     "output_type": "stream",
     "text": [
      "100%|██████████| 200/200 [00:06<00:00, 30.29it/s]\n"
     ]
    },
    {
     "name": "stdout",
     "output_type": "stream",
     "text": [
      "Completed. Saving\n",
      "76 -0.050000000000000044\n",
      "\n",
      "---Performing Equlibration---\n",
      "\n"
     ]
    },
    {
     "name": "stderr",
     "output_type": "stream",
     "text": [
      "100%|██████████| 200/200 [00:03<00:00, 51.67it/s]\n",
      "  2%|▏         | 3/200 [00:00<00:06, 29.33it/s]"
     ]
    },
    {
     "name": "stdout",
     "output_type": "stream",
     "text": [
      "\n",
      "---Finished...\n",
      "----Performing MC Moves----\n",
      "\n"
     ]
    },
    {
     "name": "stderr",
     "output_type": "stream",
     "text": [
      "100%|██████████| 200/200 [00:06<00:00, 30.62it/s]\n",
      "  3%|▎         | 6/200 [00:00<00:03, 52.43it/s]"
     ]
    },
    {
     "name": "stdout",
     "output_type": "stream",
     "text": [
      "Completed. Saving\n",
      "77 -0.03749999999999998\n",
      "\n",
      "---Performing Equlibration---\n",
      "\n"
     ]
    },
    {
     "name": "stderr",
     "output_type": "stream",
     "text": [
      "100%|██████████| 200/200 [00:03<00:00, 52.32it/s]\n",
      "  2%|▏         | 4/200 [00:00<00:06, 30.56it/s]"
     ]
    },
    {
     "name": "stdout",
     "output_type": "stream",
     "text": [
      "\n",
      "---Finished...\n",
      "----Performing MC Moves----\n",
      "\n"
     ]
    },
    {
     "name": "stderr",
     "output_type": "stream",
     "text": [
      "100%|██████████| 200/200 [00:06<00:00, 30.14it/s]\n",
      "  2%|▎         | 5/200 [00:00<00:04, 47.08it/s]"
     ]
    },
    {
     "name": "stdout",
     "output_type": "stream",
     "text": [
      "Completed. Saving\n",
      "78 -0.025000000000000022\n",
      "\n",
      "---Performing Equlibration---\n",
      "\n"
     ]
    },
    {
     "name": "stderr",
     "output_type": "stream",
     "text": [
      "100%|██████████| 200/200 [00:03<00:00, 51.30it/s]\n",
      "  2%|▏         | 3/200 [00:00<00:06, 28.81it/s]"
     ]
    },
    {
     "name": "stdout",
     "output_type": "stream",
     "text": [
      "\n",
      "---Finished...\n",
      "----Performing MC Moves----\n",
      "\n"
     ]
    },
    {
     "name": "stderr",
     "output_type": "stream",
     "text": [
      "100%|██████████| 200/200 [00:06<00:00, 30.26it/s]\n",
      "  3%|▎         | 6/200 [00:00<00:03, 52.75it/s]"
     ]
    },
    {
     "name": "stdout",
     "output_type": "stream",
     "text": [
      "Completed. Saving\n",
      "79 -0.012499999999999956\n",
      "\n",
      "---Performing Equlibration---\n",
      "\n"
     ]
    },
    {
     "name": "stderr",
     "output_type": "stream",
     "text": [
      "100%|██████████| 200/200 [00:03<00:00, 51.58it/s]\n",
      "  2%|▏         | 3/200 [00:00<00:06, 29.08it/s]"
     ]
    },
    {
     "name": "stdout",
     "output_type": "stream",
     "text": [
      "\n",
      "---Finished...\n",
      "----Performing MC Moves----\n",
      "\n"
     ]
    },
    {
     "name": "stderr",
     "output_type": "stream",
     "text": [
      "100%|██████████| 200/200 [00:06<00:00, 29.91it/s]\n"
     ]
    },
    {
     "name": "stdout",
     "output_type": "stream",
     "text": [
      "Completed. Saving\n",
      "80 0.0\n",
      "\n",
      "---Performing Equlibration---\n",
      "\n"
     ]
    },
    {
     "name": "stderr",
     "output_type": "stream",
     "text": [
      "100%|██████████| 200/200 [00:03<00:00, 51.80it/s]\n",
      "  2%|▏         | 4/200 [00:00<00:06, 31.08it/s]"
     ]
    },
    {
     "name": "stdout",
     "output_type": "stream",
     "text": [
      "\n",
      "---Finished...\n",
      "----Performing MC Moves----\n",
      "\n"
     ]
    },
    {
     "name": "stderr",
     "output_type": "stream",
     "text": [
      "100%|██████████| 200/200 [00:06<00:00, 30.32it/s]\n",
      "  3%|▎         | 6/200 [00:00<00:03, 51.44it/s]"
     ]
    },
    {
     "name": "stdout",
     "output_type": "stream",
     "text": [
      "Completed. Saving\n",
      "81 0.012499999999999956\n",
      "\n",
      "---Performing Equlibration---\n",
      "\n"
     ]
    },
    {
     "name": "stderr",
     "output_type": "stream",
     "text": [
      "100%|██████████| 200/200 [00:03<00:00, 52.56it/s]\n",
      "  2%|▏         | 3/200 [00:00<00:06, 29.25it/s]"
     ]
    },
    {
     "name": "stdout",
     "output_type": "stream",
     "text": [
      "\n",
      "---Finished...\n",
      "----Performing MC Moves----\n",
      "\n"
     ]
    },
    {
     "name": "stderr",
     "output_type": "stream",
     "text": [
      "100%|██████████| 200/200 [00:06<00:00, 30.35it/s]\n",
      "  3%|▎         | 6/200 [00:00<00:03, 50.94it/s]"
     ]
    },
    {
     "name": "stdout",
     "output_type": "stream",
     "text": [
      "Completed. Saving\n",
      "82 0.02499999999999991\n",
      "\n",
      "---Performing Equlibration---\n",
      "\n"
     ]
    },
    {
     "name": "stderr",
     "output_type": "stream",
     "text": [
      "100%|██████████| 200/200 [00:03<00:00, 52.24it/s]\n",
      "  2%|▏         | 3/200 [00:00<00:06, 29.27it/s]"
     ]
    },
    {
     "name": "stdout",
     "output_type": "stream",
     "text": [
      "\n",
      "---Finished...\n",
      "----Performing MC Moves----\n",
      "\n"
     ]
    },
    {
     "name": "stderr",
     "output_type": "stream",
     "text": [
      "100%|██████████| 200/200 [00:06<00:00, 30.47it/s]\n",
      "  3%|▎         | 6/200 [00:00<00:03, 49.73it/s]"
     ]
    },
    {
     "name": "stdout",
     "output_type": "stream",
     "text": [
      "Completed. Saving\n",
      "83 0.03750000000000009\n",
      "\n",
      "---Performing Equlibration---\n",
      "\n"
     ]
    },
    {
     "name": "stderr",
     "output_type": "stream",
     "text": [
      "100%|██████████| 200/200 [00:03<00:00, 51.35it/s]\n",
      "  2%|▏         | 4/200 [00:00<00:06, 31.43it/s]"
     ]
    },
    {
     "name": "stdout",
     "output_type": "stream",
     "text": [
      "\n",
      "---Finished...\n",
      "----Performing MC Moves----\n",
      "\n"
     ]
    },
    {
     "name": "stderr",
     "output_type": "stream",
     "text": [
      "100%|██████████| 200/200 [00:06<00:00, 30.17it/s]\n"
     ]
    },
    {
     "name": "stdout",
     "output_type": "stream",
     "text": [
      "Completed. Saving\n",
      "84 0.050000000000000044\n"
     ]
    },
    {
     "name": "stderr",
     "output_type": "stream",
     "text": [
      "  3%|▎         | 6/200 [00:00<00:03, 53.91it/s]"
     ]
    },
    {
     "name": "stdout",
     "output_type": "stream",
     "text": [
      "\n",
      "---Performing Equlibration---\n",
      "\n"
     ]
    },
    {
     "name": "stderr",
     "output_type": "stream",
     "text": [
      "100%|██████████| 200/200 [00:03<00:00, 51.47it/s]\n",
      "  2%|▏         | 3/200 [00:00<00:06, 28.38it/s]"
     ]
    },
    {
     "name": "stdout",
     "output_type": "stream",
     "text": [
      "\n",
      "---Finished...\n",
      "----Performing MC Moves----\n",
      "\n"
     ]
    },
    {
     "name": "stderr",
     "output_type": "stream",
     "text": [
      "100%|██████████| 200/200 [00:06<00:00, 30.38it/s]\n",
      "  2%|▎         | 5/200 [00:00<00:04, 47.64it/s]"
     ]
    },
    {
     "name": "stdout",
     "output_type": "stream",
     "text": [
      "Completed. Saving\n",
      "85 0.0625\n",
      "\n",
      "---Performing Equlibration---\n",
      "\n"
     ]
    },
    {
     "name": "stderr",
     "output_type": "stream",
     "text": [
      "100%|██████████| 200/200 [00:03<00:00, 52.84it/s]\n",
      "  2%|▏         | 4/200 [00:00<00:06, 30.77it/s]"
     ]
    },
    {
     "name": "stdout",
     "output_type": "stream",
     "text": [
      "\n",
      "---Finished...\n",
      "----Performing MC Moves----\n",
      "\n"
     ]
    },
    {
     "name": "stderr",
     "output_type": "stream",
     "text": [
      "100%|██████████| 200/200 [00:06<00:00, 30.33it/s]\n"
     ]
    },
    {
     "name": "stdout",
     "output_type": "stream",
     "text": [
      "Completed. Saving\n",
      "86 0.07499999999999996\n",
      "\n",
      "---Performing Equlibration---\n",
      "\n"
     ]
    },
    {
     "name": "stderr",
     "output_type": "stream",
     "text": [
      "100%|██████████| 200/200 [00:03<00:00, 52.36it/s]\n",
      "  2%|▏         | 3/200 [00:00<00:06, 28.49it/s]"
     ]
    },
    {
     "name": "stdout",
     "output_type": "stream",
     "text": [
      "\n",
      "---Finished...\n",
      "----Performing MC Moves----\n",
      "\n"
     ]
    },
    {
     "name": "stderr",
     "output_type": "stream",
     "text": [
      "100%|██████████| 200/200 [00:06<00:00, 29.71it/s]\n",
      "  3%|▎         | 6/200 [00:00<00:03, 52.37it/s]"
     ]
    },
    {
     "name": "stdout",
     "output_type": "stream",
     "text": [
      "Completed. Saving\n",
      "87 0.08749999999999991\n",
      "\n",
      "---Performing Equlibration---\n",
      "\n"
     ]
    },
    {
     "name": "stderr",
     "output_type": "stream",
     "text": [
      "100%|██████████| 200/200 [00:03<00:00, 52.39it/s]\n",
      "  2%|▏         | 3/200 [00:00<00:06, 29.13it/s]"
     ]
    },
    {
     "name": "stdout",
     "output_type": "stream",
     "text": [
      "\n",
      "---Finished...\n",
      "----Performing MC Moves----\n",
      "\n"
     ]
    },
    {
     "name": "stderr",
     "output_type": "stream",
     "text": [
      "100%|██████████| 200/200 [00:06<00:00, 30.68it/s]\n",
      "  0%|          | 0/200 [00:00<?, ?it/s]"
     ]
    },
    {
     "name": "stdout",
     "output_type": "stream",
     "text": [
      "Completed. Saving\n",
      "88 0.10000000000000009\n",
      "\n",
      "---Performing Equlibration---\n",
      "\n"
     ]
    },
    {
     "name": "stderr",
     "output_type": "stream",
     "text": [
      "100%|██████████| 200/200 [00:03<00:00, 53.21it/s]\n",
      "  2%|▏         | 3/200 [00:00<00:06, 29.53it/s]"
     ]
    },
    {
     "name": "stdout",
     "output_type": "stream",
     "text": [
      "\n",
      "---Finished...\n",
      "----Performing MC Moves----\n",
      "\n"
     ]
    },
    {
     "name": "stderr",
     "output_type": "stream",
     "text": [
      "100%|██████████| 200/200 [00:06<00:00, 30.68it/s]\n",
      "  3%|▎         | 6/200 [00:00<00:03, 57.03it/s]"
     ]
    },
    {
     "name": "stdout",
     "output_type": "stream",
     "text": [
      "Completed. Saving\n",
      "89 0.11250000000000004\n",
      "\n",
      "---Performing Equlibration---\n",
      "\n"
     ]
    },
    {
     "name": "stderr",
     "output_type": "stream",
     "text": [
      "100%|██████████| 200/200 [00:03<00:00, 52.96it/s]\n",
      "  2%|▏         | 4/200 [00:00<00:06, 31.05it/s]"
     ]
    },
    {
     "name": "stdout",
     "output_type": "stream",
     "text": [
      "\n",
      "---Finished...\n",
      "----Performing MC Moves----\n",
      "\n"
     ]
    },
    {
     "name": "stderr",
     "output_type": "stream",
     "text": [
      "100%|██████████| 200/200 [00:06<00:00, 30.29it/s]\n",
      "  0%|          | 0/200 [00:00<?, ?it/s]"
     ]
    },
    {
     "name": "stdout",
     "output_type": "stream",
     "text": [
      "Completed. Saving\n",
      "90 0.125\n",
      "\n",
      "---Performing Equlibration---\n",
      "\n"
     ]
    },
    {
     "name": "stderr",
     "output_type": "stream",
     "text": [
      "100%|██████████| 200/200 [00:03<00:00, 52.46it/s]\n",
      "  2%|▏         | 3/200 [00:00<00:06, 28.90it/s]"
     ]
    },
    {
     "name": "stdout",
     "output_type": "stream",
     "text": [
      "\n",
      "---Finished...\n",
      "----Performing MC Moves----\n",
      "\n"
     ]
    },
    {
     "name": "stderr",
     "output_type": "stream",
     "text": [
      "100%|██████████| 200/200 [00:06<00:00, 29.27it/s]\n",
      "  3%|▎         | 6/200 [00:00<00:03, 52.39it/s]"
     ]
    },
    {
     "name": "stdout",
     "output_type": "stream",
     "text": [
      "Completed. Saving\n",
      "91 0.13749999999999996\n",
      "\n",
      "---Performing Equlibration---\n",
      "\n"
     ]
    },
    {
     "name": "stderr",
     "output_type": "stream",
     "text": [
      "100%|██████████| 200/200 [00:03<00:00, 52.62it/s]\n",
      "  2%|▏         | 3/200 [00:00<00:06, 29.15it/s]"
     ]
    },
    {
     "name": "stdout",
     "output_type": "stream",
     "text": [
      "\n",
      "---Finished...\n",
      "----Performing MC Moves----\n",
      "\n"
     ]
    },
    {
     "name": "stderr",
     "output_type": "stream",
     "text": [
      "100%|██████████| 200/200 [00:06<00:00, 30.20it/s]\n",
      "  2%|▎         | 5/200 [00:00<00:03, 48.90it/s]"
     ]
    },
    {
     "name": "stdout",
     "output_type": "stream",
     "text": [
      "Completed. Saving\n",
      "92 0.1499999999999999\n",
      "\n",
      "---Performing Equlibration---\n",
      "\n"
     ]
    },
    {
     "name": "stderr",
     "output_type": "stream",
     "text": [
      "100%|██████████| 200/200 [00:03<00:00, 53.36it/s]\n",
      "  2%|▏         | 3/200 [00:00<00:06, 29.72it/s]"
     ]
    },
    {
     "name": "stdout",
     "output_type": "stream",
     "text": [
      "\n",
      "---Finished...\n",
      "----Performing MC Moves----\n",
      "\n"
     ]
    },
    {
     "name": "stderr",
     "output_type": "stream",
     "text": [
      "100%|██████████| 200/200 [00:06<00:00, 30.09it/s]\n",
      "  3%|▎         | 6/200 [00:00<00:03, 54.15it/s]"
     ]
    },
    {
     "name": "stdout",
     "output_type": "stream",
     "text": [
      "Completed. Saving\n",
      "93 0.1625000000000001\n",
      "\n",
      "---Performing Equlibration---\n",
      "\n"
     ]
    },
    {
     "name": "stderr",
     "output_type": "stream",
     "text": [
      "100%|██████████| 200/200 [00:03<00:00, 53.53it/s]\n",
      "  2%|▏         | 3/200 [00:00<00:06, 29.87it/s]"
     ]
    },
    {
     "name": "stdout",
     "output_type": "stream",
     "text": [
      "\n",
      "---Finished...\n",
      "----Performing MC Moves----\n",
      "\n"
     ]
    },
    {
     "name": "stderr",
     "output_type": "stream",
     "text": [
      "100%|██████████| 200/200 [00:06<00:00, 29.38it/s]\n"
     ]
    },
    {
     "name": "stdout",
     "output_type": "stream",
     "text": [
      "Completed. Saving\n",
      "94 0.17500000000000004\n"
     ]
    },
    {
     "name": "stderr",
     "output_type": "stream",
     "text": [
      "100%|██████████| 200/200 [00:03<00:00, 52.86it/s]\n",
      "  2%|▏         | 3/200 [00:00<00:07, 27.96it/s]"
     ]
    },
    {
     "name": "stdout",
     "output_type": "stream",
     "text": [
      "\n",
      "---Performing Equlibration---\n",
      "\n",
      "\n",
      "---Finished...\n",
      "----Performing MC Moves----\n",
      "\n"
     ]
    },
    {
     "name": "stderr",
     "output_type": "stream",
     "text": [
      "100%|██████████| 200/200 [00:06<00:00, 30.65it/s]\n",
      "  2%|▎         | 5/200 [00:00<00:04, 45.22it/s]"
     ]
    },
    {
     "name": "stdout",
     "output_type": "stream",
     "text": [
      "Completed. Saving\n",
      "95 0.1875\n",
      "\n",
      "---Performing Equlibration---\n",
      "\n"
     ]
    },
    {
     "name": "stderr",
     "output_type": "stream",
     "text": [
      "100%|██████████| 200/200 [00:03<00:00, 52.70it/s]\n",
      "  2%|▏         | 4/200 [00:00<00:06, 30.63it/s]"
     ]
    },
    {
     "name": "stdout",
     "output_type": "stream",
     "text": [
      "\n",
      "---Finished...\n",
      "----Performing MC Moves----\n",
      "\n"
     ]
    },
    {
     "name": "stderr",
     "output_type": "stream",
     "text": [
      "100%|██████████| 200/200 [00:06<00:00, 30.39it/s]\n",
      "  3%|▎         | 6/200 [00:00<00:03, 51.62it/s]"
     ]
    },
    {
     "name": "stdout",
     "output_type": "stream",
     "text": [
      "Completed. Saving\n",
      "96 0.19999999999999996\n",
      "\n",
      "---Performing Equlibration---\n",
      "\n"
     ]
    },
    {
     "name": "stderr",
     "output_type": "stream",
     "text": [
      "100%|██████████| 200/200 [00:03<00:00, 52.37it/s]\n",
      "  2%|▏         | 3/200 [00:00<00:07, 27.97it/s]"
     ]
    },
    {
     "name": "stdout",
     "output_type": "stream",
     "text": [
      "\n",
      "---Finished...\n",
      "----Performing MC Moves----\n",
      "\n"
     ]
    },
    {
     "name": "stderr",
     "output_type": "stream",
     "text": [
      "100%|██████████| 200/200 [00:06<00:00, 29.24it/s]\n",
      "  3%|▎         | 6/200 [00:00<00:03, 51.58it/s]"
     ]
    },
    {
     "name": "stdout",
     "output_type": "stream",
     "text": [
      "Completed. Saving\n",
      "97 0.2124999999999999\n",
      "\n",
      "---Performing Equlibration---\n",
      "\n"
     ]
    },
    {
     "name": "stderr",
     "output_type": "stream",
     "text": [
      "100%|██████████| 200/200 [00:03<00:00, 51.83it/s]\n",
      "  2%|▏         | 3/200 [00:00<00:07, 27.44it/s]"
     ]
    },
    {
     "name": "stdout",
     "output_type": "stream",
     "text": [
      "\n",
      "---Finished...\n",
      "----Performing MC Moves----\n",
      "\n"
     ]
    },
    {
     "name": "stderr",
     "output_type": "stream",
     "text": [
      "100%|██████████| 200/200 [00:06<00:00, 29.29it/s]\n",
      "  0%|          | 0/200 [00:00<?, ?it/s]"
     ]
    },
    {
     "name": "stdout",
     "output_type": "stream",
     "text": [
      "Completed. Saving\n",
      "98 0.2250000000000001\n",
      "\n",
      "---Performing Equlibration---\n",
      "\n"
     ]
    },
    {
     "name": "stderr",
     "output_type": "stream",
     "text": [
      "100%|██████████| 200/200 [00:03<00:00, 51.80it/s]\n",
      "  2%|▏         | 3/200 [00:00<00:06, 28.24it/s]"
     ]
    },
    {
     "name": "stdout",
     "output_type": "stream",
     "text": [
      "\n",
      "---Finished...\n",
      "----Performing MC Moves----\n",
      "\n"
     ]
    },
    {
     "name": "stderr",
     "output_type": "stream",
     "text": [
      "100%|██████████| 200/200 [00:06<00:00, 30.08it/s]\n",
      "  3%|▎         | 6/200 [00:00<00:03, 51.87it/s]"
     ]
    },
    {
     "name": "stdout",
     "output_type": "stream",
     "text": [
      "Completed. Saving\n",
      "99 0.23750000000000004\n",
      "\n",
      "---Performing Equlibration---\n",
      "\n"
     ]
    },
    {
     "name": "stderr",
     "output_type": "stream",
     "text": [
      "100%|██████████| 200/200 [00:03<00:00, 52.38it/s]\n",
      "  2%|▏         | 4/200 [00:00<00:06, 30.83it/s]"
     ]
    },
    {
     "name": "stdout",
     "output_type": "stream",
     "text": [
      "\n",
      "---Finished...\n",
      "----Performing MC Moves----\n",
      "\n"
     ]
    },
    {
     "name": "stderr",
     "output_type": "stream",
     "text": [
      "100%|██████████| 200/200 [00:06<00:00, 30.27it/s]\n",
      "  3%|▎         | 6/200 [00:00<00:03, 52.51it/s]"
     ]
    },
    {
     "name": "stdout",
     "output_type": "stream",
     "text": [
      "Completed. Saving\n",
      "100 0.25\n",
      "\n",
      "---Performing Equlibration---\n",
      "\n"
     ]
    },
    {
     "name": "stderr",
     "output_type": "stream",
     "text": [
      "100%|██████████| 200/200 [00:03<00:00, 53.62it/s]\n",
      "  2%|▏         | 3/200 [00:00<00:06, 29.61it/s]"
     ]
    },
    {
     "name": "stdout",
     "output_type": "stream",
     "text": [
      "\n",
      "---Finished...\n",
      "----Performing MC Moves----\n",
      "\n"
     ]
    },
    {
     "name": "stderr",
     "output_type": "stream",
     "text": [
      "100%|██████████| 200/200 [00:06<00:00, 30.29it/s]\n",
      "  2%|▎         | 5/200 [00:00<00:03, 49.60it/s]"
     ]
    },
    {
     "name": "stdout",
     "output_type": "stream",
     "text": [
      "Completed. Saving\n",
      "101 0.26249999999999996\n",
      "\n",
      "---Performing Equlibration---\n",
      "\n"
     ]
    },
    {
     "name": "stderr",
     "output_type": "stream",
     "text": [
      "100%|██████████| 200/200 [00:03<00:00, 52.95it/s]\n",
      "  2%|▏         | 4/200 [00:00<00:06, 30.91it/s]"
     ]
    },
    {
     "name": "stdout",
     "output_type": "stream",
     "text": [
      "\n",
      "---Finished...\n",
      "----Performing MC Moves----\n",
      "\n"
     ]
    },
    {
     "name": "stderr",
     "output_type": "stream",
     "text": [
      "100%|██████████| 200/200 [00:06<00:00, 30.44it/s]\n"
     ]
    },
    {
     "name": "stdout",
     "output_type": "stream",
     "text": [
      "Completed. Saving\n",
      "102 0.2749999999999999\n"
     ]
    },
    {
     "name": "stderr",
     "output_type": "stream",
     "text": [
      "100%|██████████| 200/200 [00:03<00:00, 52.26it/s]\n",
      "  2%|▏         | 4/200 [00:00<00:06, 30.96it/s]"
     ]
    },
    {
     "name": "stdout",
     "output_type": "stream",
     "text": [
      "\n",
      "---Performing Equlibration---\n",
      "\n",
      "\n",
      "---Finished...\n",
      "----Performing MC Moves----\n",
      "\n"
     ]
    },
    {
     "name": "stderr",
     "output_type": "stream",
     "text": [
      "100%|██████████| 200/200 [00:06<00:00, 29.94it/s]\n",
      "  3%|▎         | 6/200 [00:00<00:03, 54.72it/s]"
     ]
    },
    {
     "name": "stdout",
     "output_type": "stream",
     "text": [
      "Completed. Saving\n",
      "103 0.2875000000000001\n",
      "\n",
      "---Performing Equlibration---\n",
      "\n"
     ]
    },
    {
     "name": "stderr",
     "output_type": "stream",
     "text": [
      "100%|██████████| 200/200 [00:03<00:00, 53.85it/s]\n",
      "  2%|▏         | 3/200 [00:00<00:06, 29.72it/s]"
     ]
    },
    {
     "name": "stdout",
     "output_type": "stream",
     "text": [
      "\n",
      "---Finished...\n",
      "----Performing MC Moves----\n",
      "\n"
     ]
    },
    {
     "name": "stderr",
     "output_type": "stream",
     "text": [
      "100%|██████████| 200/200 [00:06<00:00, 30.12it/s]\n",
      "  3%|▎         | 6/200 [00:00<00:03, 52.64it/s]"
     ]
    },
    {
     "name": "stdout",
     "output_type": "stream",
     "text": [
      "Completed. Saving\n",
      "104 0.30000000000000004\n",
      "\n",
      "---Performing Equlibration---\n",
      "\n"
     ]
    },
    {
     "name": "stderr",
     "output_type": "stream",
     "text": [
      "100%|██████████| 200/200 [00:03<00:00, 53.76it/s]\n",
      "  2%|▏         | 3/200 [00:00<00:07, 27.89it/s]"
     ]
    },
    {
     "name": "stdout",
     "output_type": "stream",
     "text": [
      "\n",
      "---Finished...\n",
      "----Performing MC Moves----\n",
      "\n"
     ]
    },
    {
     "name": "stderr",
     "output_type": "stream",
     "text": [
      "100%|██████████| 200/200 [00:06<00:00, 30.44it/s]\n",
      "  3%|▎         | 6/200 [00:00<00:03, 52.55it/s]"
     ]
    },
    {
     "name": "stdout",
     "output_type": "stream",
     "text": [
      "Completed. Saving\n",
      "105 0.3125\n",
      "\n",
      "---Performing Equlibration---\n",
      "\n"
     ]
    },
    {
     "name": "stderr",
     "output_type": "stream",
     "text": [
      "100%|██████████| 200/200 [00:03<00:00, 51.89it/s]\n",
      "  2%|▏         | 3/200 [00:00<00:06, 28.85it/s]"
     ]
    },
    {
     "name": "stdout",
     "output_type": "stream",
     "text": [
      "\n",
      "---Finished...\n",
      "----Performing MC Moves----\n",
      "\n"
     ]
    },
    {
     "name": "stderr",
     "output_type": "stream",
     "text": [
      "100%|██████████| 200/200 [00:06<00:00, 30.03it/s]\n",
      "  0%|          | 0/200 [00:00<?, ?it/s]"
     ]
    },
    {
     "name": "stdout",
     "output_type": "stream",
     "text": [
      "Completed. Saving\n",
      "106 0.32499999999999996\n",
      "\n",
      "---Performing Equlibration---\n",
      "\n"
     ]
    },
    {
     "name": "stderr",
     "output_type": "stream",
     "text": [
      "100%|██████████| 200/200 [00:03<00:00, 52.54it/s]\n",
      "  2%|▏         | 3/200 [00:00<00:06, 29.69it/s]"
     ]
    },
    {
     "name": "stdout",
     "output_type": "stream",
     "text": [
      "\n",
      "---Finished...\n",
      "----Performing MC Moves----\n",
      "\n"
     ]
    },
    {
     "name": "stderr",
     "output_type": "stream",
     "text": [
      "100%|██████████| 200/200 [00:06<00:00, 30.01it/s]\n"
     ]
    },
    {
     "name": "stdout",
     "output_type": "stream",
     "text": [
      "Completed. Saving\n",
      "107 0.3374999999999999\n",
      "\n",
      "---Performing Equlibration---\n",
      "\n"
     ]
    },
    {
     "name": "stderr",
     "output_type": "stream",
     "text": [
      "100%|██████████| 200/200 [00:03<00:00, 53.22it/s]\n",
      "  2%|▏         | 3/200 [00:00<00:06, 28.92it/s]"
     ]
    },
    {
     "name": "stdout",
     "output_type": "stream",
     "text": [
      "\n",
      "---Finished...\n",
      "----Performing MC Moves----\n",
      "\n"
     ]
    },
    {
     "name": "stderr",
     "output_type": "stream",
     "text": [
      "100%|██████████| 200/200 [00:06<00:00, 29.36it/s]\n",
      "  3%|▎         | 6/200 [00:00<00:03, 54.69it/s]"
     ]
    },
    {
     "name": "stdout",
     "output_type": "stream",
     "text": [
      "Completed. Saving\n",
      "108 0.3500000000000001\n",
      "\n",
      "---Performing Equlibration---\n",
      "\n"
     ]
    },
    {
     "name": "stderr",
     "output_type": "stream",
     "text": [
      "100%|██████████| 200/200 [00:03<00:00, 52.37it/s]\n",
      "  2%|▏         | 3/200 [00:00<00:06, 29.65it/s]"
     ]
    },
    {
     "name": "stdout",
     "output_type": "stream",
     "text": [
      "\n",
      "---Finished...\n",
      "----Performing MC Moves----\n",
      "\n"
     ]
    },
    {
     "name": "stderr",
     "output_type": "stream",
     "text": [
      "100%|██████████| 200/200 [00:06<00:00, 29.23it/s]\n",
      "  0%|          | 0/200 [00:00<?, ?it/s]"
     ]
    },
    {
     "name": "stdout",
     "output_type": "stream",
     "text": [
      "Completed. Saving\n",
      "109 0.36250000000000004\n",
      "\n",
      "---Performing Equlibration---\n",
      "\n"
     ]
    },
    {
     "name": "stderr",
     "output_type": "stream",
     "text": [
      "100%|██████████| 200/200 [00:03<00:00, 53.60it/s]\n",
      "  2%|▏         | 4/200 [00:00<00:06, 29.58it/s]"
     ]
    },
    {
     "name": "stdout",
     "output_type": "stream",
     "text": [
      "\n",
      "---Finished...\n",
      "----Performing MC Moves----\n",
      "\n"
     ]
    },
    {
     "name": "stderr",
     "output_type": "stream",
     "text": [
      "100%|██████████| 200/200 [00:06<00:00, 30.62it/s]\n",
      "  3%|▎         | 6/200 [00:00<00:03, 55.90it/s]"
     ]
    },
    {
     "name": "stdout",
     "output_type": "stream",
     "text": [
      "Completed. Saving\n",
      "110 0.375\n",
      "\n",
      "---Performing Equlibration---\n",
      "\n"
     ]
    },
    {
     "name": "stderr",
     "output_type": "stream",
     "text": [
      "100%|██████████| 200/200 [00:03<00:00, 53.58it/s]\n",
      "  2%|▏         | 3/200 [00:00<00:06, 29.28it/s]"
     ]
    },
    {
     "name": "stdout",
     "output_type": "stream",
     "text": [
      "\n",
      "---Finished...\n",
      "----Performing MC Moves----\n",
      "\n"
     ]
    },
    {
     "name": "stderr",
     "output_type": "stream",
     "text": [
      "100%|██████████| 200/200 [00:06<00:00, 30.19it/s]\n",
      "  3%|▎         | 6/200 [00:00<00:03, 52.09it/s]"
     ]
    },
    {
     "name": "stdout",
     "output_type": "stream",
     "text": [
      "Completed. Saving\n",
      "111 0.38749999999999996\n",
      "\n",
      "---Performing Equlibration---\n",
      "\n"
     ]
    },
    {
     "name": "stderr",
     "output_type": "stream",
     "text": [
      "100%|██████████| 200/200 [00:03<00:00, 53.50it/s]\n",
      "  2%|▏         | 3/200 [00:00<00:06, 29.97it/s]"
     ]
    },
    {
     "name": "stdout",
     "output_type": "stream",
     "text": [
      "\n",
      "---Finished...\n",
      "----Performing MC Moves----\n",
      "\n"
     ]
    },
    {
     "name": "stderr",
     "output_type": "stream",
     "text": [
      "100%|██████████| 200/200 [00:06<00:00, 30.27it/s]\n"
     ]
    },
    {
     "name": "stdout",
     "output_type": "stream",
     "text": [
      "Completed. Saving\n",
      "112 0.3999999999999999\n",
      "\n",
      "---Performing Equlibration---\n",
      "\n"
     ]
    },
    {
     "name": "stderr",
     "output_type": "stream",
     "text": [
      "100%|██████████| 200/200 [00:03<00:00, 53.39it/s]\n",
      "  2%|▏         | 3/200 [00:00<00:06, 28.36it/s]"
     ]
    },
    {
     "name": "stdout",
     "output_type": "stream",
     "text": [
      "\n",
      "---Finished...\n",
      "----Performing MC Moves----\n",
      "\n"
     ]
    },
    {
     "name": "stderr",
     "output_type": "stream",
     "text": [
      "100%|██████████| 200/200 [00:06<00:00, 30.39it/s]\n",
      "  3%|▎         | 6/200 [00:00<00:03, 50.53it/s]"
     ]
    },
    {
     "name": "stdout",
     "output_type": "stream",
     "text": [
      "Completed. Saving\n",
      "113 0.4125000000000001\n",
      "\n",
      "---Performing Equlibration---\n",
      "\n"
     ]
    },
    {
     "name": "stderr",
     "output_type": "stream",
     "text": [
      "100%|██████████| 200/200 [00:03<00:00, 53.17it/s]\n",
      "  2%|▏         | 3/200 [00:00<00:06, 29.12it/s]"
     ]
    },
    {
     "name": "stdout",
     "output_type": "stream",
     "text": [
      "\n",
      "---Finished...\n",
      "----Performing MC Moves----\n",
      "\n"
     ]
    },
    {
     "name": "stderr",
     "output_type": "stream",
     "text": [
      "100%|██████████| 200/200 [00:06<00:00, 30.08it/s]\n"
     ]
    },
    {
     "name": "stdout",
     "output_type": "stream",
     "text": [
      "Completed. Saving\n",
      "114 0.42500000000000004\n"
     ]
    },
    {
     "name": "stderr",
     "output_type": "stream",
     "text": [
      "  3%|▎         | 6/200 [00:00<00:03, 54.38it/s]"
     ]
    },
    {
     "name": "stdout",
     "output_type": "stream",
     "text": [
      "\n",
      "---Performing Equlibration---\n",
      "\n"
     ]
    },
    {
     "name": "stderr",
     "output_type": "stream",
     "text": [
      "100%|██████████| 200/200 [00:03<00:00, 53.93it/s]\n",
      "  2%|▏         | 3/200 [00:00<00:07, 27.42it/s]"
     ]
    },
    {
     "name": "stdout",
     "output_type": "stream",
     "text": [
      "\n",
      "---Finished...\n",
      "----Performing MC Moves----\n",
      "\n"
     ]
    },
    {
     "name": "stderr",
     "output_type": "stream",
     "text": [
      "100%|██████████| 200/200 [00:06<00:00, 30.22it/s]\n"
     ]
    },
    {
     "name": "stdout",
     "output_type": "stream",
     "text": [
      "Completed. Saving\n",
      "115 0.4375\n",
      "\n",
      "---Performing Equlibration---\n",
      "\n"
     ]
    },
    {
     "name": "stderr",
     "output_type": "stream",
     "text": [
      "100%|██████████| 200/200 [00:03<00:00, 53.93it/s]\n",
      "  2%|▏         | 3/200 [00:00<00:06, 28.59it/s]"
     ]
    },
    {
     "name": "stdout",
     "output_type": "stream",
     "text": [
      "\n",
      "---Finished...\n",
      "----Performing MC Moves----\n",
      "\n"
     ]
    },
    {
     "name": "stderr",
     "output_type": "stream",
     "text": [
      "100%|██████████| 200/200 [00:06<00:00, 30.45it/s]\n",
      "  3%|▎         | 6/200 [00:00<00:03, 52.14it/s]"
     ]
    },
    {
     "name": "stdout",
     "output_type": "stream",
     "text": [
      "Completed. Saving\n",
      "116 0.44999999999999996\n",
      "\n",
      "---Performing Equlibration---\n",
      "\n"
     ]
    },
    {
     "name": "stderr",
     "output_type": "stream",
     "text": [
      "100%|██████████| 200/200 [00:03<00:00, 54.10it/s]\n",
      "  2%|▏         | 4/200 [00:00<00:06, 31.02it/s]"
     ]
    },
    {
     "name": "stdout",
     "output_type": "stream",
     "text": [
      "\n",
      "---Finished...\n",
      "----Performing MC Moves----\n",
      "\n"
     ]
    },
    {
     "name": "stderr",
     "output_type": "stream",
     "text": [
      "100%|██████████| 200/200 [00:06<00:00, 30.59it/s]\n",
      "  3%|▎         | 6/200 [00:00<00:03, 55.06it/s]"
     ]
    },
    {
     "name": "stdout",
     "output_type": "stream",
     "text": [
      "Completed. Saving\n",
      "117 0.4624999999999999\n",
      "\n",
      "---Performing Equlibration---\n",
      "\n"
     ]
    },
    {
     "name": "stderr",
     "output_type": "stream",
     "text": [
      "100%|██████████| 200/200 [00:03<00:00, 53.82it/s]\n",
      "  2%|▏         | 3/200 [00:00<00:06, 29.00it/s]"
     ]
    },
    {
     "name": "stdout",
     "output_type": "stream",
     "text": [
      "\n",
      "---Finished...\n",
      "----Performing MC Moves----\n",
      "\n"
     ]
    },
    {
     "name": "stderr",
     "output_type": "stream",
     "text": [
      "100%|██████████| 200/200 [00:06<00:00, 30.47it/s]\n",
      "  3%|▎         | 6/200 [00:00<00:03, 55.76it/s]"
     ]
    },
    {
     "name": "stdout",
     "output_type": "stream",
     "text": [
      "Completed. Saving\n",
      "118 0.4750000000000001\n",
      "\n",
      "---Performing Equlibration---\n",
      "\n"
     ]
    },
    {
     "name": "stderr",
     "output_type": "stream",
     "text": [
      "100%|██████████| 200/200 [00:03<00:00, 53.20it/s]\n",
      "  2%|▏         | 4/200 [00:00<00:06, 31.46it/s]"
     ]
    },
    {
     "name": "stdout",
     "output_type": "stream",
     "text": [
      "\n",
      "---Finished...\n",
      "----Performing MC Moves----\n",
      "\n"
     ]
    },
    {
     "name": "stderr",
     "output_type": "stream",
     "text": [
      "100%|██████████| 200/200 [00:06<00:00, 30.36it/s]\n",
      "  3%|▎         | 6/200 [00:00<00:03, 54.78it/s]"
     ]
    },
    {
     "name": "stdout",
     "output_type": "stream",
     "text": [
      "Completed. Saving\n",
      "119 0.48750000000000004\n",
      "\n",
      "---Performing Equlibration---\n",
      "\n"
     ]
    },
    {
     "name": "stderr",
     "output_type": "stream",
     "text": [
      "100%|██████████| 200/200 [00:03<00:00, 53.65it/s]\n",
      "  2%|▏         | 4/200 [00:00<00:06, 30.66it/s]"
     ]
    },
    {
     "name": "stdout",
     "output_type": "stream",
     "text": [
      "\n",
      "---Finished...\n",
      "----Performing MC Moves----\n",
      "\n"
     ]
    },
    {
     "name": "stderr",
     "output_type": "stream",
     "text": [
      "100%|██████████| 200/200 [00:06<00:00, 30.83it/s]\n",
      "  3%|▎         | 6/200 [00:00<00:03, 54.03it/s]"
     ]
    },
    {
     "name": "stdout",
     "output_type": "stream",
     "text": [
      "Completed. Saving\n",
      "120 0.5\n",
      "\n",
      "---Performing Equlibration---\n",
      "\n"
     ]
    },
    {
     "name": "stderr",
     "output_type": "stream",
     "text": [
      "100%|██████████| 200/200 [00:03<00:00, 53.05it/s]\n",
      "  2%|▏         | 3/200 [00:00<00:06, 29.15it/s]"
     ]
    },
    {
     "name": "stdout",
     "output_type": "stream",
     "text": [
      "\n",
      "---Finished...\n",
      "----Performing MC Moves----\n",
      "\n"
     ]
    },
    {
     "name": "stderr",
     "output_type": "stream",
     "text": [
      "100%|██████████| 200/200 [00:06<00:00, 30.16it/s]\n",
      "  3%|▎         | 6/200 [00:00<00:03, 55.61it/s]"
     ]
    },
    {
     "name": "stdout",
     "output_type": "stream",
     "text": [
      "Completed. Saving\n",
      "121 0.5125\n",
      "\n",
      "---Performing Equlibration---\n",
      "\n"
     ]
    },
    {
     "name": "stderr",
     "output_type": "stream",
     "text": [
      "100%|██████████| 200/200 [00:03<00:00, 53.76it/s]\n",
      "  2%|▏         | 3/200 [00:00<00:06, 29.88it/s]"
     ]
    },
    {
     "name": "stdout",
     "output_type": "stream",
     "text": [
      "\n",
      "---Finished...\n",
      "----Performing MC Moves----\n",
      "\n"
     ]
    },
    {
     "name": "stderr",
     "output_type": "stream",
     "text": [
      "100%|██████████| 200/200 [00:06<00:00, 30.52it/s]\n",
      "  3%|▎         | 6/200 [00:00<00:03, 52.05it/s]"
     ]
    },
    {
     "name": "stdout",
     "output_type": "stream",
     "text": [
      "Completed. Saving\n",
      "122 0.5249999999999999\n",
      "\n",
      "---Performing Equlibration---\n",
      "\n"
     ]
    },
    {
     "name": "stderr",
     "output_type": "stream",
     "text": [
      "100%|██████████| 200/200 [00:03<00:00, 52.83it/s]\n",
      "  2%|▏         | 4/200 [00:00<00:06, 31.01it/s]"
     ]
    },
    {
     "name": "stdout",
     "output_type": "stream",
     "text": [
      "\n",
      "---Finished...\n",
      "----Performing MC Moves----\n",
      "\n"
     ]
    },
    {
     "name": "stderr",
     "output_type": "stream",
     "text": [
      "100%|██████████| 200/200 [00:06<00:00, 30.57it/s]\n",
      "  3%|▎         | 6/200 [00:00<00:03, 55.02it/s]"
     ]
    },
    {
     "name": "stdout",
     "output_type": "stream",
     "text": [
      "Completed. Saving\n",
      "123 0.5375000000000001\n",
      "\n",
      "---Performing Equlibration---\n",
      "\n"
     ]
    },
    {
     "name": "stderr",
     "output_type": "stream",
     "text": [
      "100%|██████████| 200/200 [00:03<00:00, 52.88it/s]\n",
      "  2%|▏         | 4/200 [00:00<00:06, 31.02it/s]"
     ]
    },
    {
     "name": "stdout",
     "output_type": "stream",
     "text": [
      "\n",
      "---Finished...\n",
      "----Performing MC Moves----\n",
      "\n"
     ]
    },
    {
     "name": "stderr",
     "output_type": "stream",
     "text": [
      "100%|██████████| 200/200 [00:06<00:00, 30.23it/s]\n",
      "  0%|          | 0/200 [00:00<?, ?it/s]"
     ]
    },
    {
     "name": "stdout",
     "output_type": "stream",
     "text": [
      "Completed. Saving\n",
      "124 0.55\n",
      "\n",
      "---Performing Equlibration---\n",
      "\n"
     ]
    },
    {
     "name": "stderr",
     "output_type": "stream",
     "text": [
      "100%|██████████| 200/200 [00:03<00:00, 54.35it/s]\n",
      "  2%|▏         | 3/200 [00:00<00:07, 26.95it/s]"
     ]
    },
    {
     "name": "stdout",
     "output_type": "stream",
     "text": [
      "\n",
      "---Finished...\n",
      "----Performing MC Moves----\n",
      "\n"
     ]
    },
    {
     "name": "stderr",
     "output_type": "stream",
     "text": [
      "100%|██████████| 200/200 [00:06<00:00, 30.72it/s]\n",
      "  3%|▎         | 6/200 [00:00<00:03, 51.78it/s]"
     ]
    },
    {
     "name": "stdout",
     "output_type": "stream",
     "text": [
      "Completed. Saving\n",
      "125 0.5625\n",
      "\n",
      "---Performing Equlibration---\n",
      "\n"
     ]
    },
    {
     "name": "stderr",
     "output_type": "stream",
     "text": [
      "100%|██████████| 200/200 [00:03<00:00, 53.35it/s]\n",
      "  2%|▏         | 3/200 [00:00<00:07, 27.44it/s]"
     ]
    },
    {
     "name": "stdout",
     "output_type": "stream",
     "text": [
      "\n",
      "---Finished...\n",
      "----Performing MC Moves----\n",
      "\n"
     ]
    },
    {
     "name": "stderr",
     "output_type": "stream",
     "text": [
      "100%|██████████| 200/200 [00:06<00:00, 31.20it/s]\n"
     ]
    },
    {
     "name": "stdout",
     "output_type": "stream",
     "text": [
      "Completed. Saving\n",
      "126 0.575\n",
      "\n",
      "---Performing Equlibration---\n",
      "\n"
     ]
    },
    {
     "name": "stderr",
     "output_type": "stream",
     "text": [
      "100%|██████████| 200/200 [00:03<00:00, 52.70it/s]\n",
      "  2%|▏         | 3/200 [00:00<00:07, 27.90it/s]"
     ]
    },
    {
     "name": "stdout",
     "output_type": "stream",
     "text": [
      "\n",
      "---Finished...\n",
      "----Performing MC Moves----\n",
      "\n"
     ]
    },
    {
     "name": "stderr",
     "output_type": "stream",
     "text": [
      "100%|██████████| 200/200 [00:06<00:00, 28.71it/s]\n",
      "  3%|▎         | 6/200 [00:00<00:03, 55.35it/s]"
     ]
    },
    {
     "name": "stdout",
     "output_type": "stream",
     "text": [
      "Completed. Saving\n",
      "127 0.5874999999999999\n",
      "\n",
      "---Performing Equlibration---\n",
      "\n"
     ]
    },
    {
     "name": "stderr",
     "output_type": "stream",
     "text": [
      "100%|██████████| 200/200 [00:03<00:00, 54.63it/s]\n",
      "  2%|▏         | 3/200 [00:00<00:06, 29.65it/s]"
     ]
    },
    {
     "name": "stdout",
     "output_type": "stream",
     "text": [
      "\n",
      "---Finished...\n",
      "----Performing MC Moves----\n",
      "\n"
     ]
    },
    {
     "name": "stderr",
     "output_type": "stream",
     "text": [
      "100%|██████████| 200/200 [00:06<00:00, 29.69it/s]\n",
      "  2%|▎         | 5/200 [00:00<00:03, 49.63it/s]"
     ]
    },
    {
     "name": "stdout",
     "output_type": "stream",
     "text": [
      "Completed. Saving\n",
      "128 0.6000000000000001\n",
      "\n",
      "---Performing Equlibration---\n",
      "\n"
     ]
    },
    {
     "name": "stderr",
     "output_type": "stream",
     "text": [
      "100%|██████████| 200/200 [00:03<00:00, 51.75it/s]\n",
      "  2%|▏         | 3/200 [00:00<00:06, 29.02it/s]"
     ]
    },
    {
     "name": "stdout",
     "output_type": "stream",
     "text": [
      "\n",
      "---Finished...\n",
      "----Performing MC Moves----\n",
      "\n"
     ]
    },
    {
     "name": "stderr",
     "output_type": "stream",
     "text": [
      "100%|██████████| 200/200 [00:06<00:00, 29.30it/s]\n"
     ]
    },
    {
     "name": "stdout",
     "output_type": "stream",
     "text": [
      "Completed. Saving\n",
      "129 0.6125\n",
      "\n",
      "---Performing Equlibration---\n",
      "\n"
     ]
    },
    {
     "name": "stderr",
     "output_type": "stream",
     "text": [
      "100%|██████████| 200/200 [00:03<00:00, 52.94it/s]\n",
      "  2%|▏         | 3/200 [00:00<00:06, 29.60it/s]"
     ]
    },
    {
     "name": "stdout",
     "output_type": "stream",
     "text": [
      "\n",
      "---Finished...\n",
      "----Performing MC Moves----\n",
      "\n"
     ]
    },
    {
     "name": "stderr",
     "output_type": "stream",
     "text": [
      "100%|██████████| 200/200 [00:06<00:00, 30.66it/s]\n"
     ]
    },
    {
     "name": "stdout",
     "output_type": "stream",
     "text": [
      "Completed. Saving\n",
      "130 0.625\n",
      "\n",
      "---Performing Equlibration---\n",
      "\n"
     ]
    },
    {
     "name": "stderr",
     "output_type": "stream",
     "text": [
      "100%|██████████| 200/200 [00:03<00:00, 52.23it/s]\n",
      "  2%|▏         | 3/200 [00:00<00:07, 27.69it/s]"
     ]
    },
    {
     "name": "stdout",
     "output_type": "stream",
     "text": [
      "\n",
      "---Finished...\n",
      "----Performing MC Moves----\n",
      "\n"
     ]
    },
    {
     "name": "stderr",
     "output_type": "stream",
     "text": [
      "100%|██████████| 200/200 [00:06<00:00, 30.26it/s]\n",
      "  3%|▎         | 6/200 [00:00<00:03, 51.51it/s]"
     ]
    },
    {
     "name": "stdout",
     "output_type": "stream",
     "text": [
      "Completed. Saving\n",
      "131 0.6375\n",
      "\n",
      "---Performing Equlibration---\n",
      "\n"
     ]
    },
    {
     "name": "stderr",
     "output_type": "stream",
     "text": [
      "100%|██████████| 200/200 [00:03<00:00, 54.30it/s]\n",
      "  2%|▏         | 4/200 [00:00<00:06, 30.62it/s]"
     ]
    },
    {
     "name": "stdout",
     "output_type": "stream",
     "text": [
      "\n",
      "---Finished...\n",
      "----Performing MC Moves----\n",
      "\n"
     ]
    },
    {
     "name": "stderr",
     "output_type": "stream",
     "text": [
      "100%|██████████| 200/200 [00:06<00:00, 30.79it/s]\n",
      "  3%|▎         | 6/200 [00:00<00:03, 52.91it/s]"
     ]
    },
    {
     "name": "stdout",
     "output_type": "stream",
     "text": [
      "Completed. Saving\n",
      "132 0.6499999999999999\n",
      "\n",
      "---Performing Equlibration---\n",
      "\n"
     ]
    },
    {
     "name": "stderr",
     "output_type": "stream",
     "text": [
      "100%|██████████| 200/200 [00:03<00:00, 54.30it/s]\n",
      "  2%|▏         | 3/200 [00:00<00:07, 27.22it/s]"
     ]
    },
    {
     "name": "stdout",
     "output_type": "stream",
     "text": [
      "\n",
      "---Finished...\n",
      "----Performing MC Moves----\n",
      "\n"
     ]
    },
    {
     "name": "stderr",
     "output_type": "stream",
     "text": [
      "100%|██████████| 200/200 [00:06<00:00, 30.54it/s]\n",
      "  3%|▎         | 6/200 [00:00<00:03, 55.37it/s]"
     ]
    },
    {
     "name": "stdout",
     "output_type": "stream",
     "text": [
      "Completed. Saving\n",
      "133 0.6625000000000001\n",
      "\n",
      "---Performing Equlibration---\n",
      "\n"
     ]
    },
    {
     "name": "stderr",
     "output_type": "stream",
     "text": [
      "100%|██████████| 200/200 [00:03<00:00, 54.38it/s]\n",
      "  2%|▏         | 3/200 [00:00<00:06, 29.99it/s]"
     ]
    },
    {
     "name": "stdout",
     "output_type": "stream",
     "text": [
      "\n",
      "---Finished...\n",
      "----Performing MC Moves----\n",
      "\n"
     ]
    },
    {
     "name": "stderr",
     "output_type": "stream",
     "text": [
      "100%|██████████| 200/200 [00:06<00:00, 30.65it/s]\n",
      "  3%|▎         | 6/200 [00:00<00:03, 53.69it/s]"
     ]
    },
    {
     "name": "stdout",
     "output_type": "stream",
     "text": [
      "Completed. Saving\n",
      "134 0.675\n",
      "\n",
      "---Performing Equlibration---\n",
      "\n"
     ]
    },
    {
     "name": "stderr",
     "output_type": "stream",
     "text": [
      "100%|██████████| 200/200 [00:03<00:00, 53.51it/s]\n",
      "  2%|▏         | 3/200 [00:00<00:06, 28.49it/s]"
     ]
    },
    {
     "name": "stdout",
     "output_type": "stream",
     "text": [
      "\n",
      "---Finished...\n",
      "----Performing MC Moves----\n",
      "\n"
     ]
    },
    {
     "name": "stderr",
     "output_type": "stream",
     "text": [
      "100%|██████████| 200/200 [00:06<00:00, 30.42it/s]\n",
      "  3%|▎         | 6/200 [00:00<00:03, 53.12it/s]"
     ]
    },
    {
     "name": "stdout",
     "output_type": "stream",
     "text": [
      "Completed. Saving\n",
      "135 0.6875\n",
      "\n",
      "---Performing Equlibration---\n",
      "\n"
     ]
    },
    {
     "name": "stderr",
     "output_type": "stream",
     "text": [
      "100%|██████████| 200/200 [00:03<00:00, 53.44it/s]\n",
      "  2%|▏         | 3/200 [00:00<00:06, 29.85it/s]"
     ]
    },
    {
     "name": "stdout",
     "output_type": "stream",
     "text": [
      "\n",
      "---Finished...\n",
      "----Performing MC Moves----\n",
      "\n"
     ]
    },
    {
     "name": "stderr",
     "output_type": "stream",
     "text": [
      "100%|██████████| 200/200 [00:06<00:00, 30.68it/s]\n",
      "  3%|▎         | 6/200 [00:00<00:03, 53.36it/s]"
     ]
    },
    {
     "name": "stdout",
     "output_type": "stream",
     "text": [
      "Completed. Saving\n",
      "136 0.7\n",
      "\n",
      "---Performing Equlibration---\n",
      "\n"
     ]
    },
    {
     "name": "stderr",
     "output_type": "stream",
     "text": [
      "100%|██████████| 200/200 [00:03<00:00, 54.03it/s]\n",
      "  2%|▏         | 3/200 [00:00<00:07, 27.90it/s]"
     ]
    },
    {
     "name": "stdout",
     "output_type": "stream",
     "text": [
      "\n",
      "---Finished...\n",
      "----Performing MC Moves----\n",
      "\n"
     ]
    },
    {
     "name": "stderr",
     "output_type": "stream",
     "text": [
      "100%|██████████| 200/200 [00:06<00:00, 30.02it/s]\n",
      "  3%|▎         | 6/200 [00:00<00:03, 54.30it/s]"
     ]
    },
    {
     "name": "stdout",
     "output_type": "stream",
     "text": [
      "Completed. Saving\n",
      "137 0.7124999999999999\n",
      "\n",
      "---Performing Equlibration---\n",
      "\n"
     ]
    },
    {
     "name": "stderr",
     "output_type": "stream",
     "text": [
      "100%|██████████| 200/200 [00:03<00:00, 53.52it/s]\n",
      "  2%|▏         | 3/200 [00:00<00:06, 29.88it/s]"
     ]
    },
    {
     "name": "stdout",
     "output_type": "stream",
     "text": [
      "\n",
      "---Finished...\n",
      "----Performing MC Moves----\n",
      "\n"
     ]
    },
    {
     "name": "stderr",
     "output_type": "stream",
     "text": [
      "100%|██████████| 200/200 [00:06<00:00, 30.48it/s]\n",
      "  3%|▎         | 6/200 [00:00<00:03, 53.58it/s]"
     ]
    },
    {
     "name": "stdout",
     "output_type": "stream",
     "text": [
      "Completed. Saving\n",
      "138 0.7250000000000001\n",
      "\n",
      "---Performing Equlibration---\n",
      "\n"
     ]
    },
    {
     "name": "stderr",
     "output_type": "stream",
     "text": [
      "100%|██████████| 200/200 [00:03<00:00, 53.79it/s]\n",
      "  2%|▏         | 3/200 [00:00<00:06, 29.76it/s]"
     ]
    },
    {
     "name": "stdout",
     "output_type": "stream",
     "text": [
      "\n",
      "---Finished...\n",
      "----Performing MC Moves----\n",
      "\n"
     ]
    },
    {
     "name": "stderr",
     "output_type": "stream",
     "text": [
      "100%|██████████| 200/200 [00:06<00:00, 30.86it/s]\n"
     ]
    },
    {
     "name": "stdout",
     "output_type": "stream",
     "text": [
      "Completed. Saving\n",
      "139 0.7375\n"
     ]
    },
    {
     "name": "stderr",
     "output_type": "stream",
     "text": [
      "  2%|▎         | 5/200 [00:00<00:04, 47.90it/s]"
     ]
    },
    {
     "name": "stdout",
     "output_type": "stream",
     "text": [
      "\n",
      "---Performing Equlibration---\n",
      "\n"
     ]
    },
    {
     "name": "stderr",
     "output_type": "stream",
     "text": [
      "100%|██████████| 200/200 [00:03<00:00, 51.07it/s]\n",
      "  2%|▏         | 3/200 [00:00<00:06, 28.99it/s]"
     ]
    },
    {
     "name": "stdout",
     "output_type": "stream",
     "text": [
      "\n",
      "---Finished...\n",
      "----Performing MC Moves----\n",
      "\n"
     ]
    },
    {
     "name": "stderr",
     "output_type": "stream",
     "text": [
      "100%|██████████| 200/200 [00:06<00:00, 30.86it/s]\n",
      "  3%|▎         | 6/200 [00:00<00:03, 52.43it/s]"
     ]
    },
    {
     "name": "stdout",
     "output_type": "stream",
     "text": [
      "Completed. Saving\n",
      "140 0.75\n",
      "\n",
      "---Performing Equlibration---\n",
      "\n"
     ]
    },
    {
     "name": "stderr",
     "output_type": "stream",
     "text": [
      "100%|██████████| 200/200 [00:03<00:00, 53.31it/s]\n",
      "  2%|▏         | 4/200 [00:00<00:06, 30.31it/s]"
     ]
    },
    {
     "name": "stdout",
     "output_type": "stream",
     "text": [
      "\n",
      "---Finished...\n",
      "----Performing MC Moves----\n",
      "\n"
     ]
    },
    {
     "name": "stderr",
     "output_type": "stream",
     "text": [
      "100%|██████████| 200/200 [00:06<00:00, 30.32it/s]\n"
     ]
    },
    {
     "name": "stdout",
     "output_type": "stream",
     "text": [
      "Completed. Saving\n",
      "141 0.7625\n"
     ]
    },
    {
     "name": "stderr",
     "output_type": "stream",
     "text": [
      "  3%|▎         | 6/200 [00:00<00:03, 51.96it/s]"
     ]
    },
    {
     "name": "stdout",
     "output_type": "stream",
     "text": [
      "\n",
      "---Performing Equlibration---\n",
      "\n"
     ]
    },
    {
     "name": "stderr",
     "output_type": "stream",
     "text": [
      "100%|██████████| 200/200 [00:03<00:00, 53.97it/s]\n",
      "  2%|▏         | 3/200 [00:00<00:06, 28.62it/s]"
     ]
    },
    {
     "name": "stdout",
     "output_type": "stream",
     "text": [
      "\n",
      "---Finished...\n",
      "----Performing MC Moves----\n",
      "\n"
     ]
    },
    {
     "name": "stderr",
     "output_type": "stream",
     "text": [
      "100%|██████████| 200/200 [00:06<00:00, 29.34it/s]\n"
     ]
    },
    {
     "name": "stdout",
     "output_type": "stream",
     "text": [
      "Completed. Saving\n",
      "142 0.7749999999999999\n",
      "\n",
      "---Performing Equlibration---\n",
      "\n"
     ]
    },
    {
     "name": "stderr",
     "output_type": "stream",
     "text": [
      "100%|██████████| 200/200 [00:03<00:00, 53.08it/s]\n",
      "  2%|▏         | 4/200 [00:00<00:06, 31.11it/s]"
     ]
    },
    {
     "name": "stdout",
     "output_type": "stream",
     "text": [
      "\n",
      "---Finished...\n",
      "----Performing MC Moves----\n",
      "\n"
     ]
    },
    {
     "name": "stderr",
     "output_type": "stream",
     "text": [
      "100%|██████████| 200/200 [00:06<00:00, 30.22it/s]\n",
      "  2%|▎         | 5/200 [00:00<00:03, 49.62it/s]"
     ]
    },
    {
     "name": "stdout",
     "output_type": "stream",
     "text": [
      "Completed. Saving\n",
      "143 0.7875000000000001\n",
      "\n",
      "---Performing Equlibration---\n",
      "\n"
     ]
    },
    {
     "name": "stderr",
     "output_type": "stream",
     "text": [
      "100%|██████████| 200/200 [00:03<00:00, 51.63it/s]\n",
      "  2%|▏         | 3/200 [00:00<00:06, 29.92it/s]"
     ]
    },
    {
     "name": "stdout",
     "output_type": "stream",
     "text": [
      "\n",
      "---Finished...\n",
      "----Performing MC Moves----\n",
      "\n"
     ]
    },
    {
     "name": "stderr",
     "output_type": "stream",
     "text": [
      "100%|██████████| 200/200 [00:06<00:00, 28.89it/s]\n"
     ]
    },
    {
     "name": "stdout",
     "output_type": "stream",
     "text": [
      "Completed. Saving\n",
      "144 0.8\n"
     ]
    },
    {
     "name": "stderr",
     "output_type": "stream",
     "text": [
      "  2%|▎         | 5/200 [00:00<00:04, 48.02it/s]"
     ]
    },
    {
     "name": "stdout",
     "output_type": "stream",
     "text": [
      "\n",
      "---Performing Equlibration---\n",
      "\n"
     ]
    },
    {
     "name": "stderr",
     "output_type": "stream",
     "text": [
      "100%|██████████| 200/200 [00:03<00:00, 50.76it/s]\n",
      "  2%|▏         | 3/200 [00:00<00:07, 27.77it/s]"
     ]
    },
    {
     "name": "stdout",
     "output_type": "stream",
     "text": [
      "\n",
      "---Finished...\n",
      "----Performing MC Moves----\n",
      "\n"
     ]
    },
    {
     "name": "stderr",
     "output_type": "stream",
     "text": [
      "100%|██████████| 200/200 [00:06<00:00, 30.33it/s]\n",
      "  3%|▎         | 6/200 [00:00<00:03, 52.35it/s]"
     ]
    },
    {
     "name": "stdout",
     "output_type": "stream",
     "text": [
      "Completed. Saving\n",
      "145 0.8125\n",
      "\n",
      "---Performing Equlibration---\n",
      "\n"
     ]
    },
    {
     "name": "stderr",
     "output_type": "stream",
     "text": [
      "100%|██████████| 200/200 [00:03<00:00, 52.12it/s]\n",
      "  2%|▏         | 3/200 [00:00<00:07, 27.28it/s]"
     ]
    },
    {
     "name": "stdout",
     "output_type": "stream",
     "text": [
      "\n",
      "---Finished...\n",
      "----Performing MC Moves----\n",
      "\n"
     ]
    },
    {
     "name": "stderr",
     "output_type": "stream",
     "text": [
      "100%|██████████| 200/200 [00:06<00:00, 30.39it/s]\n",
      "  3%|▎         | 6/200 [00:00<00:03, 52.84it/s]"
     ]
    },
    {
     "name": "stdout",
     "output_type": "stream",
     "text": [
      "Completed. Saving\n",
      "146 0.825\n",
      "\n",
      "---Performing Equlibration---\n",
      "\n"
     ]
    },
    {
     "name": "stderr",
     "output_type": "stream",
     "text": [
      "100%|██████████| 200/200 [00:03<00:00, 53.04it/s]\n",
      "  2%|▏         | 3/200 [00:00<00:06, 29.20it/s]"
     ]
    },
    {
     "name": "stdout",
     "output_type": "stream",
     "text": [
      "\n",
      "---Finished...\n",
      "----Performing MC Moves----\n",
      "\n"
     ]
    },
    {
     "name": "stderr",
     "output_type": "stream",
     "text": [
      "100%|██████████| 200/200 [00:06<00:00, 30.75it/s]\n",
      "  3%|▎         | 6/200 [00:00<00:03, 56.88it/s]"
     ]
    },
    {
     "name": "stdout",
     "output_type": "stream",
     "text": [
      "Completed. Saving\n",
      "147 0.8374999999999999\n",
      "\n",
      "---Performing Equlibration---\n",
      "\n"
     ]
    },
    {
     "name": "stderr",
     "output_type": "stream",
     "text": [
      "100%|██████████| 200/200 [00:03<00:00, 53.21it/s]\n",
      "  2%|▏         | 3/200 [00:00<00:06, 29.52it/s]"
     ]
    },
    {
     "name": "stdout",
     "output_type": "stream",
     "text": [
      "\n",
      "---Finished...\n",
      "----Performing MC Moves----\n",
      "\n"
     ]
    },
    {
     "name": "stderr",
     "output_type": "stream",
     "text": [
      "100%|██████████| 200/200 [00:06<00:00, 30.30it/s]\n"
     ]
    },
    {
     "name": "stdout",
     "output_type": "stream",
     "text": [
      "Completed. Saving\n",
      "148 0.8500000000000001\n"
     ]
    },
    {
     "name": "stderr",
     "output_type": "stream",
     "text": [
      "100%|██████████| 200/200 [00:03<00:00, 54.76it/s]\n",
      "  2%|▏         | 3/200 [00:00<00:06, 29.19it/s]"
     ]
    },
    {
     "name": "stdout",
     "output_type": "stream",
     "text": [
      "\n",
      "---Performing Equlibration---\n",
      "\n",
      "\n",
      "---Finished...\n",
      "----Performing MC Moves----\n",
      "\n"
     ]
    },
    {
     "name": "stderr",
     "output_type": "stream",
     "text": [
      "100%|██████████| 200/200 [00:06<00:00, 30.32it/s]\n",
      "  2%|▎         | 5/200 [00:00<00:04, 47.04it/s]"
     ]
    },
    {
     "name": "stdout",
     "output_type": "stream",
     "text": [
      "Completed. Saving\n",
      "149 0.8625\n",
      "\n",
      "---Performing Equlibration---\n",
      "\n"
     ]
    },
    {
     "name": "stderr",
     "output_type": "stream",
     "text": [
      "100%|██████████| 200/200 [00:03<00:00, 53.26it/s]\n",
      "  2%|▏         | 3/200 [00:00<00:06, 29.36it/s]"
     ]
    },
    {
     "name": "stdout",
     "output_type": "stream",
     "text": [
      "\n",
      "---Finished...\n",
      "----Performing MC Moves----\n",
      "\n"
     ]
    },
    {
     "name": "stderr",
     "output_type": "stream",
     "text": [
      "100%|██████████| 200/200 [00:06<00:00, 30.71it/s]\n",
      "  3%|▎         | 6/200 [00:00<00:03, 51.17it/s]"
     ]
    },
    {
     "name": "stdout",
     "output_type": "stream",
     "text": [
      "Completed. Saving\n",
      "150 0.875\n",
      "\n",
      "---Performing Equlibration---\n",
      "\n"
     ]
    },
    {
     "name": "stderr",
     "output_type": "stream",
     "text": [
      "100%|██████████| 200/200 [00:03<00:00, 53.30it/s]\n",
      "  2%|▏         | 4/200 [00:00<00:06, 31.52it/s]"
     ]
    },
    {
     "name": "stdout",
     "output_type": "stream",
     "text": [
      "\n",
      "---Finished...\n",
      "----Performing MC Moves----\n",
      "\n"
     ]
    },
    {
     "name": "stderr",
     "output_type": "stream",
     "text": [
      "100%|██████████| 200/200 [00:06<00:00, 31.06it/s]\n",
      "  0%|          | 0/200 [00:00<?, ?it/s]"
     ]
    },
    {
     "name": "stdout",
     "output_type": "stream",
     "text": [
      "Completed. Saving\n",
      "151 0.8875\n",
      "\n",
      "---Performing Equlibration---\n",
      "\n"
     ]
    },
    {
     "name": "stderr",
     "output_type": "stream",
     "text": [
      "100%|██████████| 200/200 [00:03<00:00, 52.51it/s]\n",
      "  2%|▏         | 4/200 [00:00<00:06, 30.80it/s]"
     ]
    },
    {
     "name": "stdout",
     "output_type": "stream",
     "text": [
      "\n",
      "---Finished...\n",
      "----Performing MC Moves----\n",
      "\n"
     ]
    },
    {
     "name": "stderr",
     "output_type": "stream",
     "text": [
      "100%|██████████| 200/200 [00:06<00:00, 30.39it/s]\n",
      "  3%|▎         | 6/200 [00:00<00:03, 54.62it/s]"
     ]
    },
    {
     "name": "stdout",
     "output_type": "stream",
     "text": [
      "Completed. Saving\n",
      "152 0.8999999999999999\n",
      "\n",
      "---Performing Equlibration---\n",
      "\n"
     ]
    },
    {
     "name": "stderr",
     "output_type": "stream",
     "text": [
      "100%|██████████| 200/200 [00:03<00:00, 53.09it/s]\n",
      "  2%|▏         | 3/200 [00:00<00:07, 25.80it/s]"
     ]
    },
    {
     "name": "stdout",
     "output_type": "stream",
     "text": [
      "\n",
      "---Finished...\n",
      "----Performing MC Moves----\n",
      "\n"
     ]
    },
    {
     "name": "stderr",
     "output_type": "stream",
     "text": [
      "100%|██████████| 200/200 [00:06<00:00, 30.83it/s]\n",
      "  3%|▎         | 6/200 [00:00<00:03, 56.33it/s]"
     ]
    },
    {
     "name": "stdout",
     "output_type": "stream",
     "text": [
      "Completed. Saving\n",
      "153 0.9125000000000001\n",
      "\n",
      "---Performing Equlibration---\n",
      "\n"
     ]
    },
    {
     "name": "stderr",
     "output_type": "stream",
     "text": [
      "100%|██████████| 200/200 [00:03<00:00, 53.71it/s]\n",
      "  2%|▏         | 4/200 [00:00<00:06, 31.77it/s]"
     ]
    },
    {
     "name": "stdout",
     "output_type": "stream",
     "text": [
      "\n",
      "---Finished...\n",
      "----Performing MC Moves----\n",
      "\n"
     ]
    },
    {
     "name": "stderr",
     "output_type": "stream",
     "text": [
      "100%|██████████| 200/200 [00:06<00:00, 30.40it/s]\n"
     ]
    },
    {
     "name": "stdout",
     "output_type": "stream",
     "text": [
      "Completed. Saving\n",
      "154 0.925\n",
      "\n",
      "---Performing Equlibration---\n",
      "\n"
     ]
    },
    {
     "name": "stderr",
     "output_type": "stream",
     "text": [
      "100%|██████████| 200/200 [00:03<00:00, 54.54it/s]\n",
      "  2%|▏         | 3/200 [00:00<00:06, 29.29it/s]"
     ]
    },
    {
     "name": "stdout",
     "output_type": "stream",
     "text": [
      "\n",
      "---Finished...\n",
      "----Performing MC Moves----\n",
      "\n"
     ]
    },
    {
     "name": "stderr",
     "output_type": "stream",
     "text": [
      "100%|██████████| 200/200 [00:06<00:00, 30.17it/s]\n",
      "  0%|          | 0/200 [00:00<?, ?it/s]"
     ]
    },
    {
     "name": "stdout",
     "output_type": "stream",
     "text": [
      "Completed. Saving\n",
      "155 0.9375\n",
      "\n",
      "---Performing Equlibration---\n",
      "\n"
     ]
    },
    {
     "name": "stderr",
     "output_type": "stream",
     "text": [
      "100%|██████████| 200/200 [00:03<00:00, 51.74it/s]\n",
      "  2%|▏         | 3/200 [00:00<00:07, 27.41it/s]"
     ]
    },
    {
     "name": "stdout",
     "output_type": "stream",
     "text": [
      "\n",
      "---Finished...\n",
      "----Performing MC Moves----\n",
      "\n"
     ]
    },
    {
     "name": "stderr",
     "output_type": "stream",
     "text": [
      "100%|██████████| 200/200 [00:06<00:00, 30.22it/s]\n",
      "  3%|▎         | 6/200 [00:00<00:03, 50.97it/s]"
     ]
    },
    {
     "name": "stdout",
     "output_type": "stream",
     "text": [
      "Completed. Saving\n",
      "156 0.95\n",
      "\n",
      "---Performing Equlibration---\n",
      "\n"
     ]
    },
    {
     "name": "stderr",
     "output_type": "stream",
     "text": [
      "100%|██████████| 200/200 [00:03<00:00, 51.32it/s]\n",
      "  2%|▏         | 3/200 [00:00<00:07, 28.06it/s]"
     ]
    },
    {
     "name": "stdout",
     "output_type": "stream",
     "text": [
      "\n",
      "---Finished...\n",
      "----Performing MC Moves----\n",
      "\n"
     ]
    },
    {
     "name": "stderr",
     "output_type": "stream",
     "text": [
      "100%|██████████| 200/200 [00:06<00:00, 30.53it/s]\n",
      "  3%|▎         | 6/200 [00:00<00:03, 55.03it/s]"
     ]
    },
    {
     "name": "stdout",
     "output_type": "stream",
     "text": [
      "Completed. Saving\n",
      "157 0.9624999999999999\n",
      "\n",
      "---Performing Equlibration---\n",
      "\n"
     ]
    },
    {
     "name": "stderr",
     "output_type": "stream",
     "text": [
      "100%|██████████| 200/200 [00:03<00:00, 52.30it/s]\n",
      "  2%|▏         | 3/200 [00:00<00:07, 27.09it/s]"
     ]
    },
    {
     "name": "stdout",
     "output_type": "stream",
     "text": [
      "\n",
      "---Finished...\n",
      "----Performing MC Moves----\n",
      "\n"
     ]
    },
    {
     "name": "stderr",
     "output_type": "stream",
     "text": [
      "100%|██████████| 200/200 [00:06<00:00, 30.44it/s]\n"
     ]
    },
    {
     "name": "stdout",
     "output_type": "stream",
     "text": [
      "Completed. Saving\n",
      "158 0.9750000000000001\n",
      "\n",
      "---Performing Equlibration---\n",
      "\n"
     ]
    },
    {
     "name": "stderr",
     "output_type": "stream",
     "text": [
      "100%|██████████| 200/200 [00:03<00:00, 53.18it/s]\n",
      "  2%|▏         | 3/200 [00:00<00:06, 29.92it/s]"
     ]
    },
    {
     "name": "stdout",
     "output_type": "stream",
     "text": [
      "\n",
      "---Finished...\n",
      "----Performing MC Moves----\n",
      "\n"
     ]
    },
    {
     "name": "stderr",
     "output_type": "stream",
     "text": [
      "100%|██████████| 200/200 [00:06<00:00, 29.88it/s]\n"
     ]
    },
    {
     "name": "stdout",
     "output_type": "stream",
     "text": [
      "Completed. Saving\n",
      "159 0.9875\n"
     ]
    },
    {
     "name": "stderr",
     "output_type": "stream",
     "text": [
      "  3%|▎         | 6/200 [00:00<00:03, 52.78it/s]"
     ]
    },
    {
     "name": "stdout",
     "output_type": "stream",
     "text": [
      "\n",
      "---Performing Equlibration---\n",
      "\n"
     ]
    },
    {
     "name": "stderr",
     "output_type": "stream",
     "text": [
      "100%|██████████| 200/200 [00:03<00:00, 52.30it/s]\n",
      "  2%|▏         | 3/200 [00:00<00:06, 28.81it/s]"
     ]
    },
    {
     "name": "stdout",
     "output_type": "stream",
     "text": [
      "\n",
      "---Finished...\n",
      "----Performing MC Moves----\n",
      "\n"
     ]
    },
    {
     "name": "stderr",
     "output_type": "stream",
     "text": [
      "100%|██████████| 200/200 [00:06<00:00, 30.73it/s]"
     ]
    },
    {
     "name": "stdout",
     "output_type": "stream",
     "text": [
      "Completed. Saving\n"
     ]
    },
    {
     "name": "stderr",
     "output_type": "stream",
     "text": [
      "\n"
     ]
    }
   ],
   "source": [
    "# Need ot define Ising field size as parameter\n",
    "# And number of saves per run as a parameter\n",
    "\n",
    "ising_temp = []\n",
    "ising_J = []\n",
    "m_iter = 160\n",
    "\n",
    "for j in range(m_iter):\n",
    "  Jt = -1 + j/80\n",
    "  print(j, Jt) \n",
    "  \n",
    "  for k in range(200):\n",
    "    ising_J.append(Jt)\n",
    "\n",
    "  ising_data = J2_to_S_func(Jt, 0)\n",
    "  ising_temp.append(ising_data)\n",
    "\n",
    "ising_temp = np.array(ising_temp).reshape(200*m_iter, 20, 20)\n",
    "ising_J = np.array(ising_J)"
   ]
  },
  {
   "cell_type": "code",
   "execution_count": null,
   "metadata": {
    "colab": {
     "base_uri": "https://localhost:8080/"
    },
    "id": "72rsMMvyxhHs",
    "outputId": "7c29d447-8977-43af-85f2-25b981a1b5c8"
   },
   "outputs": [
    {
     "name": "stdout",
     "output_type": "stream",
     "text": [
      "(32000, 20, 20)\n"
     ]
    }
   ],
   "source": [
    "print(ising_temp.shape)\n",
    "\n",
    "for i, im in enumerate(ising_temp):\n",
    "  if im.sum() < 0:\n",
    "    ising_temp[i,:,:] = - im\n",
    "  else:\n",
    "    continue"
   ]
  },
  {
   "cell_type": "code",
   "execution_count": null,
   "metadata": {
    "colab": {
     "base_uri": "https://localhost:8080/"
    },
    "id": "vOTyhkG20QEm",
    "outputId": "ff48d984-9138-4be7-87b3-8113ba0c91b6"
   },
   "outputs": [
    {
     "name": "stdout",
     "output_type": "stream",
     "text": [
      "(32000, 20, 20)\n",
      "(32000, 20, 20, 1) (32000,)\n"
     ]
    }
   ],
   "source": [
    "x_train = np.expand_dims(ising_temp, 3)  \n",
    "y_train = ising_J\n",
    "\n",
    "print(np.array(ising_temp).shape)\n",
    "print(x_train.shape, y_train.shape)"
   ]
  },
  {
   "cell_type": "code",
   "execution_count": null,
   "metadata": {
    "colab": {
     "base_uri": "https://localhost:8080/",
     "height": 943
    },
    "id": "-VUwtxW50a6-",
    "outputId": "38a81357-bf96-4b5c-902f-d127ab4b168f"
   },
   "outputs": [
    {
     "name": "stdout",
     "output_type": "stream",
     "text": [
      "Snapshots of Ising model\n"
     ]
    },
    {
     "data": {
      "image/png": "[encoded data removed]",
      "text/plain": [
       "<Figure size 1440x1440 with 30 Axes>"
      ]
     },
     "metadata": {
      "tags": []
     },
     "output_type": "display_data"
    }
   ],
   "source": [
    "nc = 30 \n",
    "c_scale = int(x_train.shape[0]/nc)\n",
    "\n",
    "rows = int(np.ceil(float(nc)/5))\n",
    "cols = int(np.ceil(float(nc)/rows))\n",
    "\n",
    "print('Snapshots of Ising model')\n",
    "gs2 = gridspec.GridSpec(rows, cols)\n",
    "fig2 = plt.figure(figsize = (4*cols, 4*(1+rows//1.5)))   \n",
    "for i in range(nc):\n",
    "    ax2 = fig2.add_subplot(gs2[i])\n",
    "    ax2.imshow(x_train[i*c_scale,:,:,0], cmap = 'jet', vmin = -1, vmax = 1)\n",
    "    ax2.axis('Off')\n",
    "    # print(x_train[i*c_scale,:,:,0].sum())\n",
    "    # ax2.set_title('Time ' + str(i + 1))\n",
    "plt.show()"
   ]
  },
  {
   "cell_type": "code",
   "execution_count": null,
   "metadata": {
    "colab": {
     "base_uri": "https://localhost:8080/"
    },
    "id": "h7JCHdqL2HYt",
    "outputId": "247a7e55-4c8b-4688-a254-d8cbbae62818"
   },
   "outputs": [
    {
     "data": {
      "text/plain": [
       "1066"
      ]
     },
     "execution_count": 24,
     "metadata": {
      "tags": []
     },
     "output_type": "execute_result"
    }
   ],
   "source": [
    "c_scale"
   ]
  },
  {
   "cell_type": "markdown",
   "metadata": {
    "id": "_HsQ5i-iPPDd"
   },
   "source": [
    "# DC GAN"
   ]
  },
  {
   "cell_type": "code",
   "execution_count": null,
   "metadata": {
    "id": "lJXGF5s30ACf"
   },
   "outputs": [],
   "source": [
    "#x_train_gan = (x_train+1)/2\n",
    "#\n",
    "#for i, im in enumerate(x_train_gan):\n",
    "#  x_train_gan[i,:,:,0] = im[:,:,0] + np.random.normal(loc=0.0, scale=0.1, size=(20,20))"
   ]
  },
  {
   "cell_type": "code",
   "execution_count": null,
   "metadata": {
    "id": "ux3mMZYxR12N"
   },
   "outputs": [],
   "source": [
    "from __future__ import absolute_import\n",
    "from __future__ import division\n",
    "from __future__ import print_function\n",
    "\n",
    "from tensorflow.keras.layers import Activation, Dense, Input\n",
    "from tensorflow.keras.layers import Conv2D, Flatten\n",
    "from tensorflow.keras.layers import Reshape, Conv2DTranspose\n",
    "from tensorflow.keras.layers import LeakyReLU\n",
    "from tensorflow.keras.layers import BatchNormalization\n",
    "from tensorflow.keras.optimizers import RMSprop\n",
    "from tensorflow.keras.models import Model\n",
    "from tensorflow.keras.datasets import mnist\n",
    "from tensorflow.keras.models import load_model\n",
    "\n",
    "def build_generator(inputs, image_size):\n",
    "\n",
    "    image_resize = image_size // 4\n",
    "    kernel_size = 5\n",
    "    layer_filters = [128, 64, 32, 1]\n",
    "\n",
    "    x = Dense(image_resize * image_resize * layer_filters[0])(inputs)\n",
    "    x = Reshape((image_resize, image_resize, layer_filters[0]))(x)\n",
    "\n",
    "    for filters in layer_filters:\n",
    "        # first two convolution layers use strides = 2\n",
    "        # the last two use strides = 1\n",
    "        if filters > layer_filters[-2]:\n",
    "            strides = 2\n",
    "        else:\n",
    "            strides = 1\n",
    "        x = BatchNormalization()(x)\n",
    "        x = Activation('relu')(x)\n",
    "        x = Conv2DTranspose(filters=filters,\n",
    "                            kernel_size=kernel_size,\n",
    "                            strides=strides,\n",
    "                            padding='same')(x)\n",
    "\n",
    "    x = Activation('sigmoid')(x)\n",
    "    generator = Model(inputs, x, name='generator')\n",
    "    return generator\n",
    "\n",
    "\n",
    "def build_discriminator(inputs):\n",
    "\n",
    "    kernel_size = 5\n",
    "    layer_filters = [32, 64, 128, 256]\n",
    "\n",
    "    x = inputs\n",
    "    for filters in layer_filters:\n",
    "        # first 3 convolution layers use strides = 2\n",
    "        # last one uses strides = 1\n",
    "        if filters == layer_filters[-1]:\n",
    "            strides = 1\n",
    "        else:\n",
    "            strides = 2\n",
    "        x = LeakyReLU(alpha=0.2)(x)\n",
    "        x = Conv2D(filters=filters,\n",
    "                   kernel_size=kernel_size,\n",
    "                   strides=strides,\n",
    "                   padding='same')(x)\n",
    "\n",
    "    x = Flatten()(x)\n",
    "    x = Dense(1)(x)\n",
    "    x = Activation('sigmoid')(x)\n",
    "    discriminator = Model(inputs, x, name='discriminator')\n",
    "    return discriminator\n",
    "\n",
    "\n",
    "def train(models, x_train_gan, params):\n",
    "  \n",
    "    generator, discriminator, adversarial = models\n",
    "    batch_size, latent_size, train_steps, model_name = params\n",
    "    save_interval = 500\n",
    "\n",
    "    noise_input = np.random.uniform(-1.0, 1.0, size=[16, latent_size])\n",
    "    train_size = x_train_gan.shape[0]\n",
    "\n",
    "    for i in range(train_steps):\n",
    "        rand_indexes = np.random.randint(0, train_size, size=batch_size)\n",
    "        real_images = x_train_gan[rand_indexes]\n",
    "        noise = np.random.uniform(-1.0, 1.0, size=[batch_size, latent_size])\n",
    "        fake_images = generator.predict(noise)\n",
    "        x = np.concatenate((real_images, fake_images))\n",
    "        y = np.ones([2 * batch_size, 1])\n",
    "        y[batch_size:, :] = 0.0\n",
    "        loss, acc = discriminator.train_on_batch(x, y)\n",
    "        log = \"%d: [discriminator loss: %f, acc: %f]\" % (i, loss, acc)\n",
    "\n",
    "        noise = np.random.uniform(-1.0, 1.0, size=[batch_size, latent_size])\n",
    "        y = np.ones([batch_size, 1])\n",
    "        loss, acc = adversarial.train_on_batch(noise, y)\n",
    "        log = \"%s [adversarial loss: %f, acc: %f]\" % (log, loss, acc)\n",
    "        print(log)\n",
    "\n",
    "        if (i + 1) % save_interval == 0:\n",
    "            plot_images(generator, noise_input=noise_input,\n",
    "                        show=True, step=(i + 1),\n",
    "                        model_name=model_name)\n",
    "            \n",
    "    generator.save(model_name + \".h5\")\n",
    "\n",
    "\n",
    "def plot_images(generator, noise_input, show=True, step=0, model_name=\"gan\"):\n",
    "\n",
    "    os.makedirs(model_name, exist_ok=True)\n",
    "    filename = os.path.join(model_name, \"%05d.png\" % step)\n",
    "    images = generator.predict(noise_input)\n",
    "\n",
    "    plt.figure(figsize=(10, 10))\n",
    "    num_images = images.shape[0]\n",
    "    image_size = images.shape[1]\n",
    "    rows = int(math.sqrt(noise_input.shape[0]))\n",
    "\n",
    "    for i in range(num_images):\n",
    "        plt.subplot(rows, rows, i + 1)\n",
    "        image = np.reshape(images[i], [image_size, image_size])\n",
    "        plt.imshow(image, cmap='gray')\n",
    "        plt.axis('off')\n",
    "    plt.savefig(filename)\n",
    "    if show:\n",
    "        plt.show()\n",
    "    else:\n",
    "        plt.close('all')\n",
    "\n",
    "\n",
    "def build_and_train_models(x_train_gan):\n",
    "\n",
    "    x_train_gan = x_train_gan.astype('float32') \n",
    "    image_size = x_train_gan.shape[1]\n",
    "\n",
    "    model_name = \"DCGAN2_Ising\"\n",
    "\n",
    "    latent_size = 10\n",
    "    batch_size = 64\n",
    "    train_steps = 20000\n",
    "\n",
    "    lr = 2e-4\n",
    "    decay = 6e-7 # 6e-8\n",
    "\n",
    "    input_shape = (image_size, image_size, 1)\n",
    "    inputs = Input(shape=input_shape, name='discriminator_input')\n",
    "    discriminator = build_discriminator(inputs)\n",
    "    optimizer = RMSprop(lr=lr, decay=decay)\n",
    "    discriminator.compile(loss='binary_crossentropy',\n",
    "                          optimizer=optimizer,\n",
    "                          metrics=['accuracy'])\n",
    "    discriminator.summary()\n",
    "\n",
    "    input_shape = (latent_size, )\n",
    "    inputs = Input(shape=input_shape, name='z_input')\n",
    "    generator = build_generator(inputs, image_size)\n",
    "    generator.summary()\n",
    "\n",
    "    optimizer = RMSprop(lr=lr * 0.5, decay=decay * 0.5)\n",
    "    discriminator.trainable = False\n",
    "    adversarial = Model(inputs, discriminator(generator(inputs)), name=model_name)\n",
    "    adversarial.compile(loss='binary_crossentropy', optimizer=optimizer, metrics=['accuracy'])\n",
    "    adversarial.summary()\n",
    "\n",
    "    models = (generator, discriminator, adversarial)\n",
    "    params = (batch_size, latent_size, train_steps, model_name)\n",
    "    train(models, x_train_gan, params)\n",
    "\n",
    "\n",
    "def test_generator(generator):\n",
    "    noise_input = np.random.uniform(-1.0, 1.0, size=[16, 10])\n",
    "    plot_images(generator, noise_input=noise_input, show=True, model_name=\"test_outputs\")\n"
   ]
  },
  {
   "cell_type": "code",
   "execution_count": null,
   "metadata": {
    "colab": {
     "base_uri": "https://localhost:8080/",
     "height": 1000
    },
    "id": "VlDQCqXUVa7z",
    "outputId": "21e93071-fb34-4c77-a8fb-45ce1463cb92"
   },
   "outputs": [],
   "source": [
    "build_and_train_models(x_train_gan)"
   ]
  },
  {
   "cell_type": "markdown",
   "metadata": {
    "id": "PN9uYRwVG5fl"
   },
   "source": [
    "- Try Wassersteit GAN\n",
    "- Try VAE (and then cVAE)"
   ]
  },
  {
   "cell_type": "markdown",
   "metadata": {
    "id": "boJw40NBqR43"
   },
   "source": [
    "# Wasserstein GAN"
   ]
  },
  {
   "cell_type": "code",
   "execution_count": null,
   "metadata": {
    "id": "uZVmVDoss3zD"
   },
   "outputs": [],
   "source": [
    "'''GAN model builder and util functions\n",
    "[1] Radford, Alec, Luke Metz, and Soumith Chintala.\n",
    "\"Unsupervised representation learning with deep convolutional\n",
    "generative adversarial networks.\" arXiv preprint arXiv:1511.06434 (2015).\n",
    "'''\n",
    "\n",
    "\n",
    "from tensorflow.keras.layers import Activation, Dense, Input\n",
    "from tensorflow.keras.layers import Conv2D, Flatten\n",
    "from tensorflow.keras.layers import Reshape, Conv2DTranspose\n",
    "from tensorflow.keras.layers import LeakyReLU\n",
    "from tensorflow.keras.layers import BatchNormalization\n",
    "from tensorflow.keras.layers import concatenate\n",
    "from tensorflow.keras.models import Model\n",
    "\n",
    "import numpy as np\n",
    "import math\n",
    "import matplotlib.pyplot as plt\n",
    "import os\n",
    "\n",
    "def gan_generator(inputs,\n",
    "              image_size,\n",
    "              activation='sigmoid',\n",
    "              labels=None,\n",
    "              codes=None):\n",
    "    \"\"\"Build a Generator Model\n",
    "    Stack of BN-ReLU-Conv2DTranpose to generate fake images.\n",
    "    Output activation is sigmoid instead of tanh in [1].\n",
    "    Sigmoid converges easily.\n",
    "    Arguments:\n",
    "        inputs (Layer): Input layer of the generator (the z-vector)\n",
    "        image_size (int): Target size of one side \n",
    "            (assuming square image)\n",
    "        activation (string): Name of output activation layer\n",
    "        labels (tensor): Input labels\n",
    "        codes (list): 2-dim disentangled codes for InfoGAN\n",
    "    Returns:\n",
    "        Model: Generator Model\n",
    "    \"\"\"\n",
    "    image_resize = image_size // 4\n",
    "    # network parameters\n",
    "    kernel_size = 5\n",
    "    layer_filters = [128, 64, 32, 1]\n",
    "\n",
    "    if labels is not None:\n",
    "        if codes is None:\n",
    "            # ACGAN labels\n",
    "            # concatenate z noise vector and one-hot labels\n",
    "            inputs = [inputs, labels]\n",
    "        else:\n",
    "            # infoGAN codes\n",
    "            # concatenate z noise vector, \n",
    "            # one-hot labels and codes 1 & 2\n",
    "            inputs = [inputs, labels] + codes\n",
    "        x = concatenate(inputs, axis=1)\n",
    "    elif codes is not None:\n",
    "        # generator 0 of StackedGAN\n",
    "        inputs = [inputs, codes]\n",
    "        x = concatenate(inputs, axis=1)\n",
    "    else:\n",
    "        # default input is just 100-dim noise (z-code)\n",
    "        x = inputs\n",
    "\n",
    "    x = Dense(image_resize * image_resize * layer_filters[0])(x)\n",
    "    x = Reshape((image_resize, image_resize, layer_filters[0]))(x)\n",
    "\n",
    "    for filters in layer_filters:\n",
    "        # first two convolution layers use strides = 2\n",
    "        # the last two use strides = 1\n",
    "        if filters > layer_filters[-2]:\n",
    "            strides = 2\n",
    "        else:\n",
    "            strides = 1\n",
    "        x = BatchNormalization()(x)\n",
    "        x = Activation('relu')(x)\n",
    "        x = Conv2DTranspose(filters=filters,\n",
    "                            kernel_size=kernel_size,\n",
    "                            strides=strides,\n",
    "                            padding='same')(x)\n",
    "\n",
    "    if activation is not None:\n",
    "        x = Activation(activation)(x)\n",
    "\n",
    "    # generator output is the synthesized image x\n",
    "    return Model(inputs, x, name='generator')\n",
    "\n",
    "\n",
    "def gan_discriminator(inputs,\n",
    "                  activation='sigmoid',\n",
    "                  num_labels=None,\n",
    "                  num_codes=None):\n",
    "    \"\"\"Build a Discriminator Model\n",
    "    Stack of LeakyReLU-Conv2D to discriminate real from fake\n",
    "    The network does not converge with BN so it is not used here\n",
    "    unlike in [1]\n",
    "    Arguments:\n",
    "        inputs (Layer): Input layer of the discriminator (the image)\n",
    "        activation (string): Name of output activation layer\n",
    "        num_labels (int): Dimension of one-hot labels for ACGAN & InfoGAN\n",
    "        num_codes (int): num_codes-dim Q network as output \n",
    "                    if StackedGAN or 2 Q networks if InfoGAN\n",
    "                    \n",
    "    Returns:\n",
    "        Model: Discriminator Model\n",
    "    \"\"\"\n",
    "    kernel_size = 5\n",
    "    layer_filters = [32, 64, 128, 256]\n",
    "\n",
    "    x = inputs\n",
    "    for filters in layer_filters:\n",
    "        # first 3 convolution layers use strides = 2\n",
    "        # last one uses strides = 1\n",
    "        if filters == layer_filters[-1]:\n",
    "            strides = 1\n",
    "        else:\n",
    "            strides = 2\n",
    "        x = LeakyReLU(alpha=0.2)(x)\n",
    "        x = Conv2D(filters=filters,\n",
    "                   kernel_size=kernel_size,\n",
    "                   strides=strides,\n",
    "                   padding='same')(x)\n",
    "\n",
    "    x = Flatten()(x)\n",
    "    # default output is probability that the image is real\n",
    "    outputs = Dense(1)(x)\n",
    "    if activation is not None:\n",
    "        print(activation)\n",
    "        outputs = Activation(activation)(outputs)\n",
    "\n",
    "    if num_labels:\n",
    "        # ACGAN and InfoGAN have 2nd output\n",
    "        # 2nd output is 10-dim one-hot vector of label\n",
    "        layer = Dense(layer_filters[-2])(x)\n",
    "        labels = Dense(num_labels)(layer)\n",
    "        labels = Activation('softmax', name='label')(labels)\n",
    "        if num_codes is None:\n",
    "            outputs = [outputs, labels]\n",
    "        else:\n",
    "            # InfoGAN have 3rd and 4th outputs\n",
    "            # 3rd output is 1-dim continous Q of 1st c given x\n",
    "            code1 = Dense(1)(layer)\n",
    "            code1 = Activation('sigmoid', name='code1')(code1)\n",
    "\n",
    "            # 4th output is 1-dim continuous Q of 2nd c given x\n",
    "            code2 = Dense(1)(layer)\n",
    "            code2 = Activation('sigmoid', name='code2')(code2)\n",
    "\n",
    "            outputs = [outputs, labels, code1, code2]\n",
    "    elif num_codes is not None:\n",
    "        # StackedGAN Q0 output\n",
    "        # z0_recon is reconstruction of z0 normal distribution\n",
    "        z0_recon =  Dense(num_codes)(x)\n",
    "        z0_recon = Activation('tanh', name='z0')(z0_recon)\n",
    "        outputs = [outputs, z0_recon]\n",
    "\n",
    "    return Model(inputs, outputs, name='discriminator')\n",
    "\n",
    "\n",
    "def train(models, x_train_gan, params):\n",
    "    \"\"\"Train the Discriminator and Adversarial Networks\n",
    "    Alternately train Discriminator and Adversarial networks by batch.\n",
    "    Discriminator is trained first with properly real and fake images.\n",
    "    Adversarial is trained next with fake images pretending to be real\n",
    "    Generate sample images per save_interval.\n",
    "    # Arguments\n",
    "        models (list): Generator, Discriminator, Adversarial models\n",
    "        x_train (tensor): Train images\n",
    "        params (list) : Networks parameters\n",
    "    \"\"\"\n",
    "    # the GAN models\n",
    "    generator, discriminator, adversarial = models\n",
    "    # network parameters\n",
    "    batch_size, latent_size, train_steps, model_name = params\n",
    "    # the generator image is saved every 500 steps\n",
    "    save_interval = 500\n",
    "    # noise vector to see how the generator output \n",
    "    # evolves during training\n",
    "    noise_input = np.random.uniform(-1.0, 1.0, size=[16, latent_size])\n",
    "    # number of elements in train dataset\n",
    "    train_size = x_train_gan.shape[0]\n",
    "    for i in range(train_steps):\n",
    "        # train the discriminator for 1 batch\n",
    "        # 1 batch of real (label=1.0) and fake images (label=0.0)\n",
    "        # randomly pick real images from dataset\n",
    "        rand_indexes = np.random.randint(0,\n",
    "                                         train_size, \n",
    "                                         size=batch_size)\n",
    "        real_images = x_train_gan[rand_indexes]\n",
    "        # generate fake images from noise using generator \n",
    "        # generate noise using uniform distribution\n",
    "        noise = np.random.uniform(-1.0,\n",
    "                                  1.0, \n",
    "                                  size=[batch_size, latent_size])\n",
    "        # generate fake images\n",
    "        fake_images = generator.predict(noise)\n",
    "        # real + fake images = 1 batch of train data\n",
    "        x = np.concatenate((real_images, fake_images))\n",
    "        # label real and fake images\n",
    "        # real images label is 1.0\n",
    "        y = np.ones([2 * batch_size, 1])\n",
    "        # fake images label is 0.0\n",
    "        y[batch_size:, :] = 0.0\n",
    "        # train discriminator network, log the loss and accuracy\n",
    "        loss, acc = discriminator.train_on_batch(x, y)\n",
    "        log = \"%d: [discriminator loss: %f, acc: %f]\" % (i, loss, acc)\n",
    "\n",
    "        # train the adversarial network for 1 batch\n",
    "        # 1 batch of fake images with label=1.0\n",
    "        # since the discriminator weights are frozen \n",
    "        # in adversarial network only the generator is trained\n",
    "        # generate noise using uniform distribution\n",
    "        noise = np.random.uniform(-1.0,\n",
    "                                  1.0, \n",
    "                                  size=[batch_size, latent_size])\n",
    "        # label fake images as real or 1.0\n",
    "        y = np.ones([batch_size, 1])\n",
    "        # train the adversarial network \n",
    "        # note that unlike in discriminator training, \n",
    "        # we do not save the fake images in a variable\n",
    "        # the fake images go to the discriminator input\n",
    "        # of the adversarial for classification\n",
    "        # log the loss and accuracy\n",
    "        loss, acc = adversarial.train_on_batch(noise, y)\n",
    "        log = \"%s [adversarial loss: %f, acc: %f]\" % (log, loss, acc)\n",
    "        print(log)\n",
    "        if (i + 1) % save_interval == 0:\n",
    "            # plot generator images on a periodic basis\n",
    "            plot_images(generator,\n",
    "                        noise_input=noise_input,\n",
    "                        show=False,\n",
    "                        step=(i + 1),\n",
    "                        model_name=model_name)\n",
    "   \n",
    "    # save the model after training the generator\n",
    "    # the trained generator can be reloaded \n",
    "    # for future MNIST digit generation\n",
    "    generator.save(model_name + \".h5\")\n",
    "\n",
    "\n",
    "def gan_plot_images(generator,\n",
    "                noise_input,\n",
    "                noise_label=None,\n",
    "                noise_codes=None,\n",
    "                show=True,\n",
    "                step=0,\n",
    "                model_name=\"gan\"):\n",
    "    \"\"\"Generate fake images and plot them\n",
    "    For visualization purposes, generate fake images\n",
    "    then plot them in a square grid\n",
    "    # Arguments\n",
    "        generator (Model): The Generator Model for \n",
    "            fake images generation\n",
    "        noise_input (ndarray): Array of z-vectors\n",
    "        show (bool): Whether to show plot or not\n",
    "        step (int): Appended to filename of the save images\n",
    "        model_name (string): Model name\n",
    "    \"\"\"\n",
    "    os.makedirs(model_name, exist_ok=True)\n",
    "    filename = os.path.join(model_name, \"%05d.png\" % step)\n",
    "    rows = int(math.sqrt(noise_input.shape[0]))\n",
    "    if noise_label is not None:\n",
    "        noise_input = [noise_input, noise_label]\n",
    "        if noise_codes is not None:\n",
    "            noise_input += noise_codes\n",
    "\n",
    "    images = generator.predict(noise_input)\n",
    "    plt.figure(figsize=(10, 10))\n",
    "    num_images = images.shape[0]\n",
    "    image_size = images.shape[1]\n",
    "    for i in range(num_images):\n",
    "        plt.subplot(rows, rows, i + 1)\n",
    "        image = np.reshape(images[i], [image_size, image_size])\n",
    "        plt.imshow(image, cmap='gray')\n",
    "        plt.axis('off')\n",
    "    plt.savefig(filename)\n",
    "    if show:\n",
    "        plt.show()\n",
    "    else:\n",
    "        plt.close('all')\n",
    "\n",
    "\n",
    "def gan_test_generator(generator):\n",
    "    noise_input = np.random.uniform(-1.0, 1.0, size=[16, 100])\n",
    "    plot_images(generator,\n",
    "                noise_input=noise_input,\n",
    "                show=True,\n",
    "                model_name=\"test_outputs\")"
   ]
  },
  {
   "cell_type": "code",
   "execution_count": null,
   "metadata": {
    "id": "k3HajI_OqBkJ"
   },
   "outputs": [],
   "source": [
    "'''Trains WGAN on MNIST using Keras\n",
    "Trains a GAN using Wassertein loss. Similar to DCGAN except for\n",
    "linear activation in output and use of n_critic training per\n",
    "adversarial training. Discriminator weights are clipped as a\n",
    "requirement of Lipschitz constraint.\n",
    "[1] Radford, Alec, Luke Metz, and Soumith Chintala.\n",
    "\"Unsupervised representation learning with deep convolutional\n",
    "generative adversarial networks.\" arXiv preprint arXiv:1511.06434 (2015).\n",
    "[2] Arjovsky, Martin, Soumith Chintala, and Léon Bottou.\n",
    "\"Wasserstein GAN.\" arXiv preprint arXiv:1701.07875 (2017).\n",
    "'''\n",
    "\n",
    "from __future__ import absolute_import\n",
    "from __future__ import division\n",
    "from __future__ import print_function\n",
    "\n",
    "from tensorflow.keras.layers import Input\n",
    "from tensorflow.keras.optimizers import RMSprop\n",
    "from tensorflow.keras.models import Model\n",
    "from tensorflow.keras.datasets import mnist\n",
    "from tensorflow.keras import backend as K\n",
    "from tensorflow.keras.models import load_model\n",
    "\n",
    "import numpy as np\n",
    "\n",
    "import sys\n",
    "sys.path.append(\"..\")\n",
    "# from lib import gan\n",
    "\n",
    "def train(models, x_train_gan, params):\n",
    "    \"\"\"Train the Discriminator and Adversarial Networks\n",
    "    Alternately train Discriminator and Adversarial\n",
    "    networks by batch.\n",
    "    Discriminator is trained first with properly labelled\n",
    "    real and fake images for n_critic times.\n",
    "    Discriminator weights are clipped as a requirement \n",
    "    of Lipschitz constraint.\n",
    "    Generator is trained next (via Adversarial) with \n",
    "    fake images pretending to be real.\n",
    "    Generate sample images per save_interval\n",
    "    Arguments:\n",
    "        models (list): Generator, Discriminator,\n",
    "            Adversarial models\n",
    "        x_train (tensor): Train images\n",
    "        params (list) : Networks parameters\n",
    "    \"\"\"\n",
    "    # the GAN models\n",
    "    generator, discriminator, adversarial = models\n",
    "    # network parameters\n",
    "    (batch_size, latent_size, n_critic, \n",
    "            clip_value, train_steps, model_name) = params\n",
    "    # the generator image is saved every 500 steps\n",
    "    save_interval = 500\n",
    "    # noise vector to see how the \n",
    "    # generator output evolves during training\n",
    "    noise_input = np.random.uniform(-1.0,\n",
    "                                    1.0, \n",
    "                                    size=[16, latent_size])\n",
    "    # number of elements in train dataset\n",
    "    train_size = x_train_gan.shape[0]\n",
    "    # labels for real data\n",
    "    real_labels = np.ones((batch_size, 1))\n",
    "    for i in range(train_steps):\n",
    "        # train discriminator n_critic times\n",
    "        loss = 0\n",
    "        acc = 0\n",
    "        for _ in range(n_critic):\n",
    "            # train the discriminator for 1 batch\n",
    "            # 1 batch of real (label=1.0) and \n",
    "            # fake images (label=-1.0)\n",
    "            # randomly pick real images from dataset\n",
    "            rand_indexes = np.random.randint(0,\n",
    "                                             train_size, \n",
    "                                             size=batch_size)\n",
    "            real_images = x_train_gan[rand_indexes]\n",
    "            # generate fake images from noise using generator\n",
    "            # generate noise using uniform distribution\n",
    "            noise = np.random.uniform(-1.0,\n",
    "                                      1.0,\n",
    "                                      size=[batch_size, latent_size])\n",
    "            fake_images = generator.predict(noise)\n",
    "\n",
    "            # train the discriminator network\n",
    "            # real data label=1, fake data label=-1\n",
    "            # instead of 1 combined batch of real and fake images,\n",
    "            # train with 1 batch of real data first, then 1 batch\n",
    "            # of fake images.\n",
    "            # this tweak prevents the gradient \n",
    "            # from vanishing due to opposite\n",
    "            # signs of real and fake data labels (i.e. +1 and -1) and \n",
    "            # small magnitude of weights due to clipping.\n",
    "            real_loss, real_acc = \\\n",
    "                discriminator.train_on_batch(real_images,\n",
    "                                             real_labels)\n",
    "            fake_loss, fake_acc = \\\n",
    "                discriminator.train_on_batch(fake_images,\n",
    "                                             -real_labels)\n",
    "            # accumulate average loss and accuracy\n",
    "            loss += 0.5 * (real_loss + fake_loss)\n",
    "            acc += 0.5 * (real_acc + fake_acc)\n",
    "\n",
    "            # clip discriminator weights to satisfy Lipschitz constraint\n",
    "            for layer in discriminator.layers:\n",
    "                weights = layer.get_weights()\n",
    "                weights = [np.clip(weight,\n",
    "                                   -clip_value,\n",
    "                                   clip_value) for weight in weights]\n",
    "                layer.set_weights(weights)\n",
    "\n",
    "        # average loss and accuracy per n_critic training iterations\n",
    "        loss /= n_critic\n",
    "        acc /= n_critic\n",
    "        log = \"%d: [discriminator loss: %f, acc: %f]\" % (i, loss, acc)\n",
    "\n",
    "        # train the adversarial network for 1 batch\n",
    "        # 1 batch of fake images with label=1.0\n",
    "        # since the discriminator weights are frozen in \n",
    "        # adversarial network only the generator is trained\n",
    "        # generate noise using uniform distribution\n",
    "        noise = np.random.uniform(-1.0,\n",
    "                                  1.0,\n",
    "                                  size=[batch_size, latent_size])\n",
    "        # train the adversarial network\n",
    "        # note that unlike in discriminator training,\n",
    "        # we do not save the fake images in a variable\n",
    "        # the fake images go to the discriminator \n",
    "        # input of the adversarial for classification\n",
    "        # fake images are labelled as real\n",
    "        # log the loss and accuracy\n",
    "        loss, acc = adversarial.train_on_batch(noise, real_labels)\n",
    "        log = \"%s [adversarial loss: %f, acc: %f]\" % (log, loss, acc)\n",
    "        print(log)\n",
    "        if (i + 1) % save_interval == 0:\n",
    "            # plot generator images on a periodic basis\n",
    "            gan_plot_images(generator,\n",
    "                            noise_input=noise_input,\n",
    "                            show=True,\n",
    "                            step=(i + 1),\n",
    "                            model_name=model_name)\n",
    "\n",
    "    # save the model after training the generator\n",
    "    # the trained generator can be reloaded \n",
    "    # for future MNIST digit generation\n",
    "    generator.save(model_name + \".h5\")\n",
    "\n",
    "\n",
    "def wasserstein_loss(y_label, y_pred):\n",
    "    return -K.mean(y_label * y_pred)\n",
    "\n",
    "\n",
    "def build_and_train_models(x_train_gan):\n",
    "    \"\"\"Load the dataset, build WGAN discriminator,\n",
    "    generator, and adversarial models.\n",
    "    Call the WGAN train routine.\n",
    "    \"\"\"\n",
    "    \n",
    "    x_train_gan = x_train_gan.astype('float32') \n",
    "    image_size = x_train_gan.shape[1]\n",
    "\n",
    "    model_name = \"wgan_Ising\"\n",
    "    # network parameters\n",
    "    # the latent or z vector is 100-dim\n",
    "    latent_size = 100\n",
    "    # hyper parameters from WGAN paper [2]\n",
    "    n_critic = 5\n",
    "    clip_value = 0.01\n",
    "    batch_size = 64\n",
    "    lr = 1e-5 #5e-5\n",
    "    train_steps = 50000\n",
    "    input_shape = (image_size, image_size, 1)\n",
    "\n",
    "    # build discriminator model\n",
    "    inputs = Input(shape=input_shape, name='discriminator_input')\n",
    "    # WGAN uses linear activation in paper [2]\n",
    "    discriminator = gan_discriminator(inputs, activation='linear')\n",
    "    optimizer = RMSprop(lr=lr)\n",
    "    # WGAN discriminator uses wassertein loss\n",
    "    discriminator.compile(loss=wasserstein_loss,\n",
    "                          optimizer=optimizer,\n",
    "                          metrics=['accuracy'])\n",
    "    discriminator.summary()\n",
    "\n",
    "    # build generator model\n",
    "    input_shape = (latent_size, )\n",
    "    inputs = Input(shape=input_shape, name='z_input')\n",
    "    generator = gan_generator(inputs, image_size)\n",
    "    generator.summary()\n",
    "\n",
    "    # build adversarial model = generator + discriminator\n",
    "    # freeze the weights of discriminator during adversarial training\n",
    "    discriminator.trainable = False\n",
    "    adversarial = Model(inputs,\n",
    "                        discriminator(generator(inputs)),\n",
    "                        name=model_name)\n",
    "    adversarial.compile(loss=wasserstein_loss,\n",
    "                        optimizer=optimizer,\n",
    "                        metrics=['accuracy'])\n",
    "    adversarial.summary()\n",
    "\n",
    "    # train discriminator and adversarial networks\n",
    "    models = (generator, discriminator, adversarial)\n",
    "    params = (batch_size,\n",
    "              latent_size,\n",
    "              n_critic,\n",
    "              clip_value,\n",
    "              train_steps,\n",
    "              model_name)\n",
    "    train(models, x_train_gan, params)"
   ]
  },
  {
   "cell_type": "code",
   "execution_count": null,
   "metadata": {
    "colab": {
     "base_uri": "https://localhost:8080/",
     "height": 1000
    },
    "id": "TDtQ9huI2aUa",
    "outputId": "479eb186-54b6-40ca-dc03-25bc57108edc"
   },
   "outputs": [],
   "source": [
    "build_and_train_models(x_train)"
   ]
  },
  {
   "cell_type": "code",
   "execution_count": null,
   "metadata": {
    "id": "JYID5rC7iLi0"
   },
   "outputs": [],
   "source": [
    "#generator = load_model(args.generator)\n",
    "#gan_test_generator(generator)"
   ]
  },
  {
   "cell_type": "markdown",
   "metadata": {
    "id": "I08auxaDnM41"
   },
   "source": [
    "- Try different T in set - works for -0.4\n",
    "- Set up VAE"
   ]
  },
  {
   "cell_type": "code",
   "execution_count": null,
   "metadata": {
    "id": "yAk3t93Rqsxh"
   },
   "outputs": [],
   "source": []
  },
  {
   "cell_type": "markdown",
   "metadata": {
    "id": "27AjVmCGqX2s"
   },
   "source": [
    "# VAE (AtomAI)"
   ]
  },
  {
   "cell_type": "code",
   "execution_count": null,
   "metadata": {
    "colab": {
     "base_uri": "https://localhost:8080/"
    },
    "id": "aytjh1dTqa5h",
    "outputId": "f6f49162-27e4-4d80-ef22-bdafc0f5e2df"
   },
   "outputs": [
    {
     "name": "stdout",
     "output_type": "stream",
     "text": [
      "Collecting git+https://github.com/ziatdinovmax/atomai@maxdev\n",
      "  Cloning https://github.com/ziatdinovmax/atomai (to revision maxdev) to /tmp/pip-req-build-f3kueacy\n",
      "  Running command git clone -q https://github.com/ziatdinovmax/atomai /tmp/pip-req-build-f3kueacy\n",
      "  Running command git checkout -b maxdev --track origin/maxdev\n",
      "  Switched to a new branch 'maxdev'\n",
      "  Branch 'maxdev' set up to track remote branch 'maxdev' from 'origin'.\n",
      "Requirement already satisfied, skipping upgrade: torch>=1.0.0 in /usr/local/lib/python3.6/dist-packages (from atomai==0.6.2) (1.7.0+cu101)\n",
      "Requirement already satisfied, skipping upgrade: numpy>=1.18.5 in /usr/local/lib/python3.6/dist-packages (from atomai==0.6.2) (1.19.5)\n",
      "Requirement already satisfied, skipping upgrade: scipy>=1.3.0 in /usr/local/lib/python3.6/dist-packages (from atomai==0.6.2) (1.4.1)\n",
      "Requirement already satisfied, skipping upgrade: scikit-learn>=0.22.1 in /usr/local/lib/python3.6/dist-packages (from atomai==0.6.2) (0.22.2.post1)\n",
      "Requirement already satisfied, skipping upgrade: scikit-image==0.16.2 in /usr/local/lib/python3.6/dist-packages (from atomai==0.6.2) (0.16.2)\n",
      "Requirement already satisfied, skipping upgrade: opencv-python>=4.1.0 in /usr/local/lib/python3.6/dist-packages (from atomai==0.6.2) (4.1.2.30)\n",
      "Requirement already satisfied, skipping upgrade: networkx>=2.5 in /usr/local/lib/python3.6/dist-packages (from atomai==0.6.2) (2.5)\n",
      "Collecting mendeleev>=0.6.0\n",
      "\u001b[?25l  Downloading https://files.pythonhosted.org/packages/f0/75/5863bb298aa1390cb9ecb0548a62b8213ef085273f9d3c73e513b9c36214/mendeleev-0.6.1.tar.gz (193kB)\n",
      "\u001b[K     |████████████████████████████████| 194kB 14.0MB/s \n",
      "\u001b[?25hRequirement already satisfied, skipping upgrade: torchvision>=0.2.1 in /usr/local/lib/python3.6/dist-packages (from atomai==0.6.2) (0.8.1+cu101)\n",
      "Requirement already satisfied, skipping upgrade: dataclasses in /usr/local/lib/python3.6/dist-packages (from torch>=1.0.0->atomai==0.6.2) (0.8)\n",
      "Requirement already satisfied, skipping upgrade: future in /usr/local/lib/python3.6/dist-packages (from torch>=1.0.0->atomai==0.6.2) (0.16.0)\n",
      "Requirement already satisfied, skipping upgrade: typing-extensions in /usr/local/lib/python3.6/dist-packages (from torch>=1.0.0->atomai==0.6.2) (3.7.4.3)\n",
      "Requirement already satisfied, skipping upgrade: joblib>=0.11 in /usr/local/lib/python3.6/dist-packages (from scikit-learn>=0.22.1->atomai==0.6.2) (1.0.0)\n",
      "Requirement already satisfied, skipping upgrade: matplotlib!=3.0.0,>=2.0.0 in /usr/local/lib/python3.6/dist-packages (from scikit-image==0.16.2->atomai==0.6.2) (3.2.2)\n",
      "Requirement already satisfied, skipping upgrade: imageio>=2.3.0 in /usr/local/lib/python3.6/dist-packages (from scikit-image==0.16.2->atomai==0.6.2) (2.4.1)\n",
      "Requirement already satisfied, skipping upgrade: PyWavelets>=0.4.0 in /usr/local/lib/python3.6/dist-packages (from scikit-image==0.16.2->atomai==0.6.2) (1.1.1)\n",
      "Requirement already satisfied, skipping upgrade: pillow>=4.3.0 in /usr/local/lib/python3.6/dist-packages (from scikit-image==0.16.2->atomai==0.6.2) (7.0.0)\n",
      "Requirement already satisfied, skipping upgrade: decorator>=4.3.0 in /usr/local/lib/python3.6/dist-packages (from networkx>=2.5->atomai==0.6.2) (4.4.2)\n",
      "Requirement already satisfied, skipping upgrade: pandas in /usr/local/lib/python3.6/dist-packages (from mendeleev>=0.6.0->atomai==0.6.2) (1.1.5)\n",
      "Requirement already satisfied, skipping upgrade: sqlalchemy>=1.3.0 in /usr/local/lib/python3.6/dist-packages (from mendeleev>=0.6.0->atomai==0.6.2) (1.3.23)\n",
      "Collecting colorama\n",
      "  Downloading https://files.pythonhosted.org/packages/44/98/5b86278fbbf250d239ae0ecb724f8572af1c91f4a11edf4d36a206189440/colorama-0.4.4-py2.py3-none-any.whl\n",
      "Collecting pyfiglet\n",
      "\u001b[?25l  Downloading https://files.pythonhosted.org/packages/33/07/fcfdd7a2872f5b348953de35acce1544dab0c1e8368dca54279b1cde5c15/pyfiglet-0.8.post1-py2.py3-none-any.whl (865kB)\n",
      "\u001b[K     |████████████████████████████████| 870kB 24.1MB/s \n",
      "\u001b[?25hRequirement already satisfied, skipping upgrade: python-dateutil>=2.1 in /usr/local/lib/python3.6/dist-packages (from matplotlib!=3.0.0,>=2.0.0->scikit-image==0.16.2->atomai==0.6.2) (2.8.1)\n",
      "Requirement already satisfied, skipping upgrade: cycler>=0.10 in /usr/local/lib/python3.6/dist-packages (from matplotlib!=3.0.0,>=2.0.0->scikit-image==0.16.2->atomai==0.6.2) (0.10.0)\n",
      "Requirement already satisfied, skipping upgrade: kiwisolver>=1.0.1 in /usr/local/lib/python3.6/dist-packages (from matplotlib!=3.0.0,>=2.0.0->scikit-image==0.16.2->atomai==0.6.2) (1.3.1)\n",
      "Requirement already satisfied, skipping upgrade: pyparsing!=2.0.4,!=2.1.2,!=2.1.6,>=2.0.1 in /usr/local/lib/python3.6/dist-packages (from matplotlib!=3.0.0,>=2.0.0->scikit-image==0.16.2->atomai==0.6.2) (2.4.7)\n",
      "Requirement already satisfied, skipping upgrade: pytz>=2017.2 in /usr/local/lib/python3.6/dist-packages (from pandas->mendeleev>=0.6.0->atomai==0.6.2) (2018.9)\n",
      "Requirement already satisfied, skipping upgrade: six>=1.5 in /usr/local/lib/python3.6/dist-packages (from python-dateutil>=2.1->matplotlib!=3.0.0,>=2.0.0->scikit-image==0.16.2->atomai==0.6.2) (1.15.0)\n",
      "Building wheels for collected packages: atomai, mendeleev\n",
      "  Building wheel for atomai (setup.py) ... \u001b[?25l\u001b[?25hdone\n",
      "  Created wheel for atomai: filename=atomai-0.6.2-cp36-none-any.whl size=120266 sha256=4714e1517663ad54dde501d305114323eb58922340d23062f21861d164df9bae\n",
      "  Stored in directory: /tmp/pip-ephem-wheel-cache-9pol1j8m/wheels/bb/c7/8c/0efd34c28b875a0e451edabea2abdcbf8227c4966f6e17bd9d\n",
      "  Building wheel for mendeleev (setup.py) ... \u001b[?25l\u001b[?25hdone\n",
      "  Created wheel for mendeleev: filename=mendeleev-0.6.1-py2.py3-none-any.whl size=174964 sha256=1113b66906d0c007352dbe6f799b6931c78a8c4a6c9a80b2d7ae3ff6f847dec6\n",
      "  Stored in directory: /root/.cache/pip/wheels/fb/28/5d/95e69a718b35dd00169889b0139a692f6c265d399cab3aa097\n",
      "Successfully built atomai mendeleev\n",
      "Installing collected packages: colorama, pyfiglet, mendeleev, atomai\n",
      "Successfully installed atomai-0.6.2 colorama-0.4.4 mendeleev-0.6.1 pyfiglet-0.8.post1\n"
     ]
    }
   ],
   "source": [
    "#!pip install atomai\n",
    "!pip install git+https://github.com/ziatdinovmax/atomai@maxdev --upgrade"
   ]
  },
  {
   "cell_type": "code",
   "execution_count": null,
   "metadata": {
    "id": "QEHaOhbSqmR7"
   },
   "outputs": [],
   "source": [
    "from PIL import Image\n",
    "import atomai as aoi"
   ]
  },
  {
   "cell_type": "code",
   "execution_count": null,
   "metadata": {
    "colab": {
     "base_uri": "https://localhost:8080/"
    },
    "id": "q3cPRfNBq0st",
    "outputId": "d9454b9d-7bcc-43a1-fe46-9a24e58d7bab"
   },
   "outputs": [
    {
     "name": "stdout",
     "output_type": "stream",
     "text": [
      "(32000, 20, 20, 1) -1.0 -0.4636250146802177\n"
     ]
    }
   ],
   "source": [
    "print(x_train.shape, x_train.min(), x_train_gan.min())\n",
    "x_train2 = np.squeeze(x_train)"
   ]
  },
  {
   "cell_type": "code",
   "execution_count": null,
   "metadata": {
    "id": "p-9_WV1Z8Lmq"
   },
   "outputs": [],
   "source": [
    "# x_train2 = np.squeeze(2*x_train_gan - 1)"
   ]
  },
  {
   "cell_type": "code",
   "execution_count": null,
   "metadata": {
    "colab": {
     "base_uri": "https://localhost:8080/",
     "height": 35
    },
    "id": "GQqs5mfSmNuo",
    "outputId": "3cff6b74-ff8e-4c5f-c02a-d0b95a13f1f2"
   },
   "outputs": [
    {
     "data": {
      "application/vnd.google.colaboratory.intrinsic+json": {
       "type": "string"
      },
      "text/plain": [
       "'\\nr = torch.sum(x_reconstr * (1-x_reconstr).sum(), -1)\\nreturn likelihood.mean() - kl_z.mean() - r.mean()\\n'"
      ]
     },
     "execution_count": 35,
     "metadata": {
      "tags": []
     },
     "output_type": "execute_result"
    }
   ],
   "source": [
    "import torch\n",
    "from atomai.losses_metrics import kld_normal\n",
    "\n",
    "class VAE2(aoi.models.VAE):\n",
    "    def __init__(self, in_dim, latent_dim=2, nb_classes=0, seed=0, **kwargs):\n",
    "        args = [in_dim, latent_dim, nb_classes, seed]\n",
    "        super(VAE2, self).__init__(*args, **kwargs)\n",
    "        self.sigmoid_out = True # to ensure correct decoding after training\n",
    "    \n",
    "    def elbo_fn(self, x, x_reconstr, *q_param):\n",
    "        \"\"\"\n",
    "        Calculates ELBO\n",
    "        \"\"\"\n",
    "        # flatten reconstructed and target images\n",
    "        x = x.reshape(-1, 20 * 20)\n",
    "        x_reconstr = x_reconstr.reshape(-1, 20 * 20)\n",
    "        # Sigmoid \"activation\"\n",
    "        beta = 0.10\n",
    "        x_reconstr = 1 / (1 + torch.exp(-beta * x_reconstr))\n",
    "        # Binary cross-entropy\n",
    "        likelihood = (torch.sum(x * torch.log(x_reconstr + 1e-8) +\n",
    "                      (1 - x) * torch.log(1 - x_reconstr + 1e-8), dim=-1))\n",
    "        # KL divergence\n",
    "        kl_z = kld_normal(q_param)\n",
    "        return likelihood.mean() - kl_z.mean()\n",
    "\n",
    "\n",
    "'''\n",
    "r = torch.sum(x_reconstr * (1-x_reconstr).sum(), -1)\n",
    "return likelihood.mean() - kl_z.mean() - r.mean()\n",
    "'''"
   ]
  },
  {
   "cell_type": "code",
   "execution_count": null,
   "metadata": {
    "colab": {
     "base_uri": "https://localhost:8080/",
     "height": 1000
    },
    "id": "ESjYNu8dmTZ6",
    "outputId": "792db922-2164-47d8-fff0-4ca3032ec286"
   },
   "outputs": [
    {
     "name": "stdout",
     "output_type": "stream",
     "text": [
      "Epoch: 1/400, Training loss: 246.7318\n",
      "Epoch: 2/400, Training loss: 169.8742\n",
      "Epoch: 3/400, Training loss: 130.8266\n",
      "Epoch: 4/400, Training loss: 105.8920\n",
      "Epoch: 5/400, Training loss: 88.1601\n",
      "Epoch: 6/400, Training loss: 74.7926\n",
      "Epoch: 7/400, Training loss: 63.9662\n",
      "Epoch: 8/400, Training loss: 53.4032\n",
      "Epoch: 9/400, Training loss: 37.1802\n",
      "Epoch: 10/400, Training loss: 17.4034\n",
      "Epoch: 11/400, Training loss: -2.2890\n",
      "Epoch: 12/400, Training loss: -22.8111\n",
      "Epoch: 13/400, Training loss: -43.9450\n",
      "Epoch: 14/400, Training loss: -66.6455\n",
      "Epoch: 15/400, Training loss: -90.1123\n",
      "Epoch: 16/400, Training loss: -113.1746\n",
      "Epoch: 17/400, Training loss: -136.4398\n",
      "Epoch: 18/400, Training loss: -159.1229\n",
      "Epoch: 19/400, Training loss: -182.0903\n",
      "Epoch: 20/400, Training loss: -205.1400\n",
      "Epoch: 21/400, Training loss: -227.9261\n",
      "Epoch: 22/400, Training loss: -250.3588\n",
      "Epoch: 23/400, Training loss: -272.6327\n",
      "Epoch: 24/400, Training loss: -294.6869\n",
      "Epoch: 25/400, Training loss: -316.6558\n",
      "Epoch: 26/400, Training loss: -338.3606\n",
      "Epoch: 27/400, Training loss: -359.8898\n",
      "Epoch: 28/400, Training loss: -381.3506\n",
      "Epoch: 29/400, Training loss: -402.7866\n",
      "Epoch: 30/400, Training loss: -424.3184\n",
      "Epoch: 31/400, Training loss: -445.7061\n",
      "Epoch: 32/400, Training loss: -467.1272\n",
      "Epoch: 33/400, Training loss: -488.5265\n",
      "Epoch: 34/400, Training loss: -509.9233\n",
      "Epoch: 35/400, Training loss: -531.3566\n",
      "Epoch: 36/400, Training loss: -552.7781\n",
      "Epoch: 37/400, Training loss: -574.1106\n",
      "Epoch: 38/400, Training loss: -595.3703\n",
      "Epoch: 39/400, Training loss: -616.7502\n",
      "Epoch: 40/400, Training loss: -637.9311\n",
      "Epoch: 41/400, Training loss: -659.0090\n",
      "Epoch: 42/400, Training loss: -679.8759\n",
      "Epoch: 43/400, Training loss: -700.4704\n",
      "Epoch: 44/400, Training loss: -720.6296\n",
      "Epoch: 45/400, Training loss: -740.3352\n",
      "Epoch: 46/400, Training loss: -759.2666\n",
      "Epoch: 47/400, Training loss: -777.4281\n",
      "Epoch: 48/400, Training loss: -794.4870\n",
      "Epoch: 49/400, Training loss: -810.6252\n",
      "Epoch: 50/400, Training loss: -825.3370\n",
      "Epoch: 51/400, Training loss: -839.4706\n",
      "Epoch: 52/400, Training loss: -852.3458\n",
      "Epoch: 53/400, Training loss: -864.2885\n",
      "Epoch: 54/400, Training loss: -875.5663\n",
      "Epoch: 55/400, Training loss: -886.1233\n",
      "Epoch: 56/400, Training loss: -895.8406\n",
      "Epoch: 57/400, Training loss: -905.8192\n",
      "Epoch: 58/400, Training loss: -915.0776\n",
      "Epoch: 59/400, Training loss: -923.9382\n",
      "Epoch: 60/400, Training loss: -932.5927\n",
      "Epoch: 61/400, Training loss: -940.8973\n",
      "Epoch: 62/400, Training loss: -948.7035\n",
      "Epoch: 63/400, Training loss: -956.3501\n",
      "Epoch: 64/400, Training loss: -963.6185\n",
      "Epoch: 65/400, Training loss: -970.5853\n",
      "Epoch: 66/400, Training loss: -977.1961\n",
      "Epoch: 67/400, Training loss: -983.1447\n",
      "Epoch: 68/400, Training loss: -988.6056\n",
      "Epoch: 69/400, Training loss: -993.6076\n",
      "Epoch: 70/400, Training loss: -997.8541\n",
      "Epoch: 71/400, Training loss: -1001.5554\n",
      "Epoch: 72/400, Training loss: -1004.7794\n",
      "Epoch: 73/400, Training loss: -1007.5196\n",
      "Epoch: 74/400, Training loss: -1009.9743\n",
      "Epoch: 75/400, Training loss: -1011.9709\n",
      "Epoch: 76/400, Training loss: -1013.8148\n",
      "Epoch: 77/400, Training loss: -1015.3402\n",
      "Epoch: 78/400, Training loss: -1016.5002\n",
      "Epoch: 79/400, Training loss: -1017.7858\n",
      "Epoch: 80/400, Training loss: -1018.8012\n",
      "Epoch: 81/400, Training loss: -1019.6701\n",
      "Epoch: 82/400, Training loss: -1020.4478\n",
      "Epoch: 83/400, Training loss: -1021.0047\n",
      "Epoch: 84/400, Training loss: -1021.5898\n",
      "Epoch: 85/400, Training loss: -1022.1861\n",
      "Epoch: 86/400, Training loss: -1022.7981\n",
      "Epoch: 87/400, Training loss: -1023.2404\n",
      "Epoch: 88/400, Training loss: -1023.4027\n",
      "Epoch: 89/400, Training loss: -1024.0512\n",
      "Epoch: 90/400, Training loss: -1024.3509\n",
      "Epoch: 91/400, Training loss: -1024.7144\n",
      "Epoch: 92/400, Training loss: -1024.8759\n",
      "Epoch: 93/400, Training loss: -1025.2355\n",
      "Epoch: 94/400, Training loss: -1025.4390\n",
      "Epoch: 95/400, Training loss: -1025.7479\n",
      "Epoch: 96/400, Training loss: -1026.0783\n",
      "Epoch: 97/400, Training loss: -1026.0221\n",
      "Epoch: 98/400, Training loss: -1026.4754\n",
      "Epoch: 99/400, Training loss: -1026.4305\n",
      "Epoch: 100/400, Training loss: -1026.5799\n",
      "Epoch: 101/400, Training loss: -1026.9690\n",
      "Epoch: 102/400, Training loss: -1026.9146\n",
      "Epoch: 103/400, Training loss: -1027.2449\n",
      "Epoch: 104/400, Training loss: -1027.1286\n",
      "Epoch: 105/400, Training loss: -1027.5702\n",
      "Epoch: 106/400, Training loss: -1027.4114\n",
      "Epoch: 107/400, Training loss: -1027.8043\n",
      "Epoch: 108/400, Training loss: -1027.9359\n",
      "Epoch: 109/400, Training loss: -1027.8377\n",
      "Epoch: 110/400, Training loss: -1028.0546\n",
      "Epoch: 111/400, Training loss: -1028.2165\n",
      "Epoch: 112/400, Training loss: -1028.2721\n",
      "Epoch: 113/400, Training loss: -1028.2938\n",
      "Epoch: 114/400, Training loss: -1028.3693\n",
      "Epoch: 115/400, Training loss: -1028.5472\n",
      "Epoch: 116/400, Training loss: -1028.6496\n",
      "Epoch: 117/400, Training loss: -1028.6893\n",
      "Epoch: 118/400, Training loss: -1028.7840\n",
      "Epoch: 119/400, Training loss: -1028.2879\n",
      "Epoch: 120/400, Training loss: -1028.9183\n",
      "Epoch: 121/400, Training loss: -1029.0019\n",
      "Epoch: 122/400, Training loss: -1028.6884\n",
      "Epoch: 123/400, Training loss: -1029.0685\n",
      "Epoch: 124/400, Training loss: -1029.0215\n",
      "Epoch: 125/400, Training loss: -1029.2906\n",
      "Epoch: 126/400, Training loss: -1028.9445\n",
      "Epoch: 127/400, Training loss: -1028.9548\n",
      "Epoch: 128/400, Training loss: -1029.2692\n",
      "Epoch: 129/400, Training loss: -1029.4672\n",
      "Epoch: 130/400, Training loss: -1029.5695\n",
      "Epoch: 131/400, Training loss: -1029.4701\n",
      "Epoch: 132/400, Training loss: -1029.5031\n",
      "Epoch: 133/400, Training loss: -1029.2942\n",
      "Epoch: 134/400, Training loss: -1029.4868\n",
      "Epoch: 135/400, Training loss: -1029.7015\n",
      "Epoch: 136/400, Training loss: -1029.4109\n",
      "Epoch: 137/400, Training loss: -1029.7309\n",
      "Epoch: 138/400, Training loss: -1029.7553\n",
      "Epoch: 139/400, Training loss: -1029.9747\n",
      "Epoch: 140/400, Training loss: -1030.0127\n",
      "Epoch: 141/400, Training loss: -1029.5927\n",
      "Epoch: 142/400, Training loss: -1029.7463\n",
      "Epoch: 143/400, Training loss: -1030.0319\n",
      "Epoch: 144/400, Training loss: -1030.0963\n",
      "Epoch: 145/400, Training loss: -1030.1077\n",
      "Epoch: 146/400, Training loss: -1030.0544\n",
      "Epoch: 147/400, Training loss: -1030.1583\n",
      "Epoch: 148/400, Training loss: -1030.2035\n",
      "Epoch: 149/400, Training loss: -1029.8609\n",
      "Epoch: 150/400, Training loss: -1029.7488\n",
      "Epoch: 151/400, Training loss: -1030.2902\n",
      "Epoch: 152/400, Training loss: -1030.3805\n",
      "Epoch: 153/400, Training loss: -1029.9858\n",
      "Epoch: 154/400, Training loss: -1030.1020\n",
      "Epoch: 155/400, Training loss: -1030.3937\n",
      "Epoch: 156/400, Training loss: -1030.0938\n",
      "Epoch: 157/400, Training loss: -1030.0609\n",
      "Epoch: 158/400, Training loss: -1030.2496\n",
      "Epoch: 159/400, Training loss: -1030.5257\n",
      "Epoch: 160/400, Training loss: -1030.0823\n",
      "Epoch: 161/400, Training loss: -1030.2917\n",
      "Epoch: 162/400, Training loss: -1030.5499\n",
      "Epoch: 163/400, Training loss: -1030.1473\n",
      "Epoch: 164/400, Training loss: -1030.5335\n",
      "Epoch: 165/400, Training loss: -1030.7136\n",
      "Epoch: 166/400, Training loss: -1030.6707\n",
      "Epoch: 167/400, Training loss: -1030.7002\n",
      "Epoch: 168/400, Training loss: -1030.6382\n",
      "Epoch: 169/400, Training loss: -1029.9836\n",
      "Epoch: 170/400, Training loss: -1030.6686\n",
      "Epoch: 171/400, Training loss: -1030.4715\n",
      "Epoch: 172/400, Training loss: -1030.7997\n",
      "Epoch: 173/400, Training loss: -1030.8953\n",
      "Epoch: 174/400, Training loss: -1030.5225\n",
      "Epoch: 175/400, Training loss: -1030.7995\n",
      "Epoch: 176/400, Training loss: -1030.7441\n",
      "Epoch: 177/400, Training loss: -1030.6231\n",
      "Epoch: 178/400, Training loss: -1030.7246\n",
      "Epoch: 179/400, Training loss: -1030.9876\n",
      "Epoch: 180/400, Training loss: -1030.5049\n",
      "Epoch: 181/400, Training loss: -1030.9012\n",
      "Epoch: 182/400, Training loss: -1030.6604\n",
      "Epoch: 183/400, Training loss: -1030.5823\n",
      "Epoch: 184/400, Training loss: -1031.1034\n",
      "Epoch: 185/400, Training loss: -1031.0139\n",
      "Epoch: 186/400, Training loss: -1030.8782\n",
      "Epoch: 187/400, Training loss: -1031.0145\n",
      "Epoch: 188/400, Training loss: -1030.6489\n",
      "Epoch: 189/400, Training loss: -1031.0579\n",
      "Epoch: 190/400, Training loss: -1030.8535\n",
      "Epoch: 191/400, Training loss: -1031.0023\n",
      "Epoch: 192/400, Training loss: -1030.8253\n",
      "Epoch: 193/400, Training loss: -1031.1796\n",
      "Epoch: 194/400, Training loss: -1031.2641\n",
      "Epoch: 195/400, Training loss: -1031.2093\n",
      "Epoch: 196/400, Training loss: -1031.2858\n",
      "Epoch: 197/400, Training loss: -1031.2975\n",
      "Epoch: 198/400, Training loss: -1030.5860\n",
      "Epoch: 199/400, Training loss: -1031.3389\n",
      "Epoch: 200/400, Training loss: -1031.3402\n",
      "Epoch: 201/400, Training loss: -1031.3203\n",
      "Epoch: 202/400, Training loss: -1030.6419\n",
      "Epoch: 203/400, Training loss: -1031.2559\n",
      "Epoch: 204/400, Training loss: -1031.3907\n",
      "Epoch: 205/400, Training loss: -1031.2521\n",
      "Epoch: 206/400, Training loss: -1030.8499\n",
      "Epoch: 207/400, Training loss: -1031.3165\n",
      "Epoch: 208/400, Training loss: -1030.9678\n",
      "Epoch: 209/400, Training loss: -1031.4246\n",
      "Epoch: 210/400, Training loss: -1030.8285\n"
     ]
    },
    {
     "ename": "KeyboardInterrupt",
     "evalue": "ignored",
     "output_type": "error",
     "traceback": [
      "\u001b[0;31m---------------------------------------------------------------------------\u001b[0m",
      "\u001b[0;31mKeyboardInterrupt\u001b[0m                         Traceback (most recent call last)",
      "\u001b[0;32m<ipython-input-36-b4cd7426971b>\u001b[0m in \u001b[0;36m<module>\u001b[0;34m()\u001b[0m\n\u001b[1;32m      4\u001b[0m \u001b[0mvae\u001b[0m \u001b[0;34m=\u001b[0m \u001b[0mVAE2\u001b[0m\u001b[0;34m(\u001b[0m\u001b[0minput_dim\u001b[0m\u001b[0;34m)\u001b[0m\u001b[0;34m\u001b[0m\u001b[0;34m\u001b[0m\u001b[0m\n\u001b[1;32m      5\u001b[0m \u001b[0;31m# Train\u001b[0m\u001b[0;34m\u001b[0m\u001b[0;34m\u001b[0m\u001b[0;34m\u001b[0m\u001b[0m\n\u001b[0;32m----> 6\u001b[0;31m \u001b[0mvae\u001b[0m\u001b[0;34m.\u001b[0m\u001b[0mfit\u001b[0m\u001b[0;34m(\u001b[0m\u001b[0mx_train2\u001b[0m\u001b[0;34m,\u001b[0m \u001b[0mtraining_cycles\u001b[0m\u001b[0;34m=\u001b[0m\u001b[0;36m400\u001b[0m\u001b[0;34m,\u001b[0m \u001b[0mbatch_size\u001b[0m\u001b[0;34m=\u001b[0m\u001b[0;36m100\u001b[0m\u001b[0;34m)\u001b[0m\u001b[0;34m\u001b[0m\u001b[0;34m\u001b[0m\u001b[0m\n\u001b[0m",
      "\u001b[0;32m/usr/local/lib/python3.6/dist-packages/atomai/models/dgm/vae.py\u001b[0m in \u001b[0;36mfit\u001b[0;34m(self, X_train, y_train, X_test, y_test, loss, **kwargs)\u001b[0m\n\u001b[1;32m    694\u001b[0m         \u001b[0;32mfor\u001b[0m \u001b[0me\u001b[0m \u001b[0;32min\u001b[0m \u001b[0mrange\u001b[0m\u001b[0;34m(\u001b[0m\u001b[0mself\u001b[0m\u001b[0;34m.\u001b[0m\u001b[0mtraining_cycles\u001b[0m\u001b[0;34m)\u001b[0m\u001b[0;34m:\u001b[0m\u001b[0;34m\u001b[0m\u001b[0;34m\u001b[0m\u001b[0m\n\u001b[1;32m    695\u001b[0m             \u001b[0mself\u001b[0m\u001b[0;34m.\u001b[0m\u001b[0mcurrent_epoch\u001b[0m \u001b[0;34m=\u001b[0m \u001b[0me\u001b[0m\u001b[0;34m\u001b[0m\u001b[0;34m\u001b[0m\u001b[0m\n\u001b[0;32m--> 696\u001b[0;31m             \u001b[0melbo_epoch\u001b[0m \u001b[0;34m=\u001b[0m \u001b[0mself\u001b[0m\u001b[0;34m.\u001b[0m\u001b[0mtrain_epoch\u001b[0m\u001b[0;34m(\u001b[0m\u001b[0;34m)\u001b[0m\u001b[0;34m\u001b[0m\u001b[0;34m\u001b[0m\u001b[0m\n\u001b[0m\u001b[1;32m    697\u001b[0m             \u001b[0mself\u001b[0m\u001b[0;34m.\u001b[0m\u001b[0mloss_history\u001b[0m\u001b[0;34m[\u001b[0m\u001b[0;34m\"train_loss\"\u001b[0m\u001b[0;34m]\u001b[0m\u001b[0;34m.\u001b[0m\u001b[0mappend\u001b[0m\u001b[0;34m(\u001b[0m\u001b[0melbo_epoch\u001b[0m\u001b[0;34m)\u001b[0m\u001b[0;34m\u001b[0m\u001b[0;34m\u001b[0m\u001b[0m\n\u001b[1;32m    698\u001b[0m             \u001b[0;32mif\u001b[0m \u001b[0mself\u001b[0m\u001b[0;34m.\u001b[0m\u001b[0mtest_iterator\u001b[0m \u001b[0;32mis\u001b[0m \u001b[0;32mnot\u001b[0m \u001b[0;32mNone\u001b[0m\u001b[0;34m:\u001b[0m\u001b[0;34m\u001b[0m\u001b[0;34m\u001b[0m\u001b[0m\n",
      "\u001b[0;32m/usr/local/lib/python3.6/dist-packages/atomai/trainers/vitrainer.py\u001b[0m in \u001b[0;36mtrain_epoch\u001b[0;34m(self)\u001b[0m\n\u001b[1;32m    309\u001b[0m             \u001b[0melbo\u001b[0m \u001b[0;34m=\u001b[0m \u001b[0mstep\u001b[0m\u001b[0;34m(\u001b[0m\u001b[0mx\u001b[0m\u001b[0;34m)\u001b[0m \u001b[0;32mif\u001b[0m \u001b[0my\u001b[0m \u001b[0;32mis\u001b[0m \u001b[0;32mNone\u001b[0m \u001b[0;32melse\u001b[0m \u001b[0mstep\u001b[0m\u001b[0;34m(\u001b[0m\u001b[0mx\u001b[0m\u001b[0;34m,\u001b[0m \u001b[0my\u001b[0m\u001b[0;34m)\u001b[0m\u001b[0;34m\u001b[0m\u001b[0;34m\u001b[0m\u001b[0m\n\u001b[1;32m    310\u001b[0m             \u001b[0mloss\u001b[0m \u001b[0;34m=\u001b[0m \u001b[0;34m-\u001b[0m\u001b[0melbo\u001b[0m\u001b[0;34m\u001b[0m\u001b[0;34m\u001b[0m\u001b[0m\n\u001b[0;32m--> 311\u001b[0;31m             \u001b[0mloss\u001b[0m\u001b[0;34m.\u001b[0m\u001b[0mbackward\u001b[0m\u001b[0;34m(\u001b[0m\u001b[0;34m)\u001b[0m\u001b[0;34m\u001b[0m\u001b[0;34m\u001b[0m\u001b[0m\n\u001b[0m\u001b[1;32m    312\u001b[0m             \u001b[0mself\u001b[0m\u001b[0;34m.\u001b[0m\u001b[0moptim\u001b[0m\u001b[0;34m.\u001b[0m\u001b[0mstep\u001b[0m\u001b[0;34m(\u001b[0m\u001b[0;34m)\u001b[0m\u001b[0;34m\u001b[0m\u001b[0;34m\u001b[0m\u001b[0m\n\u001b[1;32m    313\u001b[0m             \u001b[0mself\u001b[0m\u001b[0;34m.\u001b[0m\u001b[0moptim\u001b[0m\u001b[0;34m.\u001b[0m\u001b[0mzero_grad\u001b[0m\u001b[0;34m(\u001b[0m\u001b[0;34m)\u001b[0m\u001b[0;34m\u001b[0m\u001b[0;34m\u001b[0m\u001b[0m\n",
      "\u001b[0;32m/usr/local/lib/python3.6/dist-packages/torch/tensor.py\u001b[0m in \u001b[0;36mbackward\u001b[0;34m(self, gradient, retain_graph, create_graph)\u001b[0m\n\u001b[1;32m    219\u001b[0m                 \u001b[0mretain_graph\u001b[0m\u001b[0;34m=\u001b[0m\u001b[0mretain_graph\u001b[0m\u001b[0;34m,\u001b[0m\u001b[0;34m\u001b[0m\u001b[0;34m\u001b[0m\u001b[0m\n\u001b[1;32m    220\u001b[0m                 create_graph=create_graph)\n\u001b[0;32m--> 221\u001b[0;31m         \u001b[0mtorch\u001b[0m\u001b[0;34m.\u001b[0m\u001b[0mautograd\u001b[0m\u001b[0;34m.\u001b[0m\u001b[0mbackward\u001b[0m\u001b[0;34m(\u001b[0m\u001b[0mself\u001b[0m\u001b[0;34m,\u001b[0m \u001b[0mgradient\u001b[0m\u001b[0;34m,\u001b[0m \u001b[0mretain_graph\u001b[0m\u001b[0;34m,\u001b[0m \u001b[0mcreate_graph\u001b[0m\u001b[0;34m)\u001b[0m\u001b[0;34m\u001b[0m\u001b[0;34m\u001b[0m\u001b[0m\n\u001b[0m\u001b[1;32m    222\u001b[0m \u001b[0;34m\u001b[0m\u001b[0m\n\u001b[1;32m    223\u001b[0m     \u001b[0;32mdef\u001b[0m \u001b[0mregister_hook\u001b[0m\u001b[0;34m(\u001b[0m\u001b[0mself\u001b[0m\u001b[0;34m,\u001b[0m \u001b[0mhook\u001b[0m\u001b[0;34m)\u001b[0m\u001b[0;34m:\u001b[0m\u001b[0;34m\u001b[0m\u001b[0;34m\u001b[0m\u001b[0m\n",
      "\u001b[0;32m/usr/local/lib/python3.6/dist-packages/torch/autograd/__init__.py\u001b[0m in \u001b[0;36mbackward\u001b[0;34m(tensors, grad_tensors, retain_graph, create_graph, grad_variables)\u001b[0m\n\u001b[1;32m    130\u001b[0m     Variable._execution_engine.run_backward(\n\u001b[1;32m    131\u001b[0m         \u001b[0mtensors\u001b[0m\u001b[0;34m,\u001b[0m \u001b[0mgrad_tensors_\u001b[0m\u001b[0;34m,\u001b[0m \u001b[0mretain_graph\u001b[0m\u001b[0;34m,\u001b[0m \u001b[0mcreate_graph\u001b[0m\u001b[0;34m,\u001b[0m\u001b[0;34m\u001b[0m\u001b[0;34m\u001b[0m\u001b[0m\n\u001b[0;32m--> 132\u001b[0;31m         allow_unreachable=True)  # allow_unreachable flag\n\u001b[0m\u001b[1;32m    133\u001b[0m \u001b[0;34m\u001b[0m\u001b[0m\n\u001b[1;32m    134\u001b[0m \u001b[0;34m\u001b[0m\u001b[0m\n",
      "\u001b[0;31mKeyboardInterrupt\u001b[0m: "
     ]
    }
   ],
   "source": [
    "input_dim = (20, 20)\n",
    "\n",
    "# Intitialize model\n",
    "vae = VAE2(input_dim) \n",
    "# Train\n",
    "vae.fit(x_train2, training_cycles=400, batch_size=100)"
   ]
  },
  {
   "cell_type": "code",
   "execution_count": null,
   "metadata": {
    "id": "YLhbKji2qrDh"
   },
   "outputs": [],
   "source": [
    "input_dim = (20, 20)\n",
    "\n",
    "# Intitialize model\n",
    "vae = aoi.models.VAE(input_dim, latent_dim = 2, loss = 'ce') #loss=“ce”\n",
    "# Train\n",
    "vae.fit(x_train2, training_cycles=200, batch_size=100)"
   ]
  },
  {
   "cell_type": "code",
   "execution_count": null,
   "metadata": {
    "id": "rBkj5-Bq8rsM"
   },
   "outputs": [],
   "source": [
    "vae.manifold2d(d=20, origin='upper')"
   ]
  },
  {
   "cell_type": "code",
   "execution_count": null,
   "metadata": {
    "id": "qyMho0yQ43JR"
   },
   "outputs": [],
   "source": [
    "l_mean, l_std = vae.encode(x_train2[:,:,:])\n",
    "\n",
    "plt.figure(figsize = (6,6))\n",
    "plt.scatter(l_mean[:,0], l_mean[:,1], c = y_train, cmap = \"RdBu_r\")\n",
    "plt.show()"
   ]
  },
  {
   "cell_type": "code",
   "execution_count": null,
   "metadata": {
    "id": "z9xGQiSLa65X"
   },
   "outputs": [],
   "source": [
    "# Add GMM and draw samples from GMM\n",
    "\n",
    "#Here we can color-code the experimental image/frame based on the latent variable values\n",
    "\n",
    "from sklearn.mixture import GaussianMixture\n",
    "from sklearn.cluster import KMeans\n",
    "from matplotlib.colors import LogNorm\n",
    "from sklearn import mixture\n",
    "\n",
    "nc = 12\n",
    "z = l_mean\n",
    "\n",
    "gmm = GaussianMixture(n_components=nc, covariance_type='full', random_state=42) #diag\n",
    "gmm_zt = gmm.fit_predict(z)\n",
    "\n",
    "# display predicted scores by the model as a contour plot\n",
    "x = np.linspace(-5., 5.)\n",
    "y = np.linspace(-5., 5.)\n",
    "X, Y = np.meshgrid(x, y)\n",
    "XX = np.array([X.ravel(), Y.ravel()]).T\n",
    "\n",
    "Z = -gmm.score_samples(XX)\n",
    "Z = Z.reshape(X.shape)\n",
    "\n",
    "CS = plt.contour(X, Y, Z, norm=LogNorm(vmin=1.0, vmax=1000.0),\n",
    "                 levels=np.logspace(0, 3, 30))\n",
    "CB = plt.colorbar(CS, shrink=0.8, extend='both')\n",
    "plt.scatter(z[:, 0], z[:, 1], .8)\n",
    "\n",
    "plt.title('Negative log-likelihood predicted by a GMM')\n",
    "plt.axis('tight')\n",
    "plt.show()"
   ]
  },
  {
   "cell_type": "code",
   "execution_count": null,
   "metadata": {
    "id": "1B3zLPaTeEML"
   },
   "outputs": [],
   "source": [
    "new_sample = gmm.sample(3000)[0].T\n",
    "plt.scatter(new_sample[0], new_sample[1])"
   ]
  },
  {
   "cell_type": "code",
   "execution_count": null,
   "metadata": {
    "id": "fGFmaEAfq8HN"
   },
   "outputs": [],
   "source": [
    "import torch\n",
    "a = torch.randn(1, 2, dtype=torch.float)\n",
    "print(a)\n",
    "plt.imshow(vae.decode(a)[0,:,:])"
   ]
  },
  {
   "cell_type": "code",
   "execution_count": null,
   "metadata": {
    "id": "7iv_lBoIdEVT"
   },
   "outputs": [],
   "source": [
    "list_val = []\n",
    "\n",
    "for im in range(40):\n",
    "  for jm in range(40):\n",
    "    i, j = im/20.0-1, jm/20.0-1\n",
    "    a = torch.tensor([i,j], dtype=torch.float)\n",
    "    b = vae.decode(a)[0,:,:]\n",
    "    c = b*(1-b)\n",
    "    #plt.imshow(b)\n",
    "    #plt.show()\n",
    "    list_val.append(c.sum())"
   ]
  },
  {
   "cell_type": "code",
   "execution_count": null,
   "metadata": {
    "id": "VnVf7QLEicLG"
   },
   "outputs": [],
   "source": [
    "d = np.array(list_val).reshape(40,40)\n",
    "plt.imshow(d.T)\n",
    "plt.colorbar()"
   ]
  },
  {
   "cell_type": "code",
   "execution_count": null,
   "metadata": {
    "id": "cNyR3WtvwgyO"
   },
   "outputs": [],
   "source": []
  },
  {
   "cell_type": "markdown",
   "metadata": {
    "id": "hTCrtY0Dwh3F"
   },
   "source": [
    "# Ising model reconstruciton (Mani)"
   ]
  },
  {
   "cell_type": "markdown",
   "metadata": {
    "id": "A64N6nSJwmQA"
   },
   "source": [
    "Ising parameter reconstruction by Mani\n",
    "\n"
   ]
  },
  {
   "cell_type": "markdown",
   "metadata": {
    "id": "EHbYlGTpws2I"
   },
   "source": [
    "https://colab.research.google.com/drive/1_RmvTvNNMS3LsQu5YXixHUmFRTn3CWtE#scrollTo=jhFQmtt4I34r"
   ]
  },
  {
   "cell_type": "code",
   "execution_count": null,
   "metadata": {
    "id": "jhFQmtt4I34r"
   },
   "outputs": [],
   "source": [
    "!gdown --id 1y-jWDha8jmqdk4lDV_et54Jk2wJxKSIP"
   ]
  },
  {
   "cell_type": "code",
   "execution_count": null,
   "metadata": {
    "id": "OqnbJzHhLodY"
   },
   "outputs": [],
   "source": [
    "import pickle\n",
    "import numpy as np\n",
    "import matplotlib.pyplot as plt\n",
    "\n",
    "J1_values = np.linspace(-3.0,3.0,80)\n",
    "J2_values = np.linspace(-3.0,3.0,75)\n",
    "\n",
    "sim_results = pickle.load(open('/content/Ising_configs_J1J2.p', 'rb'))\n",
    "P_sim = np.array(list(sim_results['P']))"
   ]
  },
  {
   "cell_type": "code",
   "execution_count": null,
   "metadata": {
    "id": "a1mvLUtn9fE5"
   },
   "outputs": [],
   "source": [
    "# -*- coding: utf-8 -*-\n",
    "\"\"\"\n",
    "Created on Sat Feb  6 14:47:35 2021\n",
    "\n",
    "@author: 4sv\n",
    "\"\"\"\n",
    "import numpy as np\n",
    "def arrangement(config):\n",
    "    N = config.shape[0]\n",
    "    n_occ = np.zeros(6)\n",
    "    total = N*N\n",
    "    for i in range(N):\n",
    "        for j in range(N):\n",
    "            cen = config[i,j]\n",
    "            a = config[(i+1)%N,j]\n",
    "            b = config[i,(j+1)%N]\n",
    "            c = config[(i-1)%N,j]\n",
    "            d = config[i,(j-1)%N]\n",
    "            nbsum = a+b+c+d\n",
    "            if (cen*nbsum) == 4:\n",
    "                n_occ[0] = n_occ[0]+1\n",
    "            elif (cen*nbsum) == 2:\n",
    "                n_occ[1] = n_occ[1]+1\n",
    "            elif (cen*nbsum) == -2:\n",
    "                n_occ[4] = n_occ[4]+1\n",
    "            elif (cen*nbsum) == -4:\n",
    "                n_occ[5] = n_occ[5]+1\n",
    "            elif nbsum == 0:\n",
    "                if a == c:\n",
    "                    n_occ[3] = n_occ[3]+1\n",
    "                else:\n",
    "                    n_occ[2] = n_occ[2]+1\n",
    "\n",
    "    P = (n_occ*1.0)/total\n",
    "    return P"
   ]
  },
  {
   "cell_type": "code",
   "execution_count": null,
   "metadata": {
    "id": "3UVTrOEs-dMm"
   },
   "outputs": [],
   "source": [
    "list_val_J1 = []\n",
    "list_val_J2 = []\n",
    "\n",
    "for im in range(40):\n",
    "  for jm in range(40):\n",
    "    i, j = im/10.0-2, jm/10.0-2\n",
    "    a = torch.tensor([i,j], dtype=torch.float)\n",
    "    b = vae.decode(a)[0,:,:]\n",
    "\n",
    "    bl = list(map(lambda x: -1 if x<0 else 1, b.ravel())) \n",
    "    #plt.imshow(np.array(bl).reshape(20,20))\n",
    "    #plt.show()\n",
    "\n",
    "    P_im = arrangement(np.array(bl).reshape(20,20))\n",
    "\n",
    "    s = np.zeros(len(J1_values)*len(J2_values))\n",
    "    for i in range(len(s)):\n",
    "      s[i] = np.arccos(np.dot(np.sqrt(P_im),np.sqrt(P_sim[i,:])))\n",
    "\n",
    "    min_index = np.unravel_index(np.argmin(s, axis=None), (len(J1_values),len(J2_values)))\n",
    "    J1 = J1_values[min_index[0]]\n",
    "    J2 = J2_values[min_index[1]]\n",
    "\n",
    "    list_val_J1.append(J1)\n",
    "    list_val_J2.append(J2)"
   ]
  },
  {
   "cell_type": "code",
   "execution_count": null,
   "metadata": {
    "id": "1lknbdnG-7gX"
   },
   "outputs": [],
   "source": [
    "d1, d2 = np.array(list_val_J1).reshape(40,40), np.array(list_val_J2).reshape(40,40)\n",
    "\n",
    "plt.imshow(d1.T, vmin= -1, vmax = 1)\n",
    "plt.colorbar()\n",
    "plt.show()\n",
    "\n",
    "plt.imshow(d2.T, vmin= -1, vmax = 1)\n",
    "plt.colorbar()\n",
    "plt.show()"
   ]
  },
  {
   "cell_type": "markdown",
   "metadata": {
    "id": "TDstVD_hwU-5"
   },
   "source": [
    "# Ising reconstruction - J only"
   ]
  },
  {
   "cell_type": "code",
   "execution_count": null,
   "metadata": {
    "id": "tL6FVgCKREdB"
   },
   "outputs": [],
   "source": [
    "!gdown --id 1gxLViMoanCdQoA8bg9MbX1C8w2yfyCH-\n",
    "J_results = pickle.load(open('Ising_configs_J_only.p', 'rb'))\n",
    "J_values = np.linspace(-3.0,3.0,100)\n",
    "\n",
    "import pickle\n",
    "import numpy as np\n",
    "import matplotlib.pyplot as plt"
   ]
  },
  {
   "cell_type": "code",
   "execution_count": null,
   "metadata": {
    "id": "F0MnvSXMwYke"
   },
   "outputs": [],
   "source": [
    "# Check L values intervals\n",
    "\n",
    "list_val_J = []\n",
    "list_val_s = []\n",
    "\n",
    "P_sim = np.array(list(J_results['P']))\n",
    "\n",
    "for im in range(40):\n",
    "  for jm in range(40):\n",
    "    i, j = im/10.0-2, jm/10.0-2\n",
    "    a = torch.tensor([i,j], dtype=torch.float)\n",
    "    b = vae.decode(a)[0,:,:]\n",
    "\n",
    "    bl = list(map(lambda x: -1 if x<0 else 1, b.ravel())) \n",
    "    #plt.imshow(np.array(bl).reshape(20,20))\n",
    "    #plt.show()\n",
    "\n",
    "    P_im = arrangement(np.array(bl).reshape(20,20))\n",
    "\n",
    "    s = np.zeros(len(J_values))\n",
    "    for i in range(len(s)):\n",
    "      s[i] = np.arccos(np.dot(np.sqrt(P_im),np.sqrt(P_sim[i,:])))\n",
    "\n",
    "    min_index = np.argmin(s)\n",
    "    J = J_values[min_index]\n",
    "    # print(J, np.amin(s))\n",
    "\n",
    "    list_val_J.append(J)\n",
    "    list_val_s.append(min_index)"
   ]
  },
  {
   "cell_type": "code",
   "execution_count": null,
   "metadata": {
    "id": "h0w2RJhn0nlI"
   },
   "outputs": [],
   "source": [
    "d1, d2 = np.array(list_val_J).reshape(40,40), np.array(list_val_s).reshape(40,40)\n",
    "\n",
    "plt.imshow(d1.T, vmin = -2, vmax = 2)\n",
    "plt.colorbar()\n",
    "plt.show()\n",
    "\n",
    "plt.imshow(d2.T)\n",
    "plt.colorbar()\n",
    "plt.show()"
   ]
  },
  {
   "cell_type": "code",
   "execution_count": null,
   "metadata": {
    "id": "tUlTSoBj-a2X"
   },
   "outputs": [],
   "source": [
    "print(x_train.shape, y_train.shape, x_train.min())\n",
    "print(np.array(list_val_J).mean(), np.array(list_val_J).std())"
   ]
  },
  {
   "cell_type": "code",
   "execution_count": null,
   "metadata": {
    "id": "reyqg5pq8ncq"
   },
   "outputs": [],
   "source": [
    "# Compare real J, reconstructed J, J after encoding-decoding\n",
    "\n",
    "list_val_J_real = []\n",
    "list_val_J_image = []\n",
    "list_val_J_ed = []\n",
    "\n",
    "for ic in range(x_train.shape[0]):\n",
    "\n",
    "  if ic%100 == 0:\n",
    "    print('Step ', ic)\n",
    "\n",
    "  # Real value\n",
    "  list_val_J_real.append(y_train[ic])\n",
    "\n",
    "  #Value from image\n",
    "  P_im = arrangement(x_train[ic,:,:,0])\n",
    "\n",
    "  s = np.zeros(len(J_values))\n",
    "  for i in range(len(s)):\n",
    "    s[i] = np.arccos(np.dot(np.sqrt(P_im),np.sqrt(P_sim[i,:])))\n",
    "\n",
    "  min_index = np.argmin(s)\n",
    "  J = J_values[min_index]\n",
    "  list_val_J_image.append(J)\n",
    "\n",
    "  #Value after encoding-decoding\n",
    "\n",
    "  a_mean, a_sd = vae.encode(x_train[ic,:,:,0])\n",
    "  b = vae.decode(a_mean)[0,:,:]\n",
    "\n",
    "  #if ic%100 == 0:\n",
    "  #  plt.imshow(b)\n",
    "  #  plt.show()\n",
    "\n",
    "  bl = list(map(lambda x: -1 if x<0 else 1, b.ravel())) \n",
    "  P_im = arrangement(np.array(bl).reshape(20,20))\n",
    "\n",
    "  s = np.zeros(len(J_values))\n",
    "  for i in range(len(s)):\n",
    "    s[i] = np.arccos(np.dot(np.sqrt(P_im),np.sqrt(P_sim[i,:])))\n",
    "\n",
    "  min_index = np.argmin(s)\n",
    "  J = J_values[min_index]    \n",
    "  list_val_J_ed.append(J)"
   ]
  },
  {
   "cell_type": "code",
   "execution_count": null,
   "metadata": {
    "id": "wXF5TDCdAOqH"
   },
   "outputs": [],
   "source": [
    "plt.scatter(np.arange(len(y_train)), list_val_J_real)\n",
    "plt.scatter(np.arange(len(y_train)), list_val_J_image)\n",
    "plt.scatter(np.arange(len(y_train)), list_val_J_ed)"
   ]
  },
  {
   "cell_type": "code",
   "execution_count": null,
   "metadata": {
    "id": "x-1E0eN1ClSv"
   },
   "outputs": [],
   "source": [
    "plt.scatter(list_val_J_real, list_val_J_image)\n",
    "plt.scatter(list_val_J_real, list_val_J_ed)"
   ]
  },
  {
   "cell_type": "code",
   "execution_count": null,
   "metadata": {
    "id": "Jvb9r6cUC0r3"
   },
   "outputs": [],
   "source": [
    "import seaborn as sns\n",
    "import pandas as pd\n",
    "\n",
    "from scipy.stats import gaussian_kde\n",
    "import matplotlib.ticker as mtick\n",
    "\n",
    "data = np.vstack((list_val_J_real, list_val_J_image, list_val_J_ed)).T\n",
    "data = pd.DataFrame(data, columns=['J_real', 'J_image', 'J_ed'])\n",
    "\n",
    "data.tail()"
   ]
  },
  {
   "cell_type": "code",
   "execution_count": null,
   "metadata": {
    "id": "OsKtLc4IEBcE"
   },
   "outputs": [],
   "source": [
    "arr_i = []\n",
    "\n",
    "for i, val in enumerate(list(data['J_real']. unique())):\n",
    "  col_temp = data[data['J_real']==val]\n",
    "  arr_i.append((val, col_temp['J_image'].mean(), col_temp['J_image'].std(),\n",
    "                col_temp['J_ed'].mean(), col_temp['J_ed'].std()))\n",
    "  \n",
    "arr_i = np.array(arr_i)"
   ]
  },
  {
   "cell_type": "code",
   "execution_count": null,
   "metadata": {
    "id": "zniAk7bUGRhR"
   },
   "outputs": [],
   "source": [
    "plt.errorbar(arr_i[:,0],arr_i[:,1],arr_i[:,2])\n",
    "plt.errorbar(arr_i[:,0],arr_i[:,3],arr_i[:,4])\n",
    "plt.plot((-1, 1),(-1,1))"
   ]
  },
  {
   "cell_type": "code",
   "execution_count": null,
   "metadata": {
    "id": "0Jd1sPq1aEUN"
   },
   "outputs": [],
   "source": [
    "import numpy as np\n",
    "import matplotlib.pyplot as plt\n",
    "from matplotlib.colors import LogNorm\n",
    "from sklearn import mixture\n",
    "\n",
    "n_samples = 300\n",
    "\n",
    "# generate random sample, two components\n",
    "np.random.seed(0)\n",
    "\n",
    "# generate spherical data centered on (20, 20)\n",
    "shifted_gaussian = np.random.randn(n_samples, 2) + np.array([20, 20])\n",
    "\n",
    "# generate zero centered stretched Gaussian data\n",
    "C = np.array([[0., -0.7], [3.5, .7]])\n",
    "stretched_gaussian = np.dot(np.random.randn(n_samples, 2), C)\n",
    "\n",
    "# concatenate the two datasets into the final training set\n",
    "X_train = np.vstack([shifted_gaussian, stretched_gaussian])\n",
    "\n",
    "# fit a Gaussian Mixture Model with two components\n",
    "clf = mixture.GaussianMixture(n_components=2, covariance_type='full')\n",
    "clf.fit(X_train)\n",
    "\n",
    "# display predicted scores by the model as a contour plot\n",
    "x = np.linspace(-20., 30.)\n",
    "y = np.linspace(-20., 40.)\n",
    "X, Y = np.meshgrid(x, y)\n",
    "XX = np.array([X.ravel(), Y.ravel()]).T\n",
    "Z = -clf.score_samples(XX)\n",
    "Z = Z.reshape(X.shape)\n",
    "\n",
    "CS = plt.contour(X, Y, Z, norm=LogNorm(vmin=1.0, vmax=1000.0),\n",
    "                 levels=np.logspace(0, 3, 10))\n",
    "CB = plt.colorbar(CS, shrink=0.8, extend='both')\n",
    "plt.scatter(X_train[:, 0], X_train[:, 1], .8)\n",
    "\n",
    "plt.title('Negative log-likelihood predicted by a GMM')\n",
    "plt.axis('tight')\n",
    "plt.show()"
   ]
  },
  {
   "cell_type": "code",
   "execution_count": null,
   "metadata": {
    "id": "2dMxaC4faFIE"
   },
   "outputs": [],
   "source": []
  },
  {
   "cell_type": "markdown",
   "metadata": {
    "id": "kLsID4bXZ2XG"
   },
   "source": [
    "# Offset VAE (Pyro)"
   ]
  },
  {
   "cell_type": "code",
   "execution_count": null,
   "metadata": {
    "id": "Dg3x_Om3PXOZ"
   },
   "outputs": [],
   "source": [
    "!pip install pyro-ppl"
   ]
  },
  {
   "cell_type": "markdown",
   "metadata": {
    "id": "wAP4x9Yqfshe"
   },
   "source": [
    "Imports:"
   ]
  },
  {
   "cell_type": "code",
   "execution_count": null,
   "metadata": {
    "id": "0kKilarHepi-"
   },
   "outputs": [],
   "source": [
    "from typing import Optional, Tuple, Type, Union\n",
    "\n",
    "import matplotlib.pyplot as plt\n",
    "import numpy as np\n",
    "import pyro\n",
    "import pyro.distributions as dist\n",
    "import pyro.infer as infer\n",
    "import pyro.optim as optim\n",
    "import torch\n",
    "import torch.nn as nn\n",
    "import torch.tensor as tt\n",
    "from scipy.stats import norm\n",
    "from torchvision import datasets, transforms\n",
    "from torchvision.utils import make_grid"
   ]
  },
  {
   "cell_type": "code",
   "execution_count": null,
   "metadata": {
    "cellView": "form",
    "id": "nJvRO-sPe0mx"
   },
   "outputs": [],
   "source": [
    "#@title Load encoder and decoder NN architectures\n",
    "def make_fc_layers(in_dim: int,\n",
    "                   hidden_dim: int = 128,\n",
    "                   num_layers: int = 2,\n",
    "                   activation: str = \"tanh\"\n",
    "                   ) -> Type[nn.Module]:\n",
    "    activations = {\"tanh\": nn.Tanh, \"lrelu\": nn.LeakyReLU, \"softplus\": nn.Softplus}\n",
    "    fc_layers = []\n",
    "    for i in range(num_layers):\n",
    "        hidden_dim_ = in_dim if i == 0 else hidden_dim\n",
    "        fc_layers.extend(\n",
    "            [nn.Linear(hidden_dim_, hidden_dim),\n",
    "            activations[activation]()])\n",
    "    fc_layers = nn.Sequential(*fc_layers)\n",
    "    return fc_layers\n",
    "\n",
    "\n",
    "class fcEncoderNet(nn.Module):\n",
    "\n",
    "    def __init__(self,\n",
    "                 in_dim: Tuple[int],\n",
    "                 latent_dim: int = 2,\n",
    "                 hidden_dim:int = 128,\n",
    "                 num_layers: int = 2,\n",
    "                 activation: str = 'tanh',\n",
    "                 softplus_out: bool = False\n",
    "                 ) -> None:\n",
    "        super(fcEncoderNet, self).__init__()\n",
    "        if len(in_dim) not in [1, 2, 3]:\n",
    "            raise ValueError(\"in_dim must be (h, w), (h, w, c), or (h*w*c,)\")\n",
    "        self.in_dim = torch.prod(tt(in_dim)).item()\n",
    "\n",
    "        self.fc_layers = make_fc_layers(\n",
    "            self.in_dim, hidden_dim, num_layers, activation)\n",
    "        self.fc11 = nn.Linear(hidden_dim, latent_dim)\n",
    "        self.fc12 = nn.Linear(hidden_dim, latent_dim)\n",
    "        self.activation_out = nn.Softplus() if softplus_out else lambda x: x\n",
    "\n",
    "    def forward(self, x: torch.Tensor) -> Tuple[torch.Tensor]:\n",
    "        x = x.view(-1, self.in_dim)\n",
    "        x = self.fc_layers(x)\n",
    "        mu = self.fc11(x)\n",
    "        log_sigma = self.activation_out(self.fc12(x))\n",
    "        return mu, log_sigma\n",
    "\n",
    "\n",
    "class rDecoderNet(nn.Module):\n",
    "\n",
    "    def __init__(self,\n",
    "                 out_dim: Tuple[int],\n",
    "                 latent_dim: int,\n",
    "                 hidden_dim:int = 128,\n",
    "                 num_layers: int = 2,\n",
    "                 activation: str = 'tanh',\n",
    "                 sigmoid_out: str = 'sigmoid'\n",
    "                 ) -> None:\n",
    "        super(rDecoderNet, self).__init__()\n",
    "        if len(out_dim) not in [1, 2, 3]:\n",
    "            raise ValueError(\"in_dim must be (h, w), (h, w, c), or (h*w*c,)\")\n",
    "        self.reshape = out_dim\n",
    "        out_dim = torch.prod(tt(out_dim)).item()\n",
    "\n",
    "        self.coord_latent = coord_latent(latent_dim, hidden_dim)\n",
    "        self.fc_layers = make_fc_layers(\n",
    "            hidden_dim, hidden_dim, num_layers, activation)\n",
    "        self.out = nn.Linear(hidden_dim, 1) # need to generalize to multi-channel (c > 1)\n",
    "        self.activation_out = nn.Sigmoid() if sigmoid_out else lambda x: x\n",
    "\n",
    "    def forward(self, x_coord: torch.Tensor, z: torch.Tensor) -> torch.Tensor:\n",
    "        x = self.coord_latent(x_coord, z)\n",
    "        x = self.fc_layers(x)\n",
    "        x = self.activation_out(self.out(x))\n",
    "        return x.view(-1, *self.reshape)\n",
    "\n",
    "\n",
    "class coord_latent(nn.Module):\n",
    "    \n",
    "    def __init__(self,\n",
    "                 latent_dim: int,\n",
    "                 out_dim: int,\n",
    "                 activation_out: bool = True) -> None:\n",
    "\n",
    "        super(coord_latent, self).__init__()\n",
    "        self.fc_coord = nn.Linear(2, out_dim)\n",
    "        self.fc_latent = nn.Linear(latent_dim, out_dim, bias=False)\n",
    "        self.activation = nn.Tanh() if activation_out else None\n",
    "\n",
    "    def forward(self,\n",
    "                x_coord: torch.Tensor,\n",
    "                z: torch.Tensor) -> torch.Tensor:\n",
    "\n",
    "        batch_dim, n = x_coord.size()[:2]\n",
    "        x_coord = x_coord.reshape(batch_dim * n, -1)\n",
    "        h_x = self.fc_coord(x_coord)\n",
    "        h_x = h_x.reshape(batch_dim, n, -1)\n",
    "        h_z = self.fc_latent(z)\n",
    "        h = h_x.add(h_z.unsqueeze(1))\n",
    "        h = h.reshape(batch_dim * n, -1)\n",
    "        if self.activation is not None:\n",
    "            h = self.activation(h)\n",
    "        return h"
   ]
  },
  {
   "cell_type": "code",
   "execution_count": null,
   "metadata": {
    "cellView": "form",
    "id": "oEuCL9NUU46F"
   },
   "outputs": [],
   "source": [
    "#@title Load functions for working with coordinate grid\n",
    "def grid2xy(X1: torch.Tensor, X2: torch.Tensor) -> torch.Tensor:\n",
    "    X = torch.cat((X1[None], X2[None]), 0)\n",
    "    d0, d1 = X.shape[0], X.shape[1] * X.shape[2]\n",
    "    X = X.reshape(d0, d1).T\n",
    "    return X\n",
    "\n",
    "\n",
    "def imcoordgrid(im_dim: Tuple) -> torch.Tensor:\n",
    "    xx = torch.linspace(-1, 1, im_dim[0])\n",
    "    yy = torch.linspace(1, -1, im_dim[1])\n",
    "    x0, x1 = torch.meshgrid(xx, yy)\n",
    "    return grid2xy(x0, x1)\n",
    "\n",
    "\n",
    "def transform_coordinates(coord: torch.Tensor,\n",
    "                          phi: Union[torch.Tensor, float] = 0,\n",
    "                          coord_dx: Union[torch.Tensor, float] = 0,\n",
    "                          ) -> torch.Tensor:\n",
    "\n",
    "    if torch.sum(phi) == 0:\n",
    "        phi = coord.new_zeros(coord.shape[0])\n",
    "    rotmat_r1 = torch.stack([torch.cos(phi), torch.sin(phi)], 1)\n",
    "    rotmat_r2 = torch.stack([-torch.sin(phi), torch.cos(phi)], 1)\n",
    "    rotmat = torch.stack([rotmat_r1, rotmat_r2], axis=1)\n",
    "    coord = torch.bmm(coord, rotmat)\n",
    "\n",
    "    return coord + coord_dx"
   ]
  },
  {
   "cell_type": "code",
   "execution_count": null,
   "metadata": {
    "id": "4yRC88ZsejMg"
   },
   "outputs": [],
   "source": [
    "batch_size = 32\n",
    "# Select dataset\n",
    "dataset = np.squeeze(x_train_gan)\n",
    "\n",
    "train_set = torch.utils.data.dataset.TensorDataset(\n",
    "    torch.from_numpy(dataset[:, None]).float())\n",
    "train_loader = torch.utils.data.DataLoader(\n",
    "    dataset=train_set, batch_size=batch_size, shuffle=True)"
   ]
  },
  {
   "cell_type": "code",
   "execution_count": null,
   "metadata": {
    "id": "pzspKc6u6Zh_"
   },
   "outputs": [],
   "source": [
    "fig, axes = plt.subplots(10, 10, figsize=(8, 8),\n",
    "                         subplot_kw={'xticks':[], 'yticks':[]},\n",
    "                         gridspec_kw=dict(hspace=0.1, wspace=0.1))\n",
    "\n",
    "for ax, (img,) in zip(axes.flat, train_loader):\n",
    "    ax.imshow(img[0, 0], cmap='gnuplot', interpolation='nearest')"
   ]
  },
  {
   "cell_type": "markdown",
   "metadata": {
    "id": "9p2WCUNmeZjC"
   },
   "source": [
    "Define rVAE as a probabilistic model:"
   ]
  },
  {
   "cell_type": "code",
   "execution_count": null,
   "metadata": {
    "id": "Un3RJSKzrWQ6"
   },
   "outputs": [],
   "source": [
    "class rVAE(nn.Module):\n",
    "    \"\"\"\n",
    "    rVAE as probabilistic Pyro model\n",
    "    \"\"\"\n",
    "    def __init__(self,\n",
    "                 in_dim: Tuple[int],\n",
    "                 latent_dim: int = 2,\n",
    "                 coord: int = 3,\n",
    "                 hidden_dim_e: int = 128,\n",
    "                 hidden_dim_d: int = 128,\n",
    "                 num_layers_e: int = 2,\n",
    "                 num_layers_d: int = 2,\n",
    "                 activation: str = \"tanh\",\n",
    "                 softplus_sd: bool = True,\n",
    "                 sigmoid_out: bool = True,\n",
    "                 **kwargs\n",
    "                 ) -> None:\n",
    "        \"\"\"\n",
    "        Initializes rVAE parameters including setting up encoder and decoder\n",
    "        neural networks\n",
    "        \"\"\"\n",
    "        super(rVAE, self).__init__()\n",
    "        self.device = 'cuda' if torch.cuda.is_available() else 'cpu'\n",
    "        self.encoder = fcEncoderNet(\n",
    "            in_dim, latent_dim+coord, hidden_dim_e,\n",
    "            num_layers_e, activation, softplus_sd)\n",
    "        self.decoder = rDecoderNet(\n",
    "            in_dim, latent_dim, hidden_dim_d,\n",
    "            num_layers_d, activation, sigmoid_out)\n",
    "        self.z_dim = latent_dim + coord\n",
    "        self.coord = coord\n",
    "        self.grid = imcoordgrid(in_dim)\n",
    "        self.dx_prior = kwargs.get(\"dx_prior\", 0.1)\n",
    "        self.to(self.device)\n",
    "\n",
    "    def model(self, x: torch.Tensor) -> torch.Tensor:\n",
    "        \"\"\"\n",
    "        Defines the model p(x|z)p(z)\n",
    "        \"\"\"\n",
    "        # register PyTorch module `decoder` with Pyro\n",
    "        pyro.module(\"decoder\", self.decoder)\n",
    "        reshape_ = torch.prod(tt(x.shape[1:])).item()\n",
    "        with pyro.plate(\"data\", x.shape[0]):\n",
    "            # setup hyperparameters for prior p(z)\n",
    "            z_loc = x.new_zeros(torch.Size((x.shape[0], self.z_dim)))\n",
    "            z_scale = x.new_ones(torch.Size((x.shape[0], self.z_dim)))\n",
    "            # sample from prior (value will be sampled by guide when computing the ELBO)\n",
    "            z = pyro.sample(\"latent\", dist.Normal(z_loc, z_scale).to_event(1))\n",
    "            # split latent variable into parts for rotation and/or translation and image content\n",
    "            phi, dx = tt(0), tt(0)\n",
    "            # rotation + translation\n",
    "            if self.coord == 3: \n",
    "                phi = z[:, 0] # encoded angle\n",
    "                dx = z[:, 1:3]  # translation\n",
    "                z = z[:, 3:]  # image content\n",
    "            # translation only\n",
    "            elif self.coord == 2:\n",
    "                dx = z[:, :2]\n",
    "                z = z[:, 2:]\n",
    "            # rotation only\n",
    "            elif self.coord == 1: \n",
    "                phi = z[:, 0]\n",
    "                z = z[:, 1:]\n",
    "            if torch.sum(dx) != 0:\n",
    "                dx = (dx * self.dx_prior).unsqueeze(1)\n",
    "            # transform coordinate grid\n",
    "            grid = self.grid.expand(x.shape[0], *self.grid.shape).to(self.device)\n",
    "            x_coord_prime = transform_coordinates(grid, phi, dx)\n",
    "            # decode the latent code z + the stransformed grid\n",
    "            loc_img = self.decoder(x_coord_prime, z)\n",
    "            # score against actual images (basically \"binary cross-entropy loss\")\n",
    "            pyro.sample(\n",
    "                \"obs\", dist.Bernoulli(loc_img.view(-1, reshape_)).to_event(1),\n",
    "                obs=x.view(-1, reshape_))\n",
    "    \n",
    "    def guide(self, x: torch.Tensor) -> torch.Tensor:\n",
    "        \"\"\"\n",
    "        Defines the guide (i.e. variational distribution) q(z|x)\n",
    "        \"\"\"\n",
    "        # register PyTorch module `encoder` with Pyro\n",
    "        pyro.module(\"encoder\", self.encoder)\n",
    "        with pyro.plate(\"data\", x.shape[0]):\n",
    "            # use the encoder to get the parameters used to define q(z|x)\n",
    "            z_loc, z_scale = self.encoder(x)\n",
    "            # sample the latent code z\n",
    "            pyro.sample(\"latent\", dist.Normal(z_loc, z_scale).to_event(1))"
   ]
  },
  {
   "cell_type": "markdown",
   "metadata": {
    "id": "6Yqf4jdQf9u1"
   },
   "source": [
    "Define stochastic variational inference (SVI) trainer class for model training and evaluation:"
   ]
  },
  {
   "cell_type": "code",
   "execution_count": null,
   "metadata": {
    "id": "gDRK73enf9DX"
   },
   "outputs": [],
   "source": [
    "class SVItrainer:\n",
    "    \"\"\"\n",
    "    Stochastic variational inference (SVI) trainer for variational models\n",
    "    \"\"\"\n",
    "\n",
    "    def __init__(self,\n",
    "                 model: Type[nn.Module],\n",
    "                 optimizer: Type[optim.PyroOptim] = None,\n",
    "                 loss: Type[infer.ELBO] = None,\n",
    "                 seed: int = 1\n",
    "                 ) -> None:\n",
    "        \"\"\"\n",
    "        Initializes trainer parameters\n",
    "        \"\"\"\n",
    "        torch.manual_seed(seed)\n",
    "        if torch.cuda.is_available():\n",
    "            torch.cuda.empty_cache()\n",
    "            torch.cuda.manual_seed_all(seed)\n",
    "            torch.backends.cudnn.deterministic = True\n",
    "            torch.backends.cudnn.benchmark = False\n",
    "        pyro.clear_param_store()\n",
    "        self.device = 'cuda' if torch.cuda.is_available() else 'cpu'\n",
    "        if optimizer is None:\n",
    "            optimizer = optim.Adam({\"lr\": 1.0e-3})\n",
    "        if loss is None:\n",
    "            loss = infer.Trace_ELBO()\n",
    "        self.svi = infer.SVI(model.model, model.guide, optimizer, loss=loss)\n",
    "        self.loss_history = {\"training_loss\": [], \"test_loss\": []}\n",
    "        self.current_epoch = 0\n",
    "\n",
    "    def train(self, train_loader: Type[torch.utils.data.DataLoader]) -> float:\n",
    "        \"\"\"\n",
    "        Train a single epoch\n",
    "        \"\"\"\n",
    "        # initialize loss accumulator\n",
    "        epoch_loss = 0.\n",
    "        # do a training epoch over each mini-batch x returned\n",
    "        # by the data loader\n",
    "        for data in train_loader:\n",
    "            if len(data) == 1:  # VAE mode\n",
    "                x = data[0]\n",
    "                loss = self.svi.step(x.to(self.device))\n",
    "            else:  # VED or cVAE mode\n",
    "                x, y = data\n",
    "                loss = self.svi.step(x.to(self.device), y.to(self.device))\n",
    "            # do ELBO gradient and accumulate loss\n",
    "            epoch_loss += loss\n",
    "\n",
    "        return epoch_loss / len(train_loader.dataset)\n",
    "\n",
    "    def evaluate(self, test_loader: Type[torch.utils.data.DataLoader]) -> float:\n",
    "        \"\"\"\n",
    "        Evaluate current models state on a single epoch\n",
    "        \"\"\"\n",
    "        # initialize loss accumulator\n",
    "        test_loss = 0.\n",
    "        # compute the loss over the entire test set\n",
    "        with torch.no_grad():\n",
    "            for data in test_loader:\n",
    "                if len(data) == 1:  # VAE mode\n",
    "                    x = data[0]\n",
    "                    loss = self.svi.step(x.to(self.device))\n",
    "                else:  # VED or cVAE mode\n",
    "                    x, y = data\n",
    "                    loss = self.svi.step(x.to(self.device), y.to(self.device))\n",
    "                test_loss += loss\n",
    "\n",
    "        return test_loss / len(test_loader.dataset)\n",
    "\n",
    "    def step(self,\n",
    "             train_loader: Type[torch.utils.data.DataLoader],\n",
    "             test_loader: Optional[Type[torch.utils.data.DataLoader]] = None\n",
    "             ) -> None:\n",
    "        \"\"\"\n",
    "        Single training and (optionally) evaluation step \n",
    "        \"\"\"\n",
    "        self.loss_history[\"training_loss\"].append(self.train(train_loader))\n",
    "        if test_loader is not None:\n",
    "            self.loss_history[\"test_loss\"].append(self.evaluate(test_loader))\n",
    "        self.current_epoch += 1\n",
    "\n",
    "    def print_statistics(self) -> None:\n",
    "        \"\"\"\n",
    "        Print training and test (if any) losses for current epoch\n",
    "        \"\"\"\n",
    "        e = self.current_epoch\n",
    "        if len(self.loss_history[\"test_loss\"]) > 0:\n",
    "            template = 'Epoch: {} Training loss: {:.4f}, Test loss: {:.4f}'\n",
    "            print(template.format(e, self.loss_history[\"training_loss\"][-1],\n",
    "                                  self.loss_history[\"test_loss\"][-1]))\n",
    "        else:\n",
    "            template = 'Epoch: {} Training loss: {:.4f}'\n",
    "            print(template.format(e, self.loss_history[\"training_loss\"][-1]))\n"
   ]
  },
  {
   "cell_type": "markdown",
   "metadata": {
    "id": "Trs1NJjWhLV6"
   },
   "source": [
    "Train our model:\n",
    "\n",
    "(note: for datasets with large rotations it is better to train for up to ~1000 epochs)"
   ]
  },
  {
   "cell_type": "code",
   "execution_count": null,
   "metadata": {
    "id": "QITN3ia4eABd"
   },
   "outputs": [],
   "source": [
    "in_dim = (20, 20)\n",
    "# Initialize probabilistic model\n",
    "# coord=1: rotations only\n",
    "# coord=2: translations only\n",
    "# coord=3: rotations+translations\n",
    "vae = rVAE(in_dim, latent_dim=2, coord=2, dx_prior=0.05)\n",
    "# Initialize SVI trainer\n",
    "trainer = SVItrainer(vae)\n",
    "# Train for n epochs:\n",
    "for _ in range(250):\n",
    "    trainer.step(train_loader)\n",
    "    trainer.print_statistics()"
   ]
  },
  {
   "cell_type": "code",
   "execution_count": null,
   "metadata": {
    "id": "avMdCi5FHXU1"
   },
   "outputs": [],
   "source": [
    "plt.plot(trainer.loss_history[\"training_loss\"])\n",
    "plt.yscale(\"log\")"
   ]
  },
  {
   "cell_type": "markdown",
   "metadata": {
    "id": "sHVXs7AKhRF1"
   },
   "source": [
    "Plot a learned manifold:"
   ]
  },
  {
   "cell_type": "code",
   "execution_count": null,
   "metadata": {
    "id": "s-56r_YkpIF-"
   },
   "outputs": [],
   "source": [
    "d = 9\n",
    "\n",
    "device = 'cuda' if torch.cuda.is_available else 'cpu'\n",
    "\n",
    "# Sweep over linearly spaced coordinates transformed through the\n",
    "# inverse CDF of a gaussian since the prior of the latent\n",
    "# space is gaussian\n",
    "grid_x = norm.ppf(torch.linspace(0.05, 0.95, d))\n",
    "grid_y = norm.ppf(torch.linspace(0.05, 0.95, d))\n",
    "loc_img_all = []\n",
    "for i, yi in enumerate(grid_x):\n",
    "    for j, xi in enumerate(grid_y):\n",
    "        z_sample = torch.tensor([xi, yi]).float().to(device)\n",
    "        x_coord = imcoordgrid((20, 20)).to(device)\n",
    "        loc_img = vae.decoder(x_coord[None], z_sample[None]).detach().cpu()\n",
    "        loc_img_all.append(loc_img)\n",
    "loc_img_all = torch.cat(loc_img_all)\n",
    "\n",
    "grid = make_grid(loc_img_all[:, None], nrow=d, padding=2, pad_value=1)\n",
    "plt.figure(figsize=(8, 8))\n",
    "plt.imshow(grid[0], cmap='gnuplot')"
   ]
  },
  {
   "cell_type": "markdown",
   "metadata": {
    "id": "qaXxa30jiCNX"
   },
   "source": [
    "Now let's train with \"wrong\" (i.e., very small) prior for offset:"
   ]
  },
  {
   "cell_type": "code",
   "execution_count": null,
   "metadata": {
    "id": "nGfghIIG_AaF"
   },
   "outputs": [],
   "source": [
    "in_dim = (20, 20)\n",
    "# Initialize probabilistic model\n",
    "vae = rVAE(in_dim, latent_dim=2, coord=2, dx_prior=0.1) # adjust dx prior\n",
    "# Initialize SVI trainer\n",
    "trainer = SVItrainer(vae)\n",
    "# Train for n epochs:\n",
    "for _ in range(250):\n",
    "    trainer.step(train_loader)\n",
    "    trainer.print_statistics()"
   ]
  },
  {
   "cell_type": "code",
   "execution_count": null,
   "metadata": {
    "id": "4JKDVRcylGsN"
   },
   "outputs": [],
   "source": [
    "plt.plot(trainer.loss_history[\"training_loss\"])\n",
    "plt.yscale(\"log\")"
   ]
  },
  {
   "cell_type": "markdown",
   "metadata": {
    "id": "6P4eBpUsiOZq"
   },
   "source": [
    "Plot a learned manifold:"
   ]
  },
  {
   "cell_type": "code",
   "execution_count": null,
   "metadata": {
    "id": "Z-mO3QQhiOaY"
   },
   "outputs": [],
   "source": [
    "d = 9\n",
    "\n",
    "device = 'cuda' if torch.cuda.is_available else 'cpu'\n",
    "\n",
    "# Sweep over linearly spaced coordinates transformed through the\n",
    "# inverse CDF of a gaussian since the prior of the latent\n",
    "# space is gaussian\n",
    "grid_x = norm.ppf(torch.linspace(0.05, 0.95, d))\n",
    "grid_y = norm.ppf(torch.linspace(0.05, 0.95, d))\n",
    "loc_img_all = []\n",
    "for i, yi in enumerate(grid_x):\n",
    "    for j, xi in enumerate(grid_y):\n",
    "        z_sample = torch.tensor([xi, yi]).float().to(device)\n",
    "        x_coord = imcoordgrid((20, 20)).to(device)\n",
    "        loc_img = vae.decoder(x_coord[None], z_sample[None]).detach().cpu()\n",
    "        loc_img_all.append(loc_img)\n",
    "loc_img_all = torch.cat(loc_img_all)\n",
    "\n",
    "grid = make_grid(loc_img_all[:, None], nrow=d, padding=2, pad_value=1)\n",
    "plt.figure(figsize=(8, 8))\n",
    "plt.imshow(grid[0], cmap='gnuplot')"
   ]
  },
  {
   "cell_type": "code",
   "execution_count": null,
   "metadata": {
    "id": "Z1tGZ0hF_ePl"
   },
   "outputs": [],
   "source": []
  }
 ],
 "metadata": {
  "accelerator": "GPU",
  "colab": {
   "collapsed_sections": [],
   "name": "Ising_GAN.ipynb",
   "provenance": []
  },
  "kernelspec": {
   "display_name": "Python 3",
   "language": "python",
   "name": "python3"
  },
  "language_info": {
   "codemirror_mode": {
    "name": "ipython",
    "version": 3
   },
   "file_extension": ".py",
   "mimetype": "text/x-python",
   "name": "python",
   "nbconvert_exporter": "python",
   "pygments_lexer": "ipython3",
   "version": "3.8.8"
  }
 },
 "nbformat": 4,
 "nbformat_minor": 1
}
